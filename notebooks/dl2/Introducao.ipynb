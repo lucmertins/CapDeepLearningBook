{
 "cells": [
  {
   "source": [
    "## Introdução e prelinares"
   ],
   "cell_type": "markdown",
   "metadata": {}
  },
  {
   "cell_type": "code",
   "execution_count": 1,
   "id": "measured-oxygen",
   "metadata": {},
   "outputs": [],
   "source": [
    "import mxnet as mx\n",
    "from mxnet import np, npx"
   ]
  },
  {
   "cell_type": "code",
   "execution_count": 2,
   "id": "moderate-chest",
   "metadata": {},
   "outputs": [],
   "source": [
    "npx.set_np()"
   ]
  },
  {
   "cell_type": "code",
   "execution_count": 3,
   "id": "4e266642-752f-4466-9d33-d6e581460e85",
   "metadata": {},
   "outputs": [
    {
     "output_type": "execute_result",
     "data": {
      "text/plain": [
       "(array([ 0.,  1.,  2.,  3.,  4.,  5.,  6.,  7.,  8.,  9., 10., 11.]),\n",
       " mxnet.numpy.ndarray)"
      ]
     },
     "metadata": {},
     "execution_count": 3
    }
   ],
   "source": [
    "x=np.arange(12)\n",
    "x,type(x)"
   ]
  },
  {
   "cell_type": "code",
   "execution_count": 4,
   "id": "ef0d9703-d6ba-451e-92fb-6bfd8be1cc50",
   "metadata": {},
   "outputs": [
    {
     "output_type": "execute_result",
     "data": {
      "text/plain": [
       "(12,)"
      ]
     },
     "metadata": {},
     "execution_count": 4
    }
   ],
   "source": [
    "x.shape"
   ]
  },
  {
   "cell_type": "code",
   "execution_count": 5,
   "metadata": {},
   "outputs": [
    {
     "output_type": "execute_result",
     "data": {
      "text/plain": [
       "12"
      ]
     },
     "metadata": {},
     "execution_count": 5
    }
   ],
   "source": [
    "x.size"
   ]
  },
  {
   "cell_type": "code",
   "execution_count": 6,
   "metadata": {},
   "outputs": [
    {
     "output_type": "execute_result",
     "data": {
      "text/plain": [
       "array([[ 0.,  1.,  2.,  3.],\n",
       "       [ 4.,  5.,  6.,  7.],\n",
       "       [ 8.,  9., 10., 11.]])"
      ]
     },
     "metadata": {},
     "execution_count": 6
    }
   ],
   "source": [
    "x=x.reshape(3,4)\n",
    "x"
   ]
  },
  {
   "cell_type": "code",
   "execution_count": 7,
   "metadata": {},
   "outputs": [
    {
     "output_type": "execute_result",
     "data": {
      "text/plain": [
       "array([[ 0.,  1.,  2.,  3.],\n",
       "       [ 4.,  5.,  6.,  7.],\n",
       "       [ 8.,  9., 10., 11.]])"
      ]
     },
     "metadata": {},
     "execution_count": 7
    }
   ],
   "source": [
    "X=np.arange(12).reshape(3,4)\n",
    "Y=np.array([[2,1,4,3], [1,2,3,4], [4,3,2,1]])\n",
    "X"
   ]
  },
  {
   "cell_type": "code",
   "execution_count": 8,
   "metadata": {},
   "outputs": [
    {
     "output_type": "execute_result",
     "data": {
      "text/plain": [
       "array([[2., 1., 4., 3.],\n",
       "       [1., 2., 3., 4.],\n",
       "       [4., 3., 2., 1.]])"
      ]
     },
     "metadata": {},
     "execution_count": 8
    }
   ],
   "source": [
    "Y"
   ]
  },
  {
   "cell_type": "code",
   "execution_count": 9,
   "metadata": {},
   "outputs": [
    {
     "output_type": "execute_result",
     "data": {
      "text/plain": [
       "(array([[ 0.,  1.,  2.,  3.],\n",
       "        [ 4.,  5.,  6.,  7.],\n",
       "        [ 8.,  9., 10., 11.],\n",
       "        [ 2.,  1.,  4.,  3.],\n",
       "        [ 1.,  2.,  3.,  4.],\n",
       "        [ 4.,  3.,  2.,  1.]]),\n",
       " array([[ 0.,  1.,  2.,  3.,  2.,  1.,  4.,  3.],\n",
       "        [ 4.,  5.,  6.,  7.,  1.,  2.,  3.,  4.],\n",
       "        [ 8.,  9., 10., 11.,  4.,  3.,  2.,  1.]]))"
      ]
     },
     "metadata": {},
     "execution_count": 9
    }
   ],
   "source": [
    "np.concatenate([X, Y], axis=0), np.concatenate([X, Y], axis=1)"
   ]
  },
  {
   "cell_type": "code",
   "execution_count": 10,
   "metadata": {},
   "outputs": [
    {
     "output_type": "execute_result",
     "data": {
      "text/plain": [
       "array([[False,  True, False,  True],\n",
       "       [False, False, False, False],\n",
       "       [False, False, False, False]])"
      ]
     },
     "metadata": {},
     "execution_count": 10
    }
   ],
   "source": [
    "X==Y"
   ]
  },
  {
   "cell_type": "code",
   "execution_count": 11,
   "metadata": {},
   "outputs": [
    {
     "output_type": "execute_result",
     "data": {
      "text/plain": [
       "array([[1.],\n",
       "       [2.],\n",
       "       [3.]])"
      ]
     },
     "metadata": {},
     "execution_count": 11
    }
   ],
   "source": [
    "x=np.array([1,2,3]).reshape(3,1)\n",
    "x"
   ]
  },
  {
   "cell_type": "code",
   "execution_count": 12,
   "metadata": {},
   "outputs": [
    {
     "output_type": "execute_result",
     "data": {
      "text/plain": [
       "array([[1., 2.]])"
      ]
     },
     "metadata": {},
     "execution_count": 12
    }
   ],
   "source": [
    "y=np.array([1,2]).reshape(1,2)\n",
    "y"
   ]
  },
  {
   "cell_type": "code",
   "execution_count": 13,
   "metadata": {},
   "outputs": [
    {
     "output_type": "execute_result",
     "data": {
      "text/plain": [
       "array([[2., 3.],\n",
       "       [3., 4.],\n",
       "       [4., 5.]])"
      ]
     },
     "metadata": {},
     "execution_count": 13
    }
   ],
   "source": [
    "x+y"
   ]
  },
  {
   "cell_type": "code",
   "execution_count": 14,
   "metadata": {},
   "outputs": [
    {
     "output_type": "execute_result",
     "data": {
      "text/plain": [
       "(array([[ 0.,  1.,  2.,  3.],\n",
       "        [ 4.,  5.,  6.,  7.],\n",
       "        [ 8.,  9., 10., 11.]]),\n",
       " array([[2., 1., 4., 3.],\n",
       "        [1., 2., 3., 4.],\n",
       "        [4., 3., 2., 1.]]))"
      ]
     },
     "metadata": {},
     "execution_count": 14
    }
   ],
   "source": [
    "X,Y"
   ]
  },
  {
   "cell_type": "code",
   "execution_count": 15,
   "metadata": {},
   "outputs": [
    {
     "output_type": "execute_result",
     "data": {
      "text/plain": [
       "array([ 8.,  9., 10., 11.])"
      ]
     },
     "metadata": {},
     "execution_count": 15
    }
   ],
   "source": [
    "X[-1]"
   ]
  },
  {
   "cell_type": "code",
   "execution_count": 16,
   "metadata": {},
   "outputs": [
    {
     "output_type": "execute_result",
     "data": {
      "text/plain": [
       "array([[ 4.,  5.,  6.,  7.],\n",
       "       [ 8.,  9., 10., 11.]])"
      ]
     },
     "metadata": {},
     "execution_count": 16
    }
   ],
   "source": [
    "X[1:3]"
   ]
  },
  {
   "cell_type": "code",
   "execution_count": 17,
   "metadata": {},
   "outputs": [
    {
     "output_type": "execute_result",
     "data": {
      "text/plain": [
       "array([[ 0., 13., 13.,  3.],\n",
       "       [ 4., 13., 13.,  7.],\n",
       "       [ 8., 13., 13., 11.]])"
      ]
     },
     "metadata": {},
     "execution_count": 17
    }
   ],
   "source": [
    "X[0:3, 1:3]=13\n",
    "X"
   ]
  },
  {
   "cell_type": "code",
   "execution_count": 18,
   "metadata": {},
   "outputs": [
    {
     "output_type": "execute_result",
     "data": {
      "text/plain": [
       "(array([[False,  True,  True, False],\n",
       "        [ True,  True,  True,  True],\n",
       "        [ True,  True,  True,  True]]),\n",
       " array([[ 0., 13., 13.,  3.],\n",
       "        [ 4., 13., 13.,  7.],\n",
       "        [ 8., 13., 13., 11.]]),\n",
       " array([[2., 1., 4., 3.],\n",
       "        [1., 2., 3., 4.],\n",
       "        [4., 3., 2., 1.]]))"
      ]
     },
     "metadata": {},
     "execution_count": 18
    }
   ],
   "source": [
    "X>Y,X,Y"
   ]
  },
  {
   "cell_type": "code",
   "execution_count": 19,
   "metadata": {},
   "outputs": [
    {
     "output_type": "execute_result",
     "data": {
      "text/plain": [
       "(array([[[ 0.,  1.],\n",
       "         [ 2.,  3.],\n",
       "         [ 4.,  5.],\n",
       "         [ 6.,  7.],\n",
       "         [ 8.,  9.],\n",
       "         [10., 11.]]]),\n",
       " array([ 0.,  1.,  2.,  3.,  4.,  5.,  6.,  7.,  8.,  9., 10., 11.]))"
      ]
     },
     "metadata": {},
     "execution_count": 19
    }
   ],
   "source": [
    "T1 = np.arange(12).reshape(1, 6, 2)\n",
    "T1,np.arange(12)"
   ]
  },
  {
   "cell_type": "code",
   "execution_count": 20,
   "metadata": {},
   "outputs": [
    {
     "output_type": "execute_result",
     "data": {
      "text/plain": [
       "array([[[1.],\n",
       "        [1.],\n",
       "        [1.],\n",
       "        [1.],\n",
       "        [1.],\n",
       "        [1.]],\n",
       "\n",
       "       [[1.],\n",
       "        [1.],\n",
       "        [1.],\n",
       "        [1.],\n",
       "        [1.],\n",
       "        [1.]],\n",
       "\n",
       "       [[1.],\n",
       "        [1.],\n",
       "        [1.],\n",
       "        [1.],\n",
       "        [1.],\n",
       "        [1.]],\n",
       "\n",
       "       [[1.],\n",
       "        [1.],\n",
       "        [1.],\n",
       "        [1.],\n",
       "        [1.],\n",
       "        [1.]],\n",
       "\n",
       "       [[1.],\n",
       "        [1.],\n",
       "        [1.],\n",
       "        [1.],\n",
       "        [1.],\n",
       "        [1.]],\n",
       "\n",
       "       [[1.],\n",
       "        [1.],\n",
       "        [1.],\n",
       "        [1.],\n",
       "        [1.],\n",
       "        [1.]]])"
      ]
     },
     "metadata": {},
     "execution_count": 20
    }
   ],
   "source": [
    "T2 = np.ones(shape=(6,6,1))\n",
    "T2"
   ]
  },
  {
   "source": [
    "## Data  Preprocessing \n",
    "\n",
    "pg 51"
   ],
   "cell_type": "markdown",
   "metadata": {}
  },
  {
   "source": [
    "import os"
   ],
   "cell_type": "code",
   "metadata": {},
   "execution_count": 21,
   "outputs": []
  },
  {
   "cell_type": "code",
   "execution_count": 22,
   "metadata": {},
   "outputs": [],
   "source": [
    "os.makedirs(os.path.join('../../data','tmp'), exist_ok=True)"
   ]
  },
  {
   "cell_type": "code",
   "execution_count": 23,
   "metadata": {},
   "outputs": [],
   "source": [
    "data_file=os.path.join('../../data','tmp','house_tiny.csv')"
   ]
  },
  {
   "cell_type": "code",
   "execution_count": 24,
   "metadata": {},
   "outputs": [],
   "source": [
    "with open(data_file,'w') as f:\n",
    "    f.write('NumRooms,Alley,Price\\n') # Column names\n",
    "    f.write('NA,Pave,127500\\n') # Each row represents a data example\n",
    "    f.write('2,NA,106000\\n')\n",
    "    f.write('4,NA,178100\\n')\n",
    "    f.write('NA,NA,140000\\n')"
   ]
  },
  {
   "cell_type": "code",
   "execution_count": 25,
   "metadata": {},
   "outputs": [
    {
     "output_type": "stream",
     "name": "stdout",
     "text": [
      "   NumRooms Alley   Price\n0       NaN  Pave  127500\n1       2.0   NaN  106000\n2       4.0   NaN  178100\n3       NaN   NaN  140000\n"
     ]
    }
   ],
   "source": [
    "import pandas as pd\n",
    "data=pd.read_csv(data_file)\n",
    "print(data)"
   ]
  },
  {
   "cell_type": "code",
   "execution_count": 26,
   "metadata": {},
   "outputs": [
    {
     "output_type": "stream",
     "name": "stdout",
     "text": [
      "   NumRooms Alley\n0       NaN  Pave\n1       2.0   NaN\n2       4.0   NaN\n3       NaN   NaN\n   NumRooms Alley\n0       3.0  Pave\n1       2.0   NaN\n2       4.0   NaN\n3       3.0   NaN\n"
     ]
    }
   ],
   "source": [
    "inputs, outputs=data.iloc[:,0:2], data.iloc[:,2]\n",
    "print(inputs)\n",
    "inputs=inputs.fillna(inputs.mean())\n",
    "print(inputs)"
   ]
  },
  {
   "cell_type": "code",
   "execution_count": 27,
   "metadata": {},
   "outputs": [
    {
     "output_type": "stream",
     "name": "stdout",
     "text": [
      "   NumRooms  Alley_Pave  Alley_nan\n0       3.0           1          0\n1       2.0           0          1\n2       4.0           0          1\n3       3.0           0          1\n"
     ]
    }
   ],
   "source": [
    "inputs=pd.get_dummies(inputs, dummy_na=True)\n",
    "print(inputs)"
   ]
  },
  {
   "cell_type": "code",
   "execution_count": 28,
   "metadata": {},
   "outputs": [
    {
     "output_type": "execute_result",
     "data": {
      "text/plain": [
       "(array([[3., 1., 0.],\n",
       "        [2., 0., 1.],\n",
       "        [4., 0., 1.],\n",
       "        [3., 0., 1.]], dtype=float64),\n",
       " array([127500, 106000, 178100, 140000], dtype=int64))"
      ]
     },
     "metadata": {},
     "execution_count": 28
    }
   ],
   "source": [
    "X, y=np.array(inputs.values), np.array(outputs.values)\n",
    "X, y"
   ]
  },
  {
   "source": [
    "### fazer exercicios da pg 53"
   ],
   "cell_type": "markdown",
   "metadata": {}
  },
  {
   "cell_type": "code",
   "execution_count": 29,
   "metadata": {},
   "outputs": [
    {
     "output_type": "execute_result",
     "data": {
      "text/plain": [
       "array([[ 2.,  2.,  2., nan,  2.],\n",
       "       [nan,  2., nan,  2.,  2.],\n",
       "       [ 2.,  1.,  2.,  1., nan],\n",
       "       [ 1., nan,  1.,  1.,  2.],\n",
       "       [ 2., nan,  2.,  2.,  2.],\n",
       "       [ 1., nan, nan,  1.,  1.],\n",
       "       [ 1.,  2.,  1.,  1., nan],\n",
       "       [nan,  2.,  1., nan, nan],\n",
       "       [nan,  2.,  2., nan,  2.],\n",
       "       [ 2.,  2.,  2.,  1.,  2.],\n",
       "       [ 2.,  2.,  1.,  2., nan],\n",
       "       [ 2.,  2.,  1.,  2.,  2.],\n",
       "       [ 1.,  1.,  2.,  2.,  2.],\n",
       "       [ 1.,  2.,  1.,  1.,  1.],\n",
       "       [ 2.,  1.,  2.,  1.,  2.],\n",
       "       [ 1., nan, nan,  2.,  2.],\n",
       "       [ 1.,  2.,  2., nan,  2.],\n",
       "       [ 1.,  1., nan,  2.,  2.],\n",
       "       [ 2.,  1.,  1.,  1.,  1.],\n",
       "       [ 2.,  1.,  2.,  1.,  1.]])"
      ]
     },
     "metadata": {},
     "execution_count": 29
    }
   ],
   "source": [
    "t3=np.random.choice(np.array([1,2,np.nan]), (20, 5),p=np.array([0.4,0.4, 0.3]))\n",
    "t3"
   ]
  },
  {
   "cell_type": "code",
   "execution_count": 30,
   "metadata": {},
   "outputs": [
    {
     "output_type": "stream",
     "name": "stdout",
     "text": [
      "      a    b    c    e    f\n0   2.0  2.0  2.0  NaN  2.0\n1   NaN  2.0  NaN  2.0  2.0\n2   2.0  1.0  2.0  1.0  NaN\n3   1.0  NaN  1.0  1.0  2.0\n4   2.0  NaN  2.0  2.0  2.0\n5   1.0  NaN  NaN  1.0  1.0\n6   1.0  2.0  1.0  1.0  NaN\n7   NaN  2.0  1.0  NaN  NaN\n8   NaN  2.0  2.0  NaN  2.0\n9   2.0  2.0  2.0  1.0  2.0\n10  2.0  2.0  1.0  2.0  NaN\n11  2.0  2.0  1.0  2.0  2.0\n12  1.0  1.0  2.0  2.0  2.0\n13  1.0  2.0  1.0  1.0  1.0\n14  2.0  1.0  2.0  1.0  2.0\n15  1.0  NaN  NaN  2.0  2.0\n16  1.0  2.0  2.0  NaN  2.0\n17  1.0  1.0  NaN  2.0  2.0\n18  2.0  1.0  1.0  1.0  1.0\n19  2.0  1.0  2.0  1.0  1.0\n"
     ]
    }
   ],
   "source": [
    "df=pd.DataFrame(t3.asnumpy(),columns=['a','b','c','e','f'])\n",
    "print(df)"
   ]
  },
  {
   "cell_type": "code",
   "execution_count": 31,
   "metadata": {},
   "outputs": [
    {
     "output_type": "execute_result",
     "data": {
      "text/plain": [
       "a    0.15\n",
       "b    0.20\n",
       "c    0.20\n",
       "e    0.20\n",
       "f    0.20\n",
       "dtype: float64"
      ]
     },
     "metadata": {},
     "execution_count": 31
    }
   ],
   "source": [
    "df.isnull().mean()"
   ]
  },
  {
   "cell_type": "code",
   "execution_count": 32,
   "metadata": {},
   "outputs": [
    {
     "output_type": "execute_result",
     "data": {
      "text/plain": [
       "Index(['a', 'b', 'c', 'e', 'f'], dtype='object')"
      ]
     },
     "metadata": {},
     "execution_count": 32
    }
   ],
   "source": [
    "df.columns[df.isnull().mean() < 0.25]"
   ]
  },
  {
   "cell_type": "code",
   "execution_count": 33,
   "metadata": {},
   "outputs": [
    {
     "output_type": "stream",
     "name": "stdout",
     "text": [
      "      a    b    c    e    f\n0   2.0  2.0  2.0  NaN  2.0\n1   NaN  2.0  NaN  2.0  2.0\n2   2.0  1.0  2.0  1.0  NaN\n3   1.0  NaN  1.0  1.0  2.0\n4   2.0  NaN  2.0  2.0  2.0\n5   1.0  NaN  NaN  1.0  1.0\n6   1.0  2.0  1.0  1.0  NaN\n7   NaN  2.0  1.0  NaN  NaN\n8   NaN  2.0  2.0  NaN  2.0\n9   2.0  2.0  2.0  1.0  2.0\n10  2.0  2.0  1.0  2.0  NaN\n11  2.0  2.0  1.0  2.0  2.0\n12  1.0  1.0  2.0  2.0  2.0\n13  1.0  2.0  1.0  1.0  1.0\n14  2.0  1.0  2.0  1.0  2.0\n15  1.0  NaN  NaN  2.0  2.0\n16  1.0  2.0  2.0  NaN  2.0\n17  1.0  1.0  NaN  2.0  2.0\n18  2.0  1.0  1.0  1.0  1.0\n19  2.0  1.0  2.0  1.0  1.0\n"
     ]
    }
   ],
   "source": [
    "res1=df[df.columns[df.isnull().mean() < 0.25]]\n",
    "print(res1)"
   ]
  },
  {
   "cell_type": "code",
   "execution_count": 34,
   "metadata": {},
   "outputs": [
    {
     "output_type": "execute_result",
     "data": {
      "text/plain": [
       "(array([[ 2.,  2.,  2., nan,  2.],\n",
       "        [nan,  2., nan,  2.,  2.],\n",
       "        [ 2.,  1.,  2.,  1., nan],\n",
       "        [ 1., nan,  1.,  1.,  2.],\n",
       "        [ 2., nan,  2.,  2.,  2.],\n",
       "        [ 1., nan, nan,  1.,  1.],\n",
       "        [ 1.,  2.,  1.,  1., nan],\n",
       "        [nan,  2.,  1., nan, nan],\n",
       "        [nan,  2.,  2., nan,  2.],\n",
       "        [ 2.,  2.,  2.,  1.,  2.],\n",
       "        [ 2.,  2.,  1.,  2., nan],\n",
       "        [ 2.,  2.,  1.,  2.,  2.],\n",
       "        [ 1.,  1.,  2.,  2.,  2.],\n",
       "        [ 1.,  2.,  1.,  1.,  1.],\n",
       "        [ 2.,  1.,  2.,  1.,  2.],\n",
       "        [ 1., nan, nan,  2.,  2.],\n",
       "        [ 1.,  2.,  2., nan,  2.],\n",
       "        [ 1.,  1., nan,  2.,  2.],\n",
       "        [ 2.,  1.,  1.,  1.,  1.],\n",
       "        [ 2.,  1.,  2.,  1.,  1.]]),\n",
       " array([0.57019675, 0.03842543, 0.43860152, 0.63427407, 0.9883738 ,\n",
       "        0.95894927, 0.10204481, 0.6527903 , 0.20887676, 0.6350589 ,\n",
       "        0.16130951, 0.9952996 , 0.6531083 , 0.58185035, 0.2532916 ,\n",
       "        0.4143686 , 0.46631077, 0.4746975 , 0.2444256 , 0.6235101 ]))"
      ]
     },
     "metadata": {},
     "execution_count": 34
    }
   ],
   "source": [
    "resInput=np.array(res1.values)\n",
    "resOutput=np.random.rand(20)\n",
    "resInput,resOutput"
   ]
  },
  {
   "cell_type": "code",
   "execution_count": 58,
   "metadata": {},
   "outputs": [
    {
     "output_type": "execute_result",
     "data": {
      "text/plain": [
       "(array([[ 2.,  2.],\n",
       "        [nan,  2.],\n",
       "        [ 1.,  2.],\n",
       "        [ 2.,  2.],\n",
       "        [ 1.,  1.],\n",
       "        [ 1.,  2.],\n",
       "        [ 1., nan],\n",
       "        [ 2.,  2.],\n",
       "        [nan,  2.],\n",
       "        [ 1.,  2.],\n",
       "        [ 1.,  1.],\n",
       "        [ 1.,  2.],\n",
       "        [ 1.,  2.],\n",
       "        [ 1.,  2.],\n",
       "        [ 1.,  2.],\n",
       "        [nan,  1.],\n",
       "        [ 1.,  2.],\n",
       "        [ 2., nan],\n",
       "        [ 1.,  2.],\n",
       "        [ 1.,  1.]]),\n",
       " array([0.3654961 , 0.9755215 , 0.01662797, 0.8558034 , 0.23074234,\n",
       "        0.01171408, 0.7649117 , 0.35997805, 0.9441235 , 0.72999054,\n",
       "        0.7499992 , 0.17162968, 0.3394038 , 0.5210366 , 0.48954895,\n",
       "        0.05433799, 0.33898512, 0.19999653, 0.17949027, 0.01852179]))"
      ]
     },
     "metadata": {},
     "execution_count": 58
    }
   ],
   "source": []
  },
  {
   "source": [
    "## Linear Algebra\n",
    "pg 53"
   ],
   "cell_type": "markdown",
   "metadata": {}
  },
  {
   "cell_type": "code",
   "execution_count": 39,
   "metadata": {},
   "outputs": [
    {
     "output_type": "execute_result",
     "data": {
      "text/plain": [
       "(array([[ 0.,  1.,  2.,  3.],\n",
       "        [ 4.,  5.,  6.,  7.],\n",
       "        [ 8.,  9., 10., 11.],\n",
       "        [12., 13., 14., 15.],\n",
       "        [16., 17., 18., 19.]]),\n",
       " array([ 8.,  9., 10., 11.]),\n",
       " array([ 1.5,  5.5,  9.5, 13.5, 17.5]))"
      ]
     },
     "metadata": {},
     "execution_count": 39
    }
   ],
   "source": [
    "A=np.arange(20).reshape(5,4)\n",
    "A,A.mean(axis=0),A.mean(axis=1)"
   ]
  },
  {
   "cell_type": "code",
   "execution_count": 45,
   "metadata": {},
   "outputs": [
    {
     "output_type": "execute_result",
     "data": {
      "text/plain": [
       "(array(190.),\n",
       " array([ 6., 22., 38., 54., 70.]),\n",
       " array([[ 6.],\n",
       "        [22.],\n",
       "        [38.],\n",
       "        [54.],\n",
       "        [70.]]))"
      ]
     },
     "metadata": {},
     "execution_count": 45
    }
   ],
   "source": [
    "A.sum(),A.sum(axis=1),A.sum(axis=1,keepdims=True)"
   ]
  },
  {
   "cell_type": "code",
   "execution_count": 48,
   "metadata": {},
   "outputs": [
    {
     "output_type": "execute_result",
     "data": {
      "text/plain": [
       "(array([[0.        , 0.16666667, 0.33333334, 0.5       ],\n",
       "        [0.18181819, 0.22727273, 0.27272728, 0.3181818 ],\n",
       "        [0.21052632, 0.23684211, 0.2631579 , 0.28947368],\n",
       "        [0.22222222, 0.24074075, 0.25925925, 0.2777778 ],\n",
       "        [0.22857143, 0.24285714, 0.25714287, 0.27142859]]),\n",
       " array([[ 0.,  1.,  3.,  6.],\n",
       "        [ 4.,  9., 15., 22.],\n",
       "        [ 8., 17., 27., 38.],\n",
       "        [12., 25., 39., 54.],\n",
       "        [16., 33., 51., 70.]]))"
      ]
     },
     "metadata": {},
     "execution_count": 48
    }
   ],
   "source": [
    "A/A.sum(axis=1,keepdims=True),A.cumsum(axis=1)"
   ]
  },
  {
   "cell_type": "code",
   "execution_count": 55,
   "metadata": {},
   "outputs": [
    {
     "output_type": "execute_result",
     "data": {
      "text/plain": [
       "(array([[1., 2.],\n",
       "        [3., 4.]]),\n",
       " array([[-1.,  3.],\n",
       "        [ 4.,  2.]]),\n",
       " array([[-1.,  6.],\n",
       "        [12.,  8.]]),\n",
       " array([[ 7.,  7.],\n",
       "        [13., 17.]]),\n",
       " array([[ 8., 10.],\n",
       "        [10., 16.]]))"
      ]
     },
     "metadata": {},
     "execution_count": 55
    }
   ],
   "source": [
    "A1=np.array([1,2,3,4]).reshape(2,2)\n",
    "B1=np.array([-1,3,4,2]).reshape(2,2)\n",
    "A1,B1,A1*B1,np.dot(A1,B1),np.dot(B1,A1)"
   ]
  },
  {
   "cell_type": "code",
   "execution_count": 58,
   "metadata": {},
   "outputs": [
    {
     "output_type": "execute_result",
     "data": {
      "text/plain": [
       "(array([1., 2., 3., 4.]),\n",
       " array([-1.,  3.,  4.,  2.]),\n",
       " array([-1.,  6., 12.,  8.]),\n",
       " array(25.))"
      ]
     },
     "metadata": {},
     "execution_count": 58
    }
   ],
   "source": [
    "A1=np.array([1,2,3,4])\n",
    "B1=np.array([-1,3,4,2])\n",
    "A1,B1,A1*B1,np.dot(A1,B1)"
   ]
  },
  {
   "cell_type": "code",
   "execution_count": 74,
   "metadata": {},
   "outputs": [
    {
     "output_type": "execute_result",
     "data": {
      "text/plain": [
       "(array([[1., 2., 3.]]), array([1., 1., 1., 1.]))"
      ]
     },
     "metadata": {},
     "execution_count": 74
    }
   ],
   "source": [
    "y=np.ones(4)\n",
    "x.reshape(1,3), y"
   ]
  },
  {
   "cell_type": "code",
   "execution_count": null,
   "metadata": {},
   "outputs": [],
   "source": []
  }
 ],
 "metadata": {
  "kernelspec": {
   "name": "python388jvsc74a57bd098cd91940932e20c9ea8c00a3220fd4b68e5de6dbdf98534bca909080946567e",
   "display_name": "Python 3.8.8 64-bit ('d2l': conda)"
  },
  "language_info": {
   "codemirror_mode": {
    "name": "ipython",
    "version": 3
   },
   "file_extension": ".py",
   "mimetype": "text/x-python",
   "name": "python",
   "nbconvert_exporter": "python",
   "pygments_lexer": "ipython3",
   "version": "3.8.8"
  }
 },
 "nbformat": 4,
 "nbformat_minor": 5
}