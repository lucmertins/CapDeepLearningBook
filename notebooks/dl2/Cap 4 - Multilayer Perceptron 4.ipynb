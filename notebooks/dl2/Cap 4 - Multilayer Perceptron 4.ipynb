{
 "cells": [
  {
   "cell_type": "code",
   "execution_count": 2,
   "metadata": {},
   "outputs": [],
   "source": [
    "import math\n",
    "from mxnet import gluon, np, npx \n",
    "from mxnet.gluon import nn\n",
    "from d2l import mxnet as d2l\n",
    "\n",
    "npx.set_np()"
   ]
  },
  {
   "cell_type": "markdown",
   "metadata": {},
   "source": [
    "#### Generating the Dataset"
   ]
  },
  {
   "cell_type": "code",
   "execution_count": 3,
   "metadata": {},
   "outputs": [
    {
     "name": "stderr",
     "output_type": "stream",
     "text": [
      "[22:10:37] /home/mertins/Desenvolvimento/C/Terceiros/mxnet/src/storage/storage.cc:202: Using Pooled (Naive) StorageManager for CPU\n"
     ]
    }
   ],
   "source": [
    "max_degree = 20\n",
    "n_train, n_test = 100, 100\n",
    "true_w=np.zeros(max_degree)\n",
    "true_w[0:4]=np.array([5,1.2,-3.4,5.6])"
   ]
  },
  {
   "cell_type": "code",
   "execution_count": 4,
   "metadata": {},
   "outputs": [],
   "source": [
    "features=np.random.normal(size=(n_train+n_test,1))\n",
    "np.random.shuffle(features)\n",
    "poly_features=np.power(features,np.arange(max_degree).reshape(1,-1))\n",
    "for i in range(max_degree):\n",
    "    poly_features[:,i]/=math.gamma(i+1)\n",
    "labels=np.dot(poly_features,true_w)\n",
    "labels+=np.random.normal(scale=0.1,size=labels.shape)\n"
   ]
  },
  {
   "cell_type": "code",
   "execution_count": 5,
   "metadata": {},
   "outputs": [
    {
     "data": {
      "text/plain": [
       "(array([[-0.03716067],\n",
       "        [-1.1468065 ]]),\n",
       " array([[ 1.0000000e+00, -3.7160669e-02,  6.9045764e-04, -8.5526226e-06,\n",
       "          7.9455290e-08, -5.9052235e-10,  3.6573678e-12, -1.9415747e-14,\n",
       "          9.0187767e-17, -3.7238198e-19,  1.3837963e-21, -4.6747996e-24,\n",
       "          1.4476556e-26, -4.1381425e-29,  1.0984010e-31, -2.7211542e-34,\n",
       "          6.3199942e-37, -0.0000000e+00,  0.0000000e+00, -0.0000000e+00],\n",
       "        [ 1.0000000e+00, -1.1468065e+00,  6.5758252e-01, -2.5137332e-01,\n",
       "          7.2069131e-02, -1.6529869e-02,  3.1594271e-03, -5.1760738e-04,\n",
       "          7.4199430e-05, -9.4547095e-06,  1.0842723e-06, -1.1304095e-07,\n",
       "          1.0803007e-08, -9.5299690e-10,  7.8064499e-11, -5.9683248e-12,\n",
       "          4.2778208e-13, -2.8857840e-14,  1.8385754e-15, -1.1097317e-16]]),\n",
       " array([ 5.1432443 , -0.06415121]))"
      ]
     },
     "execution_count": 5,
     "metadata": {},
     "output_type": "execute_result"
    }
   ],
   "source": [
    "features[:2],poly_features[:2,:],labels[:2]"
   ]
  },
  {
   "cell_type": "markdown",
   "metadata": {},
   "source": [
    "##### Training and testing the model"
   ]
  },
  {
   "cell_type": "code",
   "execution_count": 6,
   "metadata": {},
   "outputs": [],
   "source": [
    "def evaluate_loss(net,data_iter,loss):\n",
    "    metric=d2l.Accumulator(2)\n",
    "    for X,y in data_iter:\n",
    "        l=loss(net(X),y)\n",
    "        metric.add(l.sum(),d2l.size(l))\n",
    "    return metric[0]/metric[1]"
   ]
  }
 ],
 "metadata": {
  "interpreter": {
   "hash": "e7370f93d1d0cde622a1f8e1c04877d8463912d04d973331ad4851f04de6915a"
  },
  "kernelspec": {
   "display_name": "Python 3.10.4 64-bit",
   "language": "python",
   "name": "python3"
  },
  "language_info": {
   "codemirror_mode": {
    "name": "ipython",
    "version": 3
   },
   "file_extension": ".py",
   "mimetype": "text/x-python",
   "name": "python",
   "nbconvert_exporter": "python",
   "pygments_lexer": "ipython3",
   "version": "3.10.4"
  },
  "orig_nbformat": 4
 },
 "nbformat": 4,
 "nbformat_minor": 2
}
