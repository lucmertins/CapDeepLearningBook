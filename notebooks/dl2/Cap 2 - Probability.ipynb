{
 "metadata": {
  "language_info": {
   "codemirror_mode": {
    "name": "ipython",
    "version": 3
   },
   "file_extension": ".py",
   "mimetype": "text/x-python",
   "name": "python",
   "nbconvert_exporter": "python",
   "pygments_lexer": "ipython3",
   "version": "3.8.12"
  },
  "orig_nbformat": 2,
  "kernelspec": {
   "name": "python3",
   "display_name": "Python 3.8.12 64-bit"
  },
  "interpreter": {
   "hash": "5b3ded1ccb95c1d9bd405e7b823d9e85424cde40fbb5985eb47e999ef50e15b4"
  }
 },
 "nbformat": 4,
 "nbformat_minor": 2,
 "cells": [
  {
   "cell_type": "markdown",
   "source": [
    "### Probalility \n",
    "pg 77"
   ],
   "metadata": {}
  },
  {
   "cell_type": "code",
   "execution_count": 1,
   "source": [
    "%matplotlib inline\n",
    "import random\n",
    "from mxnet import np, npx \n",
    "from d2l import mxnet as d2l \n",
    "\n",
    "npx.set_np()"
   ],
   "outputs": [],
   "metadata": {}
  },
  {
   "cell_type": "code",
   "execution_count": 2,
   "source": [
    "fair_probs=[1.0/6]*6\n",
    "fair_probs,np.random.multinomial(1, fair_probs)"
   ],
   "outputs": [
    {
     "output_type": "stream",
     "name": "stderr",
     "text": [
      "[08:48:11] /home/mertins/Desenvolvimento/C/Terceiros/mxnet/src/storage/storage.cc:205: Using Pooled (Naive) StorageManager for CPU\n"
     ]
    },
    {
     "output_type": "execute_result",
     "data": {
      "text/plain": [
       "([0.16666666666666666,\n",
       "  0.16666666666666666,\n",
       "  0.16666666666666666,\n",
       "  0.16666666666666666,\n",
       "  0.16666666666666666,\n",
       "  0.16666666666666666],\n",
       " array([0, 0, 0, 1, 0, 0], dtype=int64))"
      ]
     },
     "metadata": {},
     "execution_count": 2
    }
   ],
   "metadata": {}
  },
  {
   "cell_type": "code",
   "execution_count": 3,
   "source": [
    "v=np.random.multinomial(10, fair_probs,size=1)\n",
    "v,v.cumsum(axis=0)"
   ],
   "outputs": [
    {
     "output_type": "execute_result",
     "data": {
      "text/plain": [
       "(array([[1, 1, 5, 1, 1, 1]], dtype=int64),\n",
       " array([[1, 1, 5, 1, 1, 1]], dtype=int64))"
      ]
     },
     "metadata": {},
     "execution_count": 3
    }
   ],
   "metadata": {}
  },
  {
   "cell_type": "code",
   "execution_count": 4,
   "source": [
    "counts=np.random.multinomial(1000, fair_probs).astype(np.float32)\n",
    "counts,counts/1000"
   ],
   "outputs": [
    {
     "output_type": "execute_result",
     "data": {
      "text/plain": [
       "(array([162., 149., 178., 170., 166., 175.]),\n",
       " array([0.162, 0.149, 0.178, 0.17 , 0.166, 0.175]))"
      ]
     },
     "metadata": {},
     "execution_count": 4
    }
   ],
   "metadata": {}
  },
  {
   "cell_type": "code",
   "execution_count": 5,
   "source": [
    "counts=np.random.multinomial(10, fair_probs, size=10)\n",
    "cum_counts=counts.astype(np.float32).cumsum(axis=0)\n",
    "sumcum=cum_counts.sum(axis=1, keepdims=True)\n",
    "estimates=cum_counts/sumcum\n",
    "counts,cum_counts,sumcum,estimates"
   ],
   "outputs": [
    {
     "output_type": "execute_result",
     "data": {
      "text/plain": [
       "(array([[1, 3, 3, 1, 0, 2],\n",
       "        [1, 5, 3, 1, 0, 0],\n",
       "        [3, 1, 3, 0, 1, 2],\n",
       "        [2, 1, 0, 4, 2, 1],\n",
       "        [3, 1, 1, 1, 2, 2],\n",
       "        [0, 3, 3, 0, 1, 3],\n",
       "        [4, 1, 0, 1, 2, 2],\n",
       "        [1, 1, 2, 1, 2, 3],\n",
       "        [1, 3, 2, 1, 1, 2],\n",
       "        [1, 4, 2, 0, 2, 1]], dtype=int64),\n",
       " array([[ 1.,  3.,  3.,  1.,  0.,  2.],\n",
       "        [ 2.,  8.,  6.,  2.,  0.,  2.],\n",
       "        [ 5.,  9.,  9.,  2.,  1.,  4.],\n",
       "        [ 7., 10.,  9.,  6.,  3.,  5.],\n",
       "        [10., 11., 10.,  7.,  5.,  7.],\n",
       "        [10., 14., 13.,  7.,  6., 10.],\n",
       "        [14., 15., 13.,  8.,  8., 12.],\n",
       "        [15., 16., 15.,  9., 10., 15.],\n",
       "        [16., 19., 17., 10., 11., 17.],\n",
       "        [17., 23., 19., 10., 13., 18.]]),\n",
       " array([[ 10.],\n",
       "        [ 20.],\n",
       "        [ 30.],\n",
       "        [ 40.],\n",
       "        [ 50.],\n",
       "        [ 60.],\n",
       "        [ 70.],\n",
       "        [ 80.],\n",
       "        [ 90.],\n",
       "        [100.]]),\n",
       " array([[0.1       , 0.3       , 0.3       , 0.1       , 0.        ,\n",
       "         0.2       ],\n",
       "        [0.1       , 0.4       , 0.3       , 0.1       , 0.        ,\n",
       "         0.1       ],\n",
       "        [0.16666667, 0.3       , 0.3       , 0.06666667, 0.03333334,\n",
       "         0.13333334],\n",
       "        [0.175     , 0.25      , 0.225     , 0.15      , 0.075     ,\n",
       "         0.125     ],\n",
       "        [0.2       , 0.22      , 0.2       , 0.14      , 0.1       ,\n",
       "         0.14      ],\n",
       "        [0.16666667, 0.23333333, 0.21666667, 0.11666667, 0.1       ,\n",
       "         0.16666667],\n",
       "        [0.2       , 0.21428572, 0.18571429, 0.11428571, 0.11428571,\n",
       "         0.17142858],\n",
       "        [0.1875    , 0.2       , 0.1875    , 0.1125    , 0.125     ,\n",
       "         0.1875    ],\n",
       "        [0.17777778, 0.21111111, 0.18888889, 0.11111111, 0.12222222,\n",
       "         0.18888889],\n",
       "        [0.17      , 0.23      , 0.19      , 0.1       , 0.13      ,\n",
       "         0.18      ]]))"
      ]
     },
     "metadata": {},
     "execution_count": 5
    }
   ],
   "metadata": {}
  },
  {
   "cell_type": "code",
   "execution_count": 6,
   "source": [
    "for i in range(6):\n",
    "    print(estimates[:, i],estimates[:, i].asnumpy())"
   ],
   "outputs": [
    {
     "output_type": "stream",
     "name": "stdout",
     "text": [
      "[0.1        0.1        0.16666667 0.175      0.2        0.16666667\n",
      " 0.2        0.1875     0.17777778 0.17      ] [0.1        0.1        0.16666667 0.175      0.2        0.16666667\n",
      " 0.2        0.1875     0.17777778 0.17      ]\n",
      "[0.3        0.4        0.3        0.25       0.22       0.23333333\n",
      " 0.21428572 0.2        0.21111111 0.23      ] [0.3        0.4        0.3        0.25       0.22       0.23333333\n",
      " 0.21428572 0.2        0.21111111 0.23      ]\n",
      "[0.3        0.3        0.3        0.225      0.2        0.21666667\n",
      " 0.18571429 0.1875     0.18888889 0.19      ] [0.3        0.3        0.3        0.225      0.2        0.21666667\n",
      " 0.18571429 0.1875     0.18888889 0.19      ]\n",
      "[0.1        0.1        0.06666667 0.15       0.14       0.11666667\n",
      " 0.11428571 0.1125     0.11111111 0.1       ] [0.1        0.1        0.06666667 0.15       0.14       0.11666667\n",
      " 0.11428571 0.1125     0.11111111 0.1       ]\n",
      "[0.         0.         0.03333334 0.075      0.1        0.1\n",
      " 0.11428571 0.125      0.12222222 0.13      ] [0.         0.         0.03333334 0.075      0.1        0.1\n",
      " 0.11428571 0.125      0.12222222 0.13      ]\n",
      "[0.2        0.1        0.13333334 0.125      0.14       0.16666667\n",
      " 0.17142858 0.1875     0.18888889 0.18      ] [0.2        0.1        0.13333334 0.125      0.14       0.16666667\n",
      " 0.17142858 0.1875     0.18888889 0.18      ]\n"
     ]
    }
   ],
   "metadata": {}
  },
  {
   "cell_type": "code",
   "execution_count": 7,
   "source": [
    "counts=np.random.multinomial(10, fair_probs, size=100)\n",
    "cum_counts=counts.astype(np.float32).cumsum(axis=0)\n",
    "estimates=cum_counts/cum_counts.sum(axis=1, keepdims=True)\n",
    "\n",
    "d2l.set_figsize((6,4.5))\n",
    "for i in range(6):\n",
    "\td2l.plt.plot(estimates[:, i].asnumpy(),\n",
    "\t\tlabel=(\"P(die=\"+str(i+1)+\")\"))\n",
    "d2l.plt.axhline(y=0.167, color='black', linestyle='dashed')\n",
    "d2l.plt.gca().set_xlabel('Groups of experiments')\n",
    "d2l.plt.gca().set_ylabel('Estimated probability')\n",
    "d2l.plt.legend()\n"
   ],
   "outputs": [
    {
     "output_type": "execute_result",
     "data": {
      "text/plain": [
       "<matplotlib.legend.Legend at 0x7feae85f5f10>"
      ]
     },
     "metadata": {},
     "execution_count": 7
    },
    {
     "output_type": "display_data",
     "data": {
      "image/svg+xml": "<?xml version=\"1.0\" encoding=\"utf-8\" standalone=\"no\"?>\n<!DOCTYPE svg PUBLIC \"-//W3C//DTD SVG 1.1//EN\"\n  \"http://www.w3.org/Graphics/SVG/1.1/DTD/svg11.dtd\">\n<svg height=\"289.37625pt\" version=\"1.1\" viewBox=\"0 0 392.14375 289.37625\" width=\"392.14375pt\" xmlns=\"http://www.w3.org/2000/svg\" xmlns:xlink=\"http://www.w3.org/1999/xlink\">\n <metadata>\n  <rdf:RDF xmlns:cc=\"http://creativecommons.org/ns#\" xmlns:dc=\"http://purl.org/dc/elements/1.1/\" xmlns:rdf=\"http://www.w3.org/1999/02/22-rdf-syntax-ns#\">\n   <cc:Work>\n    <dc:type rdf:resource=\"http://purl.org/dc/dcmitype/StillImage\"/>\n    <dc:date>2021-09-16T08:48:11.878336</dc:date>\n    <dc:format>image/svg+xml</dc:format>\n    <dc:creator>\n     <cc:Agent>\n      <dc:title>Matplotlib v3.4.3, https://matplotlib.org/</dc:title>\n     </cc:Agent>\n    </dc:creator>\n   </cc:Work>\n  </rdf:RDF>\n </metadata>\n <defs>\n  <style type=\"text/css\">*{stroke-linecap:butt;stroke-linejoin:round;}</style>\n </defs>\n <g id=\"figure_1\">\n  <g id=\"patch_1\">\n   <path d=\"M 0 289.37625 \nL 392.14375 289.37625 \nL 392.14375 0 \nL 0 0 \nz\n\" style=\"fill:none;\"/>\n  </g>\n  <g id=\"axes_1\">\n   <g id=\"patch_2\">\n    <path d=\"M 50.14375 251.82 \nL 384.94375 251.82 \nL 384.94375 7.2 \nL 50.14375 7.2 \nz\n\" style=\"fill:#ffffff;\"/>\n   </g>\n   <g id=\"matplotlib.axis_1\">\n    <g id=\"xtick_1\">\n     <g id=\"line2d_1\">\n      <defs>\n       <path d=\"M 0 0 \nL 0 3.5 \n\" id=\"mdf56203842\" style=\"stroke:#000000;stroke-width:0.8;\"/>\n      </defs>\n      <g>\n       <use style=\"stroke:#000000;stroke-width:0.8;\" x=\"65.361932\" xlink:href=\"#mdf56203842\" y=\"251.82\"/>\n      </g>\n     </g>\n     <g id=\"text_1\">\n      <!-- 0 -->\n      <g transform=\"translate(62.180682 266.418437)scale(0.1 -0.1)\">\n       <defs>\n        <path d=\"M 2034 4250 \nQ 1547 4250 1301 3770 \nQ 1056 3291 1056 2328 \nQ 1056 1369 1301 889 \nQ 1547 409 2034 409 \nQ 2525 409 2770 889 \nQ 3016 1369 3016 2328 \nQ 3016 3291 2770 3770 \nQ 2525 4250 2034 4250 \nz\nM 2034 4750 \nQ 2819 4750 3233 4129 \nQ 3647 3509 3647 2328 \nQ 3647 1150 3233 529 \nQ 2819 -91 2034 -91 \nQ 1250 -91 836 529 \nQ 422 1150 422 2328 \nQ 422 3509 836 4129 \nQ 1250 4750 2034 4750 \nz\n\" id=\"DejaVuSans-30\" transform=\"scale(0.015625)\"/>\n       </defs>\n       <use xlink:href=\"#DejaVuSans-30\"/>\n      </g>\n     </g>\n    </g>\n    <g id=\"xtick_2\">\n     <g id=\"line2d_2\">\n      <g>\n       <use style=\"stroke:#000000;stroke-width:0.8;\" x=\"126.849535\" xlink:href=\"#mdf56203842\" y=\"251.82\"/>\n      </g>\n     </g>\n     <g id=\"text_2\">\n      <!-- 20 -->\n      <g transform=\"translate(120.487035 266.418437)scale(0.1 -0.1)\">\n       <defs>\n        <path d=\"M 1228 531 \nL 3431 531 \nL 3431 0 \nL 469 0 \nL 469 531 \nQ 828 903 1448 1529 \nQ 2069 2156 2228 2338 \nQ 2531 2678 2651 2914 \nQ 2772 3150 2772 3378 \nQ 2772 3750 2511 3984 \nQ 2250 4219 1831 4219 \nQ 1534 4219 1204 4116 \nQ 875 4013 500 3803 \nL 500 4441 \nQ 881 4594 1212 4672 \nQ 1544 4750 1819 4750 \nQ 2544 4750 2975 4387 \nQ 3406 4025 3406 3419 \nQ 3406 3131 3298 2873 \nQ 3191 2616 2906 2266 \nQ 2828 2175 2409 1742 \nQ 1991 1309 1228 531 \nz\n\" id=\"DejaVuSans-32\" transform=\"scale(0.015625)\"/>\n       </defs>\n       <use xlink:href=\"#DejaVuSans-32\"/>\n       <use x=\"63.623047\" xlink:href=\"#DejaVuSans-30\"/>\n      </g>\n     </g>\n    </g>\n    <g id=\"xtick_3\">\n     <g id=\"line2d_3\">\n      <g>\n       <use style=\"stroke:#000000;stroke-width:0.8;\" x=\"188.337138\" xlink:href=\"#mdf56203842\" y=\"251.82\"/>\n      </g>\n     </g>\n     <g id=\"text_3\">\n      <!-- 40 -->\n      <g transform=\"translate(181.974638 266.418437)scale(0.1 -0.1)\">\n       <defs>\n        <path d=\"M 2419 4116 \nL 825 1625 \nL 2419 1625 \nL 2419 4116 \nz\nM 2253 4666 \nL 3047 4666 \nL 3047 1625 \nL 3713 1625 \nL 3713 1100 \nL 3047 1100 \nL 3047 0 \nL 2419 0 \nL 2419 1100 \nL 313 1100 \nL 313 1709 \nL 2253 4666 \nz\n\" id=\"DejaVuSans-34\" transform=\"scale(0.015625)\"/>\n       </defs>\n       <use xlink:href=\"#DejaVuSans-34\"/>\n       <use x=\"63.623047\" xlink:href=\"#DejaVuSans-30\"/>\n      </g>\n     </g>\n    </g>\n    <g id=\"xtick_4\">\n     <g id=\"line2d_4\">\n      <g>\n       <use style=\"stroke:#000000;stroke-width:0.8;\" x=\"249.824742\" xlink:href=\"#mdf56203842\" y=\"251.82\"/>\n      </g>\n     </g>\n     <g id=\"text_4\">\n      <!-- 60 -->\n      <g transform=\"translate(243.462242 266.418437)scale(0.1 -0.1)\">\n       <defs>\n        <path d=\"M 2113 2584 \nQ 1688 2584 1439 2293 \nQ 1191 2003 1191 1497 \nQ 1191 994 1439 701 \nQ 1688 409 2113 409 \nQ 2538 409 2786 701 \nQ 3034 994 3034 1497 \nQ 3034 2003 2786 2293 \nQ 2538 2584 2113 2584 \nz\nM 3366 4563 \nL 3366 3988 \nQ 3128 4100 2886 4159 \nQ 2644 4219 2406 4219 \nQ 1781 4219 1451 3797 \nQ 1122 3375 1075 2522 \nQ 1259 2794 1537 2939 \nQ 1816 3084 2150 3084 \nQ 2853 3084 3261 2657 \nQ 3669 2231 3669 1497 \nQ 3669 778 3244 343 \nQ 2819 -91 2113 -91 \nQ 1303 -91 875 529 \nQ 447 1150 447 2328 \nQ 447 3434 972 4092 \nQ 1497 4750 2381 4750 \nQ 2619 4750 2861 4703 \nQ 3103 4656 3366 4563 \nz\n\" id=\"DejaVuSans-36\" transform=\"scale(0.015625)\"/>\n       </defs>\n       <use xlink:href=\"#DejaVuSans-36\"/>\n       <use x=\"63.623047\" xlink:href=\"#DejaVuSans-30\"/>\n      </g>\n     </g>\n    </g>\n    <g id=\"xtick_5\">\n     <g id=\"line2d_5\">\n      <g>\n       <use style=\"stroke:#000000;stroke-width:0.8;\" x=\"311.312345\" xlink:href=\"#mdf56203842\" y=\"251.82\"/>\n      </g>\n     </g>\n     <g id=\"text_5\">\n      <!-- 80 -->\n      <g transform=\"translate(304.949845 266.418437)scale(0.1 -0.1)\">\n       <defs>\n        <path d=\"M 2034 2216 \nQ 1584 2216 1326 1975 \nQ 1069 1734 1069 1313 \nQ 1069 891 1326 650 \nQ 1584 409 2034 409 \nQ 2484 409 2743 651 \nQ 3003 894 3003 1313 \nQ 3003 1734 2745 1975 \nQ 2488 2216 2034 2216 \nz\nM 1403 2484 \nQ 997 2584 770 2862 \nQ 544 3141 544 3541 \nQ 544 4100 942 4425 \nQ 1341 4750 2034 4750 \nQ 2731 4750 3128 4425 \nQ 3525 4100 3525 3541 \nQ 3525 3141 3298 2862 \nQ 3072 2584 2669 2484 \nQ 3125 2378 3379 2068 \nQ 3634 1759 3634 1313 \nQ 3634 634 3220 271 \nQ 2806 -91 2034 -91 \nQ 1263 -91 848 271 \nQ 434 634 434 1313 \nQ 434 1759 690 2068 \nQ 947 2378 1403 2484 \nz\nM 1172 3481 \nQ 1172 3119 1398 2916 \nQ 1625 2713 2034 2713 \nQ 2441 2713 2670 2916 \nQ 2900 3119 2900 3481 \nQ 2900 3844 2670 4047 \nQ 2441 4250 2034 4250 \nQ 1625 4250 1398 4047 \nQ 1172 3844 1172 3481 \nz\n\" id=\"DejaVuSans-38\" transform=\"scale(0.015625)\"/>\n       </defs>\n       <use xlink:href=\"#DejaVuSans-38\"/>\n       <use x=\"63.623047\" xlink:href=\"#DejaVuSans-30\"/>\n      </g>\n     </g>\n    </g>\n    <g id=\"xtick_6\">\n     <g id=\"line2d_6\">\n      <g>\n       <use style=\"stroke:#000000;stroke-width:0.8;\" x=\"372.799948\" xlink:href=\"#mdf56203842\" y=\"251.82\"/>\n      </g>\n     </g>\n     <g id=\"text_6\">\n      <!-- 100 -->\n      <g transform=\"translate(363.256198 266.418437)scale(0.1 -0.1)\">\n       <defs>\n        <path d=\"M 794 531 \nL 1825 531 \nL 1825 4091 \nL 703 3866 \nL 703 4441 \nL 1819 4666 \nL 2450 4666 \nL 2450 531 \nL 3481 531 \nL 3481 0 \nL 794 0 \nL 794 531 \nz\n\" id=\"DejaVuSans-31\" transform=\"scale(0.015625)\"/>\n       </defs>\n       <use xlink:href=\"#DejaVuSans-31\"/>\n       <use x=\"63.623047\" xlink:href=\"#DejaVuSans-30\"/>\n       <use x=\"127.246094\" xlink:href=\"#DejaVuSans-30\"/>\n      </g>\n     </g>\n    </g>\n    <g id=\"text_7\">\n     <!-- Groups of experiments -->\n     <g transform=\"translate(160.397656 280.096562)scale(0.1 -0.1)\">\n      <defs>\n       <path d=\"M 3809 666 \nL 3809 1919 \nL 2778 1919 \nL 2778 2438 \nL 4434 2438 \nL 4434 434 \nQ 4069 175 3628 42 \nQ 3188 -91 2688 -91 \nQ 1594 -91 976 548 \nQ 359 1188 359 2328 \nQ 359 3472 976 4111 \nQ 1594 4750 2688 4750 \nQ 3144 4750 3555 4637 \nQ 3966 4525 4313 4306 \nL 4313 3634 \nQ 3963 3931 3569 4081 \nQ 3175 4231 2741 4231 \nQ 1884 4231 1454 3753 \nQ 1025 3275 1025 2328 \nQ 1025 1384 1454 906 \nQ 1884 428 2741 428 \nQ 3075 428 3337 486 \nQ 3600 544 3809 666 \nz\n\" id=\"DejaVuSans-47\" transform=\"scale(0.015625)\"/>\n       <path d=\"M 2631 2963 \nQ 2534 3019 2420 3045 \nQ 2306 3072 2169 3072 \nQ 1681 3072 1420 2755 \nQ 1159 2438 1159 1844 \nL 1159 0 \nL 581 0 \nL 581 3500 \nL 1159 3500 \nL 1159 2956 \nQ 1341 3275 1631 3429 \nQ 1922 3584 2338 3584 \nQ 2397 3584 2469 3576 \nQ 2541 3569 2628 3553 \nL 2631 2963 \nz\n\" id=\"DejaVuSans-72\" transform=\"scale(0.015625)\"/>\n       <path d=\"M 1959 3097 \nQ 1497 3097 1228 2736 \nQ 959 2375 959 1747 \nQ 959 1119 1226 758 \nQ 1494 397 1959 397 \nQ 2419 397 2687 759 \nQ 2956 1122 2956 1747 \nQ 2956 2369 2687 2733 \nQ 2419 3097 1959 3097 \nz\nM 1959 3584 \nQ 2709 3584 3137 3096 \nQ 3566 2609 3566 1747 \nQ 3566 888 3137 398 \nQ 2709 -91 1959 -91 \nQ 1206 -91 779 398 \nQ 353 888 353 1747 \nQ 353 2609 779 3096 \nQ 1206 3584 1959 3584 \nz\n\" id=\"DejaVuSans-6f\" transform=\"scale(0.015625)\"/>\n       <path d=\"M 544 1381 \nL 544 3500 \nL 1119 3500 \nL 1119 1403 \nQ 1119 906 1312 657 \nQ 1506 409 1894 409 \nQ 2359 409 2629 706 \nQ 2900 1003 2900 1516 \nL 2900 3500 \nL 3475 3500 \nL 3475 0 \nL 2900 0 \nL 2900 538 \nQ 2691 219 2414 64 \nQ 2138 -91 1772 -91 \nQ 1169 -91 856 284 \nQ 544 659 544 1381 \nz\nM 1991 3584 \nL 1991 3584 \nz\n\" id=\"DejaVuSans-75\" transform=\"scale(0.015625)\"/>\n       <path d=\"M 1159 525 \nL 1159 -1331 \nL 581 -1331 \nL 581 3500 \nL 1159 3500 \nL 1159 2969 \nQ 1341 3281 1617 3432 \nQ 1894 3584 2278 3584 \nQ 2916 3584 3314 3078 \nQ 3713 2572 3713 1747 \nQ 3713 922 3314 415 \nQ 2916 -91 2278 -91 \nQ 1894 -91 1617 61 \nQ 1341 213 1159 525 \nz\nM 3116 1747 \nQ 3116 2381 2855 2742 \nQ 2594 3103 2138 3103 \nQ 1681 3103 1420 2742 \nQ 1159 2381 1159 1747 \nQ 1159 1113 1420 752 \nQ 1681 391 2138 391 \nQ 2594 391 2855 752 \nQ 3116 1113 3116 1747 \nz\n\" id=\"DejaVuSans-70\" transform=\"scale(0.015625)\"/>\n       <path d=\"M 2834 3397 \nL 2834 2853 \nQ 2591 2978 2328 3040 \nQ 2066 3103 1784 3103 \nQ 1356 3103 1142 2972 \nQ 928 2841 928 2578 \nQ 928 2378 1081 2264 \nQ 1234 2150 1697 2047 \nL 1894 2003 \nQ 2506 1872 2764 1633 \nQ 3022 1394 3022 966 \nQ 3022 478 2636 193 \nQ 2250 -91 1575 -91 \nQ 1294 -91 989 -36 \nQ 684 19 347 128 \nL 347 722 \nQ 666 556 975 473 \nQ 1284 391 1588 391 \nQ 1994 391 2212 530 \nQ 2431 669 2431 922 \nQ 2431 1156 2273 1281 \nQ 2116 1406 1581 1522 \nL 1381 1569 \nQ 847 1681 609 1914 \nQ 372 2147 372 2553 \nQ 372 3047 722 3315 \nQ 1072 3584 1716 3584 \nQ 2034 3584 2315 3537 \nQ 2597 3491 2834 3397 \nz\n\" id=\"DejaVuSans-73\" transform=\"scale(0.015625)\"/>\n       <path id=\"DejaVuSans-20\" transform=\"scale(0.015625)\"/>\n       <path d=\"M 2375 4863 \nL 2375 4384 \nL 1825 4384 \nQ 1516 4384 1395 4259 \nQ 1275 4134 1275 3809 \nL 1275 3500 \nL 2222 3500 \nL 2222 3053 \nL 1275 3053 \nL 1275 0 \nL 697 0 \nL 697 3053 \nL 147 3053 \nL 147 3500 \nL 697 3500 \nL 697 3744 \nQ 697 4328 969 4595 \nQ 1241 4863 1831 4863 \nL 2375 4863 \nz\n\" id=\"DejaVuSans-66\" transform=\"scale(0.015625)\"/>\n       <path d=\"M 3597 1894 \nL 3597 1613 \nL 953 1613 \nQ 991 1019 1311 708 \nQ 1631 397 2203 397 \nQ 2534 397 2845 478 \nQ 3156 559 3463 722 \nL 3463 178 \nQ 3153 47 2828 -22 \nQ 2503 -91 2169 -91 \nQ 1331 -91 842 396 \nQ 353 884 353 1716 \nQ 353 2575 817 3079 \nQ 1281 3584 2069 3584 \nQ 2775 3584 3186 3129 \nQ 3597 2675 3597 1894 \nz\nM 3022 2063 \nQ 3016 2534 2758 2815 \nQ 2500 3097 2075 3097 \nQ 1594 3097 1305 2825 \nQ 1016 2553 972 2059 \nL 3022 2063 \nz\n\" id=\"DejaVuSans-65\" transform=\"scale(0.015625)\"/>\n       <path d=\"M 3513 3500 \nL 2247 1797 \nL 3578 0 \nL 2900 0 \nL 1881 1375 \nL 863 0 \nL 184 0 \nL 1544 1831 \nL 300 3500 \nL 978 3500 \nL 1906 2253 \nL 2834 3500 \nL 3513 3500 \nz\n\" id=\"DejaVuSans-78\" transform=\"scale(0.015625)\"/>\n       <path d=\"M 603 3500 \nL 1178 3500 \nL 1178 0 \nL 603 0 \nL 603 3500 \nz\nM 603 4863 \nL 1178 4863 \nL 1178 4134 \nL 603 4134 \nL 603 4863 \nz\n\" id=\"DejaVuSans-69\" transform=\"scale(0.015625)\"/>\n       <path d=\"M 3328 2828 \nQ 3544 3216 3844 3400 \nQ 4144 3584 4550 3584 \nQ 5097 3584 5394 3201 \nQ 5691 2819 5691 2113 \nL 5691 0 \nL 5113 0 \nL 5113 2094 \nQ 5113 2597 4934 2840 \nQ 4756 3084 4391 3084 \nQ 3944 3084 3684 2787 \nQ 3425 2491 3425 1978 \nL 3425 0 \nL 2847 0 \nL 2847 2094 \nQ 2847 2600 2669 2842 \nQ 2491 3084 2119 3084 \nQ 1678 3084 1418 2786 \nQ 1159 2488 1159 1978 \nL 1159 0 \nL 581 0 \nL 581 3500 \nL 1159 3500 \nL 1159 2956 \nQ 1356 3278 1631 3431 \nQ 1906 3584 2284 3584 \nQ 2666 3584 2933 3390 \nQ 3200 3197 3328 2828 \nz\n\" id=\"DejaVuSans-6d\" transform=\"scale(0.015625)\"/>\n       <path d=\"M 3513 2113 \nL 3513 0 \nL 2938 0 \nL 2938 2094 \nQ 2938 2591 2744 2837 \nQ 2550 3084 2163 3084 \nQ 1697 3084 1428 2787 \nQ 1159 2491 1159 1978 \nL 1159 0 \nL 581 0 \nL 581 3500 \nL 1159 3500 \nL 1159 2956 \nQ 1366 3272 1645 3428 \nQ 1925 3584 2291 3584 \nQ 2894 3584 3203 3211 \nQ 3513 2838 3513 2113 \nz\n\" id=\"DejaVuSans-6e\" transform=\"scale(0.015625)\"/>\n       <path d=\"M 1172 4494 \nL 1172 3500 \nL 2356 3500 \nL 2356 3053 \nL 1172 3053 \nL 1172 1153 \nQ 1172 725 1289 603 \nQ 1406 481 1766 481 \nL 2356 481 \nL 2356 0 \nL 1766 0 \nQ 1100 0 847 248 \nQ 594 497 594 1153 \nL 594 3053 \nL 172 3053 \nL 172 3500 \nL 594 3500 \nL 594 4494 \nL 1172 4494 \nz\n\" id=\"DejaVuSans-74\" transform=\"scale(0.015625)\"/>\n      </defs>\n      <use xlink:href=\"#DejaVuSans-47\"/>\n      <use x=\"77.490234\" xlink:href=\"#DejaVuSans-72\"/>\n      <use x=\"116.353516\" xlink:href=\"#DejaVuSans-6f\"/>\n      <use x=\"177.535156\" xlink:href=\"#DejaVuSans-75\"/>\n      <use x=\"240.914062\" xlink:href=\"#DejaVuSans-70\"/>\n      <use x=\"304.390625\" xlink:href=\"#DejaVuSans-73\"/>\n      <use x=\"356.490234\" xlink:href=\"#DejaVuSans-20\"/>\n      <use x=\"388.277344\" xlink:href=\"#DejaVuSans-6f\"/>\n      <use x=\"449.458984\" xlink:href=\"#DejaVuSans-66\"/>\n      <use x=\"484.664062\" xlink:href=\"#DejaVuSans-20\"/>\n      <use x=\"516.451172\" xlink:href=\"#DejaVuSans-65\"/>\n      <use x=\"576.224609\" xlink:href=\"#DejaVuSans-78\"/>\n      <use x=\"635.404297\" xlink:href=\"#DejaVuSans-70\"/>\n      <use x=\"698.880859\" xlink:href=\"#DejaVuSans-65\"/>\n      <use x=\"760.404297\" xlink:href=\"#DejaVuSans-72\"/>\n      <use x=\"801.517578\" xlink:href=\"#DejaVuSans-69\"/>\n      <use x=\"829.300781\" xlink:href=\"#DejaVuSans-6d\"/>\n      <use x=\"926.712891\" xlink:href=\"#DejaVuSans-65\"/>\n      <use x=\"988.236328\" xlink:href=\"#DejaVuSans-6e\"/>\n      <use x=\"1051.615234\" xlink:href=\"#DejaVuSans-74\"/>\n      <use x=\"1090.824219\" xlink:href=\"#DejaVuSans-73\"/>\n     </g>\n    </g>\n   </g>\n   <g id=\"matplotlib.axis_2\">\n    <g id=\"ytick_1\">\n     <g id=\"line2d_7\">\n      <defs>\n       <path d=\"M 0 0 \nL -3.5 0 \n\" id=\"m34fa783d1e\" style=\"stroke:#000000;stroke-width:0.8;\"/>\n      </defs>\n      <g>\n       <use style=\"stroke:#000000;stroke-width:0.8;\" x=\"50.14375\" xlink:href=\"#m34fa783d1e\" y=\"240.700909\"/>\n      </g>\n     </g>\n     <g id=\"text_8\">\n      <!-- 0.00 -->\n      <g transform=\"translate(20.878125 244.500128)scale(0.1 -0.1)\">\n       <defs>\n        <path d=\"M 684 794 \nL 1344 794 \nL 1344 0 \nL 684 0 \nL 684 794 \nz\n\" id=\"DejaVuSans-2e\" transform=\"scale(0.015625)\"/>\n       </defs>\n       <use xlink:href=\"#DejaVuSans-30\"/>\n       <use x=\"63.623047\" xlink:href=\"#DejaVuSans-2e\"/>\n       <use x=\"95.410156\" xlink:href=\"#DejaVuSans-30\"/>\n       <use x=\"159.033203\" xlink:href=\"#DejaVuSans-30\"/>\n      </g>\n     </g>\n    </g>\n    <g id=\"ytick_2\">\n     <g id=\"line2d_8\">\n      <g>\n       <use style=\"stroke:#000000;stroke-width:0.8;\" x=\"50.14375\" xlink:href=\"#m34fa783d1e\" y=\"212.903182\"/>\n      </g>\n     </g>\n     <g id=\"text_9\">\n      <!-- 0.05 -->\n      <g transform=\"translate(20.878125 216.702401)scale(0.1 -0.1)\">\n       <defs>\n        <path d=\"M 691 4666 \nL 3169 4666 \nL 3169 4134 \nL 1269 4134 \nL 1269 2991 \nQ 1406 3038 1543 3061 \nQ 1681 3084 1819 3084 \nQ 2600 3084 3056 2656 \nQ 3513 2228 3513 1497 \nQ 3513 744 3044 326 \nQ 2575 -91 1722 -91 \nQ 1428 -91 1123 -41 \nQ 819 9 494 109 \nL 494 744 \nQ 775 591 1075 516 \nQ 1375 441 1709 441 \nQ 2250 441 2565 725 \nQ 2881 1009 2881 1497 \nQ 2881 1984 2565 2268 \nQ 2250 2553 1709 2553 \nQ 1456 2553 1204 2497 \nQ 953 2441 691 2322 \nL 691 4666 \nz\n\" id=\"DejaVuSans-35\" transform=\"scale(0.015625)\"/>\n       </defs>\n       <use xlink:href=\"#DejaVuSans-30\"/>\n       <use x=\"63.623047\" xlink:href=\"#DejaVuSans-2e\"/>\n       <use x=\"95.410156\" xlink:href=\"#DejaVuSans-30\"/>\n       <use x=\"159.033203\" xlink:href=\"#DejaVuSans-35\"/>\n      </g>\n     </g>\n    </g>\n    <g id=\"ytick_3\">\n     <g id=\"line2d_9\">\n      <g>\n       <use style=\"stroke:#000000;stroke-width:0.8;\" x=\"50.14375\" xlink:href=\"#m34fa783d1e\" y=\"185.105455\"/>\n      </g>\n     </g>\n     <g id=\"text_10\">\n      <!-- 0.10 -->\n      <g transform=\"translate(20.878125 188.904674)scale(0.1 -0.1)\">\n       <use xlink:href=\"#DejaVuSans-30\"/>\n       <use x=\"63.623047\" xlink:href=\"#DejaVuSans-2e\"/>\n       <use x=\"95.410156\" xlink:href=\"#DejaVuSans-31\"/>\n       <use x=\"159.033203\" xlink:href=\"#DejaVuSans-30\"/>\n      </g>\n     </g>\n    </g>\n    <g id=\"ytick_4\">\n     <g id=\"line2d_10\">\n      <g>\n       <use style=\"stroke:#000000;stroke-width:0.8;\" x=\"50.14375\" xlink:href=\"#m34fa783d1e\" y=\"157.307729\"/>\n      </g>\n     </g>\n     <g id=\"text_11\">\n      <!-- 0.15 -->\n      <g transform=\"translate(20.878125 161.106947)scale(0.1 -0.1)\">\n       <use xlink:href=\"#DejaVuSans-30\"/>\n       <use x=\"63.623047\" xlink:href=\"#DejaVuSans-2e\"/>\n       <use x=\"95.410156\" xlink:href=\"#DejaVuSans-31\"/>\n       <use x=\"159.033203\" xlink:href=\"#DejaVuSans-35\"/>\n      </g>\n     </g>\n    </g>\n    <g id=\"ytick_5\">\n     <g id=\"line2d_11\">\n      <g>\n       <use style=\"stroke:#000000;stroke-width:0.8;\" x=\"50.14375\" xlink:href=\"#m34fa783d1e\" y=\"129.510002\"/>\n      </g>\n     </g>\n     <g id=\"text_12\">\n      <!-- 0.20 -->\n      <g transform=\"translate(20.878125 133.30922)scale(0.1 -0.1)\">\n       <use xlink:href=\"#DejaVuSans-30\"/>\n       <use x=\"63.623047\" xlink:href=\"#DejaVuSans-2e\"/>\n       <use x=\"95.410156\" xlink:href=\"#DejaVuSans-32\"/>\n       <use x=\"159.033203\" xlink:href=\"#DejaVuSans-30\"/>\n      </g>\n     </g>\n    </g>\n    <g id=\"ytick_6\">\n     <g id=\"line2d_12\">\n      <g>\n       <use style=\"stroke:#000000;stroke-width:0.8;\" x=\"50.14375\" xlink:href=\"#m34fa783d1e\" y=\"101.712275\"/>\n      </g>\n     </g>\n     <g id=\"text_13\">\n      <!-- 0.25 -->\n      <g transform=\"translate(20.878125 105.511494)scale(0.1 -0.1)\">\n       <use xlink:href=\"#DejaVuSans-30\"/>\n       <use x=\"63.623047\" xlink:href=\"#DejaVuSans-2e\"/>\n       <use x=\"95.410156\" xlink:href=\"#DejaVuSans-32\"/>\n       <use x=\"159.033203\" xlink:href=\"#DejaVuSans-35\"/>\n      </g>\n     </g>\n    </g>\n    <g id=\"ytick_7\">\n     <g id=\"line2d_13\">\n      <g>\n       <use style=\"stroke:#000000;stroke-width:0.8;\" x=\"50.14375\" xlink:href=\"#m34fa783d1e\" y=\"73.914548\"/>\n      </g>\n     </g>\n     <g id=\"text_14\">\n      <!-- 0.30 -->\n      <g transform=\"translate(20.878125 77.713767)scale(0.1 -0.1)\">\n       <defs>\n        <path d=\"M 2597 2516 \nQ 3050 2419 3304 2112 \nQ 3559 1806 3559 1356 \nQ 3559 666 3084 287 \nQ 2609 -91 1734 -91 \nQ 1441 -91 1130 -33 \nQ 819 25 488 141 \nL 488 750 \nQ 750 597 1062 519 \nQ 1375 441 1716 441 \nQ 2309 441 2620 675 \nQ 2931 909 2931 1356 \nQ 2931 1769 2642 2001 \nQ 2353 2234 1838 2234 \nL 1294 2234 \nL 1294 2753 \nL 1863 2753 \nQ 2328 2753 2575 2939 \nQ 2822 3125 2822 3475 \nQ 2822 3834 2567 4026 \nQ 2313 4219 1838 4219 \nQ 1578 4219 1281 4162 \nQ 984 4106 628 3988 \nL 628 4550 \nQ 988 4650 1302 4700 \nQ 1616 4750 1894 4750 \nQ 2613 4750 3031 4423 \nQ 3450 4097 3450 3541 \nQ 3450 3153 3228 2886 \nQ 3006 2619 2597 2516 \nz\n\" id=\"DejaVuSans-33\" transform=\"scale(0.015625)\"/>\n       </defs>\n       <use xlink:href=\"#DejaVuSans-30\"/>\n       <use x=\"63.623047\" xlink:href=\"#DejaVuSans-2e\"/>\n       <use x=\"95.410156\" xlink:href=\"#DejaVuSans-33\"/>\n       <use x=\"159.033203\" xlink:href=\"#DejaVuSans-30\"/>\n      </g>\n     </g>\n    </g>\n    <g id=\"ytick_8\">\n     <g id=\"line2d_14\">\n      <g>\n       <use style=\"stroke:#000000;stroke-width:0.8;\" x=\"50.14375\" xlink:href=\"#m34fa783d1e\" y=\"46.116821\"/>\n      </g>\n     </g>\n     <g id=\"text_15\">\n      <!-- 0.35 -->\n      <g transform=\"translate(20.878125 49.91604)scale(0.1 -0.1)\">\n       <use xlink:href=\"#DejaVuSans-30\"/>\n       <use x=\"63.623047\" xlink:href=\"#DejaVuSans-2e\"/>\n       <use x=\"95.410156\" xlink:href=\"#DejaVuSans-33\"/>\n       <use x=\"159.033203\" xlink:href=\"#DejaVuSans-35\"/>\n      </g>\n     </g>\n    </g>\n    <g id=\"ytick_9\">\n     <g id=\"line2d_15\">\n      <g>\n       <use style=\"stroke:#000000;stroke-width:0.8;\" x=\"50.14375\" xlink:href=\"#m34fa783d1e\" y=\"18.319094\"/>\n      </g>\n     </g>\n     <g id=\"text_16\">\n      <!-- 0.40 -->\n      <g transform=\"translate(20.878125 22.118313)scale(0.1 -0.1)\">\n       <use xlink:href=\"#DejaVuSans-30\"/>\n       <use x=\"63.623047\" xlink:href=\"#DejaVuSans-2e\"/>\n       <use x=\"95.410156\" xlink:href=\"#DejaVuSans-34\"/>\n       <use x=\"159.033203\" xlink:href=\"#DejaVuSans-30\"/>\n      </g>\n     </g>\n    </g>\n    <g id=\"text_17\">\n     <!-- Estimated probability -->\n     <g transform=\"translate(14.798438 183.033437)rotate(-90)scale(0.1 -0.1)\">\n      <defs>\n       <path d=\"M 628 4666 \nL 3578 4666 \nL 3578 4134 \nL 1259 4134 \nL 1259 2753 \nL 3481 2753 \nL 3481 2222 \nL 1259 2222 \nL 1259 531 \nL 3634 531 \nL 3634 0 \nL 628 0 \nL 628 4666 \nz\n\" id=\"DejaVuSans-45\" transform=\"scale(0.015625)\"/>\n       <path d=\"M 2194 1759 \nQ 1497 1759 1228 1600 \nQ 959 1441 959 1056 \nQ 959 750 1161 570 \nQ 1363 391 1709 391 \nQ 2188 391 2477 730 \nQ 2766 1069 2766 1631 \nL 2766 1759 \nL 2194 1759 \nz\nM 3341 1997 \nL 3341 0 \nL 2766 0 \nL 2766 531 \nQ 2569 213 2275 61 \nQ 1981 -91 1556 -91 \nQ 1019 -91 701 211 \nQ 384 513 384 1019 \nQ 384 1609 779 1909 \nQ 1175 2209 1959 2209 \nL 2766 2209 \nL 2766 2266 \nQ 2766 2663 2505 2880 \nQ 2244 3097 1772 3097 \nQ 1472 3097 1187 3025 \nQ 903 2953 641 2809 \nL 641 3341 \nQ 956 3463 1253 3523 \nQ 1550 3584 1831 3584 \nQ 2591 3584 2966 3190 \nQ 3341 2797 3341 1997 \nz\n\" id=\"DejaVuSans-61\" transform=\"scale(0.015625)\"/>\n       <path d=\"M 2906 2969 \nL 2906 4863 \nL 3481 4863 \nL 3481 0 \nL 2906 0 \nL 2906 525 \nQ 2725 213 2448 61 \nQ 2172 -91 1784 -91 \nQ 1150 -91 751 415 \nQ 353 922 353 1747 \nQ 353 2572 751 3078 \nQ 1150 3584 1784 3584 \nQ 2172 3584 2448 3432 \nQ 2725 3281 2906 2969 \nz\nM 947 1747 \nQ 947 1113 1208 752 \nQ 1469 391 1925 391 \nQ 2381 391 2643 752 \nQ 2906 1113 2906 1747 \nQ 2906 2381 2643 2742 \nQ 2381 3103 1925 3103 \nQ 1469 3103 1208 2742 \nQ 947 2381 947 1747 \nz\n\" id=\"DejaVuSans-64\" transform=\"scale(0.015625)\"/>\n       <path d=\"M 3116 1747 \nQ 3116 2381 2855 2742 \nQ 2594 3103 2138 3103 \nQ 1681 3103 1420 2742 \nQ 1159 2381 1159 1747 \nQ 1159 1113 1420 752 \nQ 1681 391 2138 391 \nQ 2594 391 2855 752 \nQ 3116 1113 3116 1747 \nz\nM 1159 2969 \nQ 1341 3281 1617 3432 \nQ 1894 3584 2278 3584 \nQ 2916 3584 3314 3078 \nQ 3713 2572 3713 1747 \nQ 3713 922 3314 415 \nQ 2916 -91 2278 -91 \nQ 1894 -91 1617 61 \nQ 1341 213 1159 525 \nL 1159 0 \nL 581 0 \nL 581 4863 \nL 1159 4863 \nL 1159 2969 \nz\n\" id=\"DejaVuSans-62\" transform=\"scale(0.015625)\"/>\n       <path d=\"M 603 4863 \nL 1178 4863 \nL 1178 0 \nL 603 0 \nL 603 4863 \nz\n\" id=\"DejaVuSans-6c\" transform=\"scale(0.015625)\"/>\n       <path d=\"M 2059 -325 \nQ 1816 -950 1584 -1140 \nQ 1353 -1331 966 -1331 \nL 506 -1331 \nL 506 -850 \nL 844 -850 \nQ 1081 -850 1212 -737 \nQ 1344 -625 1503 -206 \nL 1606 56 \nL 191 3500 \nL 800 3500 \nL 1894 763 \nL 2988 3500 \nL 3597 3500 \nL 2059 -325 \nz\n\" id=\"DejaVuSans-79\" transform=\"scale(0.015625)\"/>\n      </defs>\n      <use xlink:href=\"#DejaVuSans-45\"/>\n      <use x=\"63.183594\" xlink:href=\"#DejaVuSans-73\"/>\n      <use x=\"115.283203\" xlink:href=\"#DejaVuSans-74\"/>\n      <use x=\"154.492188\" xlink:href=\"#DejaVuSans-69\"/>\n      <use x=\"182.275391\" xlink:href=\"#DejaVuSans-6d\"/>\n      <use x=\"279.6875\" xlink:href=\"#DejaVuSans-61\"/>\n      <use x=\"340.966797\" xlink:href=\"#DejaVuSans-74\"/>\n      <use x=\"380.175781\" xlink:href=\"#DejaVuSans-65\"/>\n      <use x=\"441.699219\" xlink:href=\"#DejaVuSans-64\"/>\n      <use x=\"505.175781\" xlink:href=\"#DejaVuSans-20\"/>\n      <use x=\"536.962891\" xlink:href=\"#DejaVuSans-70\"/>\n      <use x=\"600.439453\" xlink:href=\"#DejaVuSans-72\"/>\n      <use x=\"639.302734\" xlink:href=\"#DejaVuSans-6f\"/>\n      <use x=\"700.484375\" xlink:href=\"#DejaVuSans-62\"/>\n      <use x=\"763.960938\" xlink:href=\"#DejaVuSans-61\"/>\n      <use x=\"825.240234\" xlink:href=\"#DejaVuSans-62\"/>\n      <use x=\"888.716797\" xlink:href=\"#DejaVuSans-69\"/>\n      <use x=\"916.5\" xlink:href=\"#DejaVuSans-6c\"/>\n      <use x=\"944.283203\" xlink:href=\"#DejaVuSans-69\"/>\n      <use x=\"972.066406\" xlink:href=\"#DejaVuSans-74\"/>\n      <use x=\"1011.275391\" xlink:href=\"#DejaVuSans-79\"/>\n     </g>\n    </g>\n   </g>\n   <g id=\"line2d_16\">\n    <path clip-path=\"url(#pd7d4afc876)\" d=\"M 65.361932 185.105455 \nL 68.436312 157.307725 \nL 71.510692 110.978183 \nL 74.585072 115.611142 \nL 77.659452 140.629088 \nL 80.733833 148.041817 \nL 83.808213 153.336622 \nL 86.882593 143.408867 \nL 89.956973 135.687272 \nL 93.031353 129.51 \nL 96.105733 134.564136 \nL 99.180114 134.142958 \nL 102.254494 138.063146 \nL 105.328874 141.423311 \nL 108.403254 140.629088 \nL 111.477634 146.883579 \nL 114.552014 145.861603 \nL 117.626395 148.041817 \nL 120.700775 147.066457 \nL 123.775155 146.188637 \nL 126.849535 145.394414 \nL 129.923915 144.672399 \nL 132.998295 141.595974 \nL 136.072676 145.725342 \nL 139.147056 145.076725 \nL 142.221436 146.616292 \nL 145.295816 145.982729 \nL 148.370196 143.408867 \nL 151.444576 139.095428 \nL 154.518957 138.775908 \nL 157.593337 142.063817 \nL 160.667717 139.934146 \nL 163.742097 139.618263 \nL 166.816477 139.320962 \nL 169.890857 139.040652 \nL 172.965238 141.864545 \nL 176.039618 140.028058 \nL 179.113998 139.751268 \nL 182.188378 138.063146 \nL 185.262758 139.239203 \nL 188.337138 140.357891 \nL 191.411519 140.09961 \nL 194.485899 139.85334 \nL 197.560279 142.145335 \nL 200.634659 143.100001 \nL 203.709039 142.804564 \nL 206.783419 142.521702 \nL 209.8578 142.250629 \nL 212.93218 140.856014 \nL 216.00656 140.629088 \nL 219.08094 139.320962 \nL 222.15532 140.201433 \nL 225.2297 141.048683 \nL 228.304081 141.864545 \nL 231.378461 139.618263 \nL 234.452841 139.437763 \nL 237.527221 138.288232 \nL 240.601601 139.095428 \nL 243.675981 139.875252 \nL 246.750362 140.629088 \nL 249.824742 138.624015 \nL 252.899122 137.580308 \nL 255.973502 138.334675 \nL 259.047882 139.934146 \nL 262.122262 141.484408 \nL 265.196643 142.145335 \nL 268.271023 142.786528 \nL 271.345403 144.226443 \nL 274.419783 144.818891 \nL 277.494163 145.394414 \nL 280.568543 144.387657 \nL 283.642924 144.181028 \nL 286.717304 141.695303 \nL 289.791684 143.03322 \nL 292.866064 143.59418 \nL 295.940444 141.214304 \nL 299.014824 141.062303 \nL 302.089205 141.626957 \nL 305.163585 141.47358 \nL 308.237965 142.018982 \nL 311.312345 141.864545 \nL 314.386725 141.713885 \nL 317.461105 142.23667 \nL 320.535486 143.408867 \nL 323.609866 143.24535 \nL 326.684246 143.085636 \nL 329.758626 141.012506 \nL 332.833006 141.513569 \nL 335.907386 140.754025 \nL 338.981767 141.246821 \nL 342.056147 141.117841 \nL 345.130527 142.200269 \nL 348.204907 141.466017 \nL 351.279287 141.338819 \nL 354.353667 140.043881 \nL 357.428048 141.092392 \nL 360.502428 142.119281 \nL 363.576808 142.557913 \nL 366.651188 141.30298 \nL 369.725568 142.296955 \n\" style=\"fill:none;stroke:#1f77b4;stroke-linecap:square;stroke-width:1.5;\"/>\n   </g>\n   <g id=\"line2d_17\">\n    <path clip-path=\"url(#pd7d4afc876)\" d=\"M 65.361932 18.319091 \nL 68.436312 46.116824 \nL 71.510692 110.978183 \nL 74.585072 129.51 \nL 77.659452 140.629088 \nL 80.733833 138.775908 \nL 83.808213 137.452207 \nL 86.882593 150.3583 \nL 89.956973 160.396361 \nL 93.031353 157.307725 \nL 96.105733 159.834797 \nL 99.180114 152.674775 \nL 102.254494 150.892866 \nL 105.328874 141.423311 \nL 108.403254 136.922728 \nL 111.477634 139.934146 \nL 114.552014 139.320962 \nL 117.626395 135.687272 \nL 120.700775 138.288232 \nL 123.775155 135.069548 \nL 126.849535 134.804805 \nL 129.923915 139.618263 \nL 132.998295 144.013162 \nL 136.072676 148.041817 \nL 139.147056 149.524362 \nL 142.221436 150.892866 \nL 145.295816 152.160001 \nL 148.370196 151.351074 \nL 151.444576 152.515019 \nL 154.518957 155.454545 \nL 157.593337 151.030825 \nL 160.667717 150.3583 \nL 163.742097 146.357108 \nL 166.816477 149.131924 \nL 169.890857 146.982859 \nL 172.965238 146.497503 \nL 176.039618 147.54096 \nL 179.113998 148.529501 \nL 182.188378 148.041817 \nL 185.262758 150.3583 \nL 188.337138 149.849806 \nL 191.411519 150.689219 \nL 194.485899 151.489597 \nL 197.560279 150.990066 \nL 200.634659 150.512729 \nL 203.709039 150.056144 \nL 206.783419 148.436111 \nL 209.8578 150.3583 \nL 212.93218 149.932823 \nL 216.00656 149.524362 \nL 219.08094 151.312137 \nL 222.15532 153.031152 \nL 225.2297 152.587358 \nL 228.304081 154.219089 \nL 231.378461 155.791487 \nL 234.452841 156.314951 \nL 237.527221 154.869329 \nL 240.601601 155.390648 \nL 243.675981 155.894288 \nL 246.750362 153.601365 \nL 249.824742 154.117829 \nL 252.899122 154.617625 \nL 255.973502 154.219089 \nL 259.047882 152.095656 \nL 262.122262 153.458816 \nL 265.196643 154.780662 \nL 268.271023 155.23327 \nL 271.345403 154.854989 \nL 274.419783 153.681939 \nL 277.494163 152.542408 \nL 280.568543 153.784077 \nL 283.642924 154.219089 \nL 286.717304 155.403779 \nL 289.791684 155.805148 \nL 292.866064 156.937091 \nL 295.940444 156.576207 \nL 299.014824 156.224701 \nL 302.089205 154.456676 \nL 305.163585 154.844642 \nL 308.237965 155.222898 \nL 311.312345 154.905457 \nL 314.386725 154.595754 \nL 317.461105 154.96334 \nL 320.535486 155.322178 \nL 323.609866 155.018506 \nL 326.684246 155.368355 \nL 329.758626 156.349182 \nL 332.833006 155.412427 \nL 335.907386 155.121389 \nL 338.981767 155.454545 \nL 342.056147 155.780378 \nL 345.130527 154.890537 \nL 348.204907 155.215425 \nL 351.279287 154.350521 \nL 354.353667 155.259473 \nL 357.428048 154.412131 \nL 360.502428 154.155407 \nL 363.576808 154.471224 \nL 366.651188 154.219089 \nL 369.725568 155.083911 \n\" style=\"fill:none;stroke:#ff7f0e;stroke-linecap:square;stroke-width:1.5;\"/>\n   </g>\n   <g id=\"line2d_18\">\n    <path clip-path=\"url(#pd7d4afc876)\" d=\"M 65.361932 73.914541 \nL 68.436312 129.51 \nL 71.510692 148.041817 \nL 74.585072 143.408867 \nL 77.659452 162.867274 \nL 80.733833 175.839546 \nL 83.808213 177.163247 \nL 86.882593 171.206592 \nL 89.956973 172.75091 \nL 93.031353 173.986366 \nL 96.105733 159.834797 \nL 99.180114 161.940684 \nL 102.254494 167.999158 \nL 105.328874 173.192144 \nL 108.403254 173.986366 \nL 111.477634 157.307725 \nL 114.552014 162.213206 \nL 117.626395 166.573634 \nL 120.700775 167.548994 \nL 123.775155 168.426822 \nL 126.849535 166.573634 \nL 129.923915 164.888924 \nL 132.998295 165.767904 \nL 136.072676 166.573634 \nL 139.147056 160.643459 \nL 142.221436 163.722585 \nL 145.295816 162.455458 \nL 148.370196 163.264385 \nL 151.444576 165.934611 \nL 154.518957 164.720454 \nL 157.593337 163.584634 \nL 160.667717 165.994515 \nL 163.742097 168.258351 \nL 166.816477 167.118687 \nL 169.890857 164.455718 \nL 172.965238 163.484997 \nL 176.039618 162.566758 \nL 179.113998 163.159877 \nL 182.188378 163.722585 \nL 185.262758 164.257159 \nL 188.337138 162.053682 \nL 191.411519 159.955128 \nL 194.485899 156.661271 \nL 197.560279 154.780662 \nL 200.634659 154.219089 \nL 203.709039 153.681939 \nL 206.783419 153.167645 \nL 209.8578 151.516538 \nL 212.93218 153.336622 \nL 216.00656 155.083911 \nL 219.08094 154.582458 \nL 222.15532 154.1003 \nL 225.2297 153.636333 \nL 228.304081 155.248637 \nL 231.378461 152.759011 \nL 234.452841 152.343848 \nL 237.527221 152.918617 \nL 240.601601 151.556477 \nL 243.675981 152.125099 \nL 246.750362 150.821595 \nL 249.824742 152.29502 \nL 252.899122 152.824225 \nL 255.973502 150.689219 \nL 259.047882 151.226974 \nL 262.122262 149.182243 \nL 265.196643 149.726534 \nL 268.271023 150.254572 \nL 271.345403 151.584668 \nL 274.419783 151.264743 \nL 277.494163 151.748185 \nL 280.568543 150.651931 \nL 283.642924 151.902614 \nL 286.717304 152.357451 \nL 289.791684 150.546123 \nL 292.866064 151.006908 \nL 295.940444 150.724055 \nL 299.014824 151.89259 \nL 302.089205 152.31839 \nL 305.163585 152.02968 \nL 308.237965 152.443128 \nL 311.312345 152.160001 \nL 314.386725 151.883784 \nL 317.461105 151.614219 \nL 320.535486 152.01292 \nL 323.609866 152.402244 \nL 326.684246 153.428976 \nL 329.758626 153.154042 \nL 332.833006 152.253598 \nL 335.907386 153.247382 \nL 338.981767 152.365909 \nL 342.056147 153.336622 \nL 345.130527 153.681939 \nL 348.204907 153.422025 \nL 351.279287 153.759083 \nL 354.353667 153.503825 \nL 357.428048 153.253894 \nL 360.502428 153.582261 \nL 363.576808 152.769325 \nL 366.651188 153.095952 \nL 369.725568 152.860088 \n\" style=\"fill:none;stroke:#2ca02c;stroke-linecap:square;stroke-width:1.5;\"/>\n   </g>\n   <g id=\"line2d_19\">\n    <path clip-path=\"url(#pd7d4afc876)\" d=\"M 65.361932 240.700909 \nL 68.436312 212.903182 \nL 71.510692 203.637271 \nL 74.585072 199.004317 \nL 77.659452 185.105455 \nL 80.733833 185.105455 \nL 83.808213 169.221036 \nL 86.882593 171.206592 \nL 89.956973 166.573634 \nL 93.031353 168.426822 \nL 96.105733 154.780662 \nL 99.180114 161.940684 \nL 102.254494 159.446012 \nL 105.328874 157.307725 \nL 108.403254 151.748185 \nL 111.477634 157.307725 \nL 114.552014 162.213206 \nL 117.626395 151.130453 \nL 120.700775 149.992537 \nL 123.775155 146.188637 \nL 126.849535 142.747012 \nL 129.923915 137.091199 \nL 132.998295 139.178777 \nL 136.072676 141.092392 \nL 139.147056 142.852911 \nL 142.221436 138.063146 \nL 145.295816 139.805457 \nL 148.370196 139.437763 \nL 151.444576 142.929591 \nL 154.518957 140.629088 \nL 157.593337 142.063817 \nL 160.667717 138.19679 \nL 163.742097 141.30298 \nL 166.816477 139.320962 \nL 169.890857 140.629088 \nL 172.965238 141.864545 \nL 176.039618 144.535798 \nL 179.113998 144.140385 \nL 182.188378 145.190768 \nL 185.262758 147.578522 \nL 188.337138 147.137827 \nL 191.411519 149.365518 \nL 194.485899 150.19668 \nL 197.560279 148.462994 \nL 200.634659 150.512729 \nL 203.709039 147.638956 \nL 206.783419 148.436111 \nL 209.8578 148.041817 \nL 212.93218 148.798221 \nL 216.00656 147.300548 \nL 219.08094 146.95171 \nL 222.15532 146.616292 \nL 225.2297 148.391475 \nL 228.304081 147.012277 \nL 231.378461 146.69405 \nL 234.452841 146.387197 \nL 237.527221 146.091105 \nL 240.601601 146.763762 \nL 243.675981 144.586738 \nL 246.750362 146.188637 \nL 249.824742 145.003815 \nL 252.899122 142.063817 \nL 255.973502 141.864545 \nL 259.047882 142.540184 \nL 262.122262 142.339719 \nL 265.196643 142.145335 \nL 268.271023 141.126962 \nL 271.345403 140.138546 \nL 274.419783 140.790236 \nL 277.494163 140.629088 \nL 280.568543 140.472489 \nL 283.642924 138.775908 \nL 286.717304 138.648984 \nL 289.791684 139.276773 \nL 292.866064 139.88782 \nL 295.940444 141.214304 \nL 299.014824 142.506343 \nL 302.089205 143.765244 \nL 305.163585 144.288542 \nL 308.237965 143.408867 \nL 311.312345 143.237273 \nL 314.386725 143.747863 \nL 317.461105 142.23667 \nL 320.535486 143.408867 \nL 323.609866 144.553476 \nL 326.684246 143.085636 \nL 329.758626 143.568622 \nL 332.833006 143.408867 \nL 335.907386 144.502031 \nL 338.981767 143.717733 \nL 342.056147 142.950658 \nL 345.130527 142.804564 \nL 348.204907 143.259417 \nL 351.279287 144.296023 \nL 354.353667 143.555169 \nL 357.428048 142.829748 \nL 360.502428 142.119281 \nL 363.576808 141.423311 \nL 366.651188 141.864545 \nL 369.725568 141.741 \n\" style=\"fill:none;stroke:#d62728;stroke-linecap:square;stroke-width:1.5;\"/>\n   </g>\n   <g id=\"line2d_20\">\n    <path clip-path=\"url(#pd7d4afc876)\" d=\"M 65.361932 185.105455 \nL 68.436312 157.307725 \nL 71.510692 166.573634 \nL 74.585072 143.408867 \nL 77.659452 118.390912 \nL 80.733833 92.446358 \nL 83.808213 89.798956 \nL 86.882593 87.813408 \nL 89.956973 104.800911 \nL 93.031353 107.271823 \nL 96.105733 119.401737 \nL 99.180114 124.87705 \nL 102.254494 125.233427 \nL 105.328874 133.481104 \nL 108.403254 140.629088 \nL 111.477634 143.408867 \nL 114.552014 139.320962 \nL 117.626395 141.864545 \nL 120.700775 141.214304 \nL 123.775155 143.408867 \nL 126.849535 148.041817 \nL 129.923915 147.199462 \nL 132.998295 144.013162 \nL 136.072676 134.142958 \nL 139.147056 138.405274 \nL 142.221436 135.92486 \nL 145.295816 135.687272 \nL 148.370196 137.452207 \nL 151.444576 141.012506 \nL 154.518957 140.629088 \nL 157.593337 142.063817 \nL 160.667717 143.408867 \nL 163.742097 144.672399 \nL 166.816477 144.226443 \nL 169.890857 145.394414 \nL 172.965238 144.953181 \nL 176.039618 144.535798 \nL 179.113998 142.677349 \nL 182.188378 142.339719 \nL 185.262758 136.459433 \nL 188.337138 137.645921 \nL 191.411519 136.128506 \nL 194.485899 137.267507 \nL 197.560279 138.354731 \nL 200.634659 135.687272 \nL 203.709039 137.970179 \nL 206.783419 138.97306 \nL 209.8578 137.617671 \nL 212.93218 136.317605 \nL 216.00656 137.293363 \nL 219.08094 139.320962 \nL 222.15532 138.063146 \nL 225.2297 138.950742 \nL 228.304081 137.746369 \nL 231.378461 139.618263 \nL 234.452841 139.437763 \nL 237.527221 140.238953 \nL 240.601601 140.053971 \nL 243.675981 141.759847 \nL 246.750362 143.408867 \nL 249.824742 144.092418 \nL 252.899122 145.650617 \nL 255.973502 146.276882 \nL 259.047882 145.146223 \nL 262.122262 145.760981 \nL 265.196643 145.514753 \nL 268.271023 145.275873 \nL 271.345403 145.044027 \nL 274.419783 146.430358 \nL 277.494163 147.777082 \nL 280.568543 148.302832 \nL 283.642924 148.813978 \nL 286.717304 148.549541 \nL 289.791684 148.292253 \nL 292.866064 146.559271 \nL 295.940444 147.797983 \nL 299.014824 146.116439 \nL 302.089205 145.190768 \nL 305.163585 144.992283 \nL 308.237965 143.408867 \nL 311.312345 144.610001 \nL 314.386725 145.103848 \nL 317.461105 145.585792 \nL 320.535486 142.085166 \nL 323.609866 141.937223 \nL 326.684246 142.439173 \nL 329.758626 143.568622 \nL 332.833006 144.672399 \nL 335.907386 143.877364 \nL 338.981767 143.717733 \nL 342.056147 142.339719 \nL 345.130527 142.804564 \nL 348.204907 142.661617 \nL 351.279287 141.338819 \nL 354.353667 142.384737 \nL 357.428048 142.829748 \nL 360.502428 143.26558 \nL 363.576808 143.125218 \nL 366.651188 143.549254 \nL 369.725568 142.852911 \n\" style=\"fill:none;stroke:#9467bd;stroke-linecap:square;stroke-width:1.5;\"/>\n   </g>\n   <g id=\"line2d_21\">\n    <path clip-path=\"url(#pd7d4afc876)\" d=\"M 65.361932 185.105455 \nL 68.436312 185.105455 \nL 71.510692 148.041817 \nL 74.585072 157.307725 \nL 77.659452 140.629088 \nL 80.733833 148.041817 \nL 83.808213 161.278829 \nL 86.882593 164.257159 \nL 89.956973 148.041817 \nL 93.031353 151.748185 \nL 96.105733 159.834797 \nL 99.180114 152.674775 \nL 102.254494 146.616292 \nL 105.328874 141.423311 \nL 108.403254 144.335457 \nL 111.477634 143.408867 \nL 114.552014 139.320962 \nL 117.626395 144.953181 \nL 120.700775 144.140385 \nL 123.775155 148.968407 \nL 126.849535 150.689219 \nL 129.923915 154.780662 \nL 132.998295 153.681939 \nL 136.072676 152.674775 \nL 139.147056 151.748185 \nL 142.221436 153.031152 \nL 145.295816 152.160001 \nL 148.370196 153.336622 \nL 151.444576 146.763762 \nL 154.518957 148.041817 \nL 157.593337 147.444017 \nL 160.667717 150.3583 \nL 163.742097 148.041817 \nL 166.816477 149.131924 \nL 169.890857 151.748185 \nL 172.965238 149.586139 \nL 176.039618 149.043538 \nL 179.113998 149.992537 \nL 182.188378 150.892866 \nL 185.262758 150.3583 \nL 188.337138 151.205791 \nL 191.411519 152.01292 \nL 194.485899 152.782513 \nL 197.560279 153.51713 \nL 200.634659 154.219089 \nL 203.709039 156.099135 \nL 206.783419 156.716288 \nL 209.8578 158.465971 \nL 212.93218 159.009633 \nL 216.00656 158.419637 \nL 219.08094 156.762672 \nL 222.15532 156.238586 \nL 225.2297 153.636333 \nL 228.304081 152.160001 \nL 231.378461 153.769836 \nL 234.452841 154.329404 \nL 237.527221 155.844689 \nL 240.601601 155.390648 \nL 243.675981 154.009693 \nL 246.750362 153.601365 \nL 249.824742 154.117829 \nL 252.899122 155.514325 \nL 255.973502 156.866491 \nL 259.047882 157.307725 \nL 262.122262 156.024758 \nL 265.196643 153.938307 \nL 268.271023 153.573704 \nL 271.345403 152.402244 \nL 274.419783 151.264743 \nL 277.494163 150.15974 \nL 280.568543 150.651931 \nL 283.642924 150.3583 \nL 286.717304 151.595869 \nL 289.791684 151.297408 \nL 292.866064 150.265639 \nL 295.940444 150.724055 \nL 299.014824 150.44855 \nL 302.089205 150.892866 \nL 305.163585 150.622199 \nL 308.237965 151.748185 \nL 311.312345 151.473641 \nL 314.386725 151.205791 \nL 317.461105 151.614219 \nL 320.535486 152.01292 \nL 323.609866 151.094118 \nL 326.684246 150.843143 \nL 329.758626 150.597934 \nL 332.833006 150.990066 \nL 335.907386 150.748718 \nL 338.981767 151.748185 \nL 342.056147 152.725683 \nL 345.130527 151.869046 \nL 348.204907 152.226425 \nL 351.279287 153.167645 \nL 354.353667 153.503825 \nL 357.428048 153.833013 \nL 360.502428 153.009107 \nL 363.576808 153.903927 \nL 366.651188 154.219089 \nL 369.725568 153.416044 \n\" style=\"fill:none;stroke:#8c564b;stroke-linecap:square;stroke-width:1.5;\"/>\n   </g>\n   <g id=\"line2d_22\">\n    <path clip-path=\"url(#pd7d4afc876)\" d=\"M 50.14375 147.856501 \nL 384.94375 147.856501 \n\" style=\"fill:none;stroke:#000000;stroke-dasharray:5.55,2.4;stroke-dashoffset:0;stroke-width:1.5;\"/>\n   </g>\n   <g id=\"patch_3\">\n    <path d=\"M 50.14375 251.82 \nL 50.14375 7.2 \n\" style=\"fill:none;stroke:#000000;stroke-linecap:square;stroke-linejoin:miter;stroke-width:0.8;\"/>\n   </g>\n   <g id=\"patch_4\">\n    <path d=\"M 384.94375 251.82 \nL 384.94375 7.2 \n\" style=\"fill:none;stroke:#000000;stroke-linecap:square;stroke-linejoin:miter;stroke-width:0.8;\"/>\n   </g>\n   <g id=\"patch_5\">\n    <path d=\"M 50.14375 251.82 \nL 384.94375 251.82 \n\" style=\"fill:none;stroke:#000000;stroke-linecap:square;stroke-linejoin:miter;stroke-width:0.8;\"/>\n   </g>\n   <g id=\"patch_6\">\n    <path d=\"M 50.14375 7.2 \nL 384.94375 7.2 \n\" style=\"fill:none;stroke:#000000;stroke-linecap:square;stroke-linejoin:miter;stroke-width:0.8;\"/>\n   </g>\n   <g id=\"legend_1\">\n    <g id=\"patch_7\">\n     <path d=\"M 302.089063 103.26875 \nL 377.94375 103.26875 \nQ 379.94375 103.26875 379.94375 101.26875 \nL 379.94375 14.2 \nQ 379.94375 12.2 377.94375 12.2 \nL 302.089063 12.2 \nQ 300.089063 12.2 300.089063 14.2 \nL 300.089063 101.26875 \nQ 300.089063 103.26875 302.089063 103.26875 \nz\n\" style=\"fill:#ffffff;opacity:0.8;stroke:#cccccc;stroke-linejoin:miter;\"/>\n    </g>\n    <g id=\"line2d_23\">\n     <path d=\"M 304.089063 20.298437 \nL 324.089063 20.298437 \n\" style=\"fill:none;stroke:#1f77b4;stroke-linecap:square;stroke-width:1.5;\"/>\n    </g>\n    <g id=\"line2d_24\"/>\n    <g id=\"text_18\">\n     <!-- P(die=1) -->\n     <g transform=\"translate(332.089063 23.798437)scale(0.1 -0.1)\">\n      <defs>\n       <path d=\"M 1259 4147 \nL 1259 2394 \nL 2053 2394 \nQ 2494 2394 2734 2622 \nQ 2975 2850 2975 3272 \nQ 2975 3691 2734 3919 \nQ 2494 4147 2053 4147 \nL 1259 4147 \nz\nM 628 4666 \nL 2053 4666 \nQ 2838 4666 3239 4311 \nQ 3641 3956 3641 3272 \nQ 3641 2581 3239 2228 \nQ 2838 1875 2053 1875 \nL 1259 1875 \nL 1259 0 \nL 628 0 \nL 628 4666 \nz\n\" id=\"DejaVuSans-50\" transform=\"scale(0.015625)\"/>\n       <path d=\"M 1984 4856 \nQ 1566 4138 1362 3434 \nQ 1159 2731 1159 2009 \nQ 1159 1288 1364 580 \nQ 1569 -128 1984 -844 \nL 1484 -844 \nQ 1016 -109 783 600 \nQ 550 1309 550 2009 \nQ 550 2706 781 3412 \nQ 1013 4119 1484 4856 \nL 1984 4856 \nz\n\" id=\"DejaVuSans-28\" transform=\"scale(0.015625)\"/>\n       <path d=\"M 678 2906 \nL 4684 2906 \nL 4684 2381 \nL 678 2381 \nL 678 2906 \nz\nM 678 1631 \nL 4684 1631 \nL 4684 1100 \nL 678 1100 \nL 678 1631 \nz\n\" id=\"DejaVuSans-3d\" transform=\"scale(0.015625)\"/>\n       <path d=\"M 513 4856 \nL 1013 4856 \nQ 1481 4119 1714 3412 \nQ 1947 2706 1947 2009 \nQ 1947 1309 1714 600 \nQ 1481 -109 1013 -844 \nL 513 -844 \nQ 928 -128 1133 580 \nQ 1338 1288 1338 2009 \nQ 1338 2731 1133 3434 \nQ 928 4138 513 4856 \nz\n\" id=\"DejaVuSans-29\" transform=\"scale(0.015625)\"/>\n      </defs>\n      <use xlink:href=\"#DejaVuSans-50\"/>\n      <use x=\"60.302734\" xlink:href=\"#DejaVuSans-28\"/>\n      <use x=\"99.316406\" xlink:href=\"#DejaVuSans-64\"/>\n      <use x=\"162.792969\" xlink:href=\"#DejaVuSans-69\"/>\n      <use x=\"190.576172\" xlink:href=\"#DejaVuSans-65\"/>\n      <use x=\"252.099609\" xlink:href=\"#DejaVuSans-3d\"/>\n      <use x=\"335.888672\" xlink:href=\"#DejaVuSans-31\"/>\n      <use x=\"399.511719\" xlink:href=\"#DejaVuSans-29\"/>\n     </g>\n    </g>\n    <g id=\"line2d_25\">\n     <path d=\"M 304.089063 34.976562 \nL 324.089063 34.976562 \n\" style=\"fill:none;stroke:#ff7f0e;stroke-linecap:square;stroke-width:1.5;\"/>\n    </g>\n    <g id=\"line2d_26\"/>\n    <g id=\"text_19\">\n     <!-- P(die=2) -->\n     <g transform=\"translate(332.089063 38.476562)scale(0.1 -0.1)\">\n      <use xlink:href=\"#DejaVuSans-50\"/>\n      <use x=\"60.302734\" xlink:href=\"#DejaVuSans-28\"/>\n      <use x=\"99.316406\" xlink:href=\"#DejaVuSans-64\"/>\n      <use x=\"162.792969\" xlink:href=\"#DejaVuSans-69\"/>\n      <use x=\"190.576172\" xlink:href=\"#DejaVuSans-65\"/>\n      <use x=\"252.099609\" xlink:href=\"#DejaVuSans-3d\"/>\n      <use x=\"335.888672\" xlink:href=\"#DejaVuSans-32\"/>\n      <use x=\"399.511719\" xlink:href=\"#DejaVuSans-29\"/>\n     </g>\n    </g>\n    <g id=\"line2d_27\">\n     <path d=\"M 304.089063 49.654687 \nL 324.089063 49.654687 \n\" style=\"fill:none;stroke:#2ca02c;stroke-linecap:square;stroke-width:1.5;\"/>\n    </g>\n    <g id=\"line2d_28\"/>\n    <g id=\"text_20\">\n     <!-- P(die=3) -->\n     <g transform=\"translate(332.089063 53.154687)scale(0.1 -0.1)\">\n      <use xlink:href=\"#DejaVuSans-50\"/>\n      <use x=\"60.302734\" xlink:href=\"#DejaVuSans-28\"/>\n      <use x=\"99.316406\" xlink:href=\"#DejaVuSans-64\"/>\n      <use x=\"162.792969\" xlink:href=\"#DejaVuSans-69\"/>\n      <use x=\"190.576172\" xlink:href=\"#DejaVuSans-65\"/>\n      <use x=\"252.099609\" xlink:href=\"#DejaVuSans-3d\"/>\n      <use x=\"335.888672\" xlink:href=\"#DejaVuSans-33\"/>\n      <use x=\"399.511719\" xlink:href=\"#DejaVuSans-29\"/>\n     </g>\n    </g>\n    <g id=\"line2d_29\">\n     <path d=\"M 304.089063 64.332812 \nL 324.089063 64.332812 \n\" style=\"fill:none;stroke:#d62728;stroke-linecap:square;stroke-width:1.5;\"/>\n    </g>\n    <g id=\"line2d_30\"/>\n    <g id=\"text_21\">\n     <!-- P(die=4) -->\n     <g transform=\"translate(332.089063 67.832812)scale(0.1 -0.1)\">\n      <use xlink:href=\"#DejaVuSans-50\"/>\n      <use x=\"60.302734\" xlink:href=\"#DejaVuSans-28\"/>\n      <use x=\"99.316406\" xlink:href=\"#DejaVuSans-64\"/>\n      <use x=\"162.792969\" xlink:href=\"#DejaVuSans-69\"/>\n      <use x=\"190.576172\" xlink:href=\"#DejaVuSans-65\"/>\n      <use x=\"252.099609\" xlink:href=\"#DejaVuSans-3d\"/>\n      <use x=\"335.888672\" xlink:href=\"#DejaVuSans-34\"/>\n      <use x=\"399.511719\" xlink:href=\"#DejaVuSans-29\"/>\n     </g>\n    </g>\n    <g id=\"line2d_31\">\n     <path d=\"M 304.089063 79.010937 \nL 324.089063 79.010937 \n\" style=\"fill:none;stroke:#9467bd;stroke-linecap:square;stroke-width:1.5;\"/>\n    </g>\n    <g id=\"line2d_32\"/>\n    <g id=\"text_22\">\n     <!-- P(die=5) -->\n     <g transform=\"translate(332.089063 82.510937)scale(0.1 -0.1)\">\n      <use xlink:href=\"#DejaVuSans-50\"/>\n      <use x=\"60.302734\" xlink:href=\"#DejaVuSans-28\"/>\n      <use x=\"99.316406\" xlink:href=\"#DejaVuSans-64\"/>\n      <use x=\"162.792969\" xlink:href=\"#DejaVuSans-69\"/>\n      <use x=\"190.576172\" xlink:href=\"#DejaVuSans-65\"/>\n      <use x=\"252.099609\" xlink:href=\"#DejaVuSans-3d\"/>\n      <use x=\"335.888672\" xlink:href=\"#DejaVuSans-35\"/>\n      <use x=\"399.511719\" xlink:href=\"#DejaVuSans-29\"/>\n     </g>\n    </g>\n    <g id=\"line2d_33\">\n     <path d=\"M 304.089063 93.689062 \nL 324.089063 93.689062 \n\" style=\"fill:none;stroke:#8c564b;stroke-linecap:square;stroke-width:1.5;\"/>\n    </g>\n    <g id=\"line2d_34\"/>\n    <g id=\"text_23\">\n     <!-- P(die=6) -->\n     <g transform=\"translate(332.089063 97.189062)scale(0.1 -0.1)\">\n      <use xlink:href=\"#DejaVuSans-50\"/>\n      <use x=\"60.302734\" xlink:href=\"#DejaVuSans-28\"/>\n      <use x=\"99.316406\" xlink:href=\"#DejaVuSans-64\"/>\n      <use x=\"162.792969\" xlink:href=\"#DejaVuSans-69\"/>\n      <use x=\"190.576172\" xlink:href=\"#DejaVuSans-65\"/>\n      <use x=\"252.099609\" xlink:href=\"#DejaVuSans-3d\"/>\n      <use x=\"335.888672\" xlink:href=\"#DejaVuSans-36\"/>\n      <use x=\"399.511719\" xlink:href=\"#DejaVuSans-29\"/>\n     </g>\n    </g>\n   </g>\n  </g>\n </g>\n <defs>\n  <clipPath id=\"pd7d4afc876\">\n   <rect height=\"244.62\" width=\"334.8\" x=\"50.14375\" y=\"7.2\"/>\n  </clipPath>\n </defs>\n</svg>\n",
      "text/plain": [
       "<Figure size 432x324 with 1 Axes>"
      ]
     },
     "metadata": {
      "needs_background": "light"
     }
    }
   ],
   "metadata": {}
  },
  {
   "cell_type": "code",
   "execution_count": 8,
   "source": [
    "for i in range(6):\n",
    "    print(estimates[:, i].asnumpy())"
   ],
   "outputs": [
    {
     "output_type": "stream",
     "name": "stdout",
     "text": [
      "[0.1        0.15       0.23333333 0.225      0.18       0.16666667\n",
      " 0.15714286 0.175      0.18888889 0.2        0.19090909 0.19166666\n",
      " 0.18461539 0.17857143 0.18       0.16875    0.17058824 0.16666667\n",
      " 0.16842106 0.17       0.17142858 0.17272727 0.17826086 0.17083333\n",
      " 0.172      0.16923077 0.17037037 0.175      0.18275861 0.18333334\n",
      " 0.17741935 0.18125    0.18181819 0.18235295 0.18285714 0.17777778\n",
      " 0.18108109 0.18157895 0.18461539 0.1825     0.18048781 0.18095239\n",
      " 0.18139535 0.17727272 0.17555556 0.17608696 0.17659575 0.17708333\n",
      " 0.17959183 0.18       0.18235295 0.18076923 0.17924528 0.17777778\n",
      " 0.18181819 0.18214285 0.18421052 0.18275861 0.18135594 0.18\n",
      " 0.18360655 0.18548387 0.18412699 0.18125    0.17846154 0.17727272\n",
      " 0.1761194  0.17352942 0.17246377 0.17142858 0.17323944 0.1736111\n",
      " 0.1780822  0.17567568 0.17466667 0.17894737 0.17922078 0.17820513\n",
      " 0.17848101 0.1775     0.17777778 0.17804877 0.17710844 0.175\n",
      " 0.17529412 0.1755814  0.17931035 0.17840908 0.17977528 0.17888889\n",
      " 0.17912088 0.17717391 0.17849462 0.17872341 0.18105263 0.17916666\n",
      " 0.17731959 0.17653061 0.17878787 0.177     ]\n",
      "[0.4        0.35       0.23333333 0.2        0.18       0.18333334\n",
      " 0.18571429 0.1625     0.14444445 0.15       0.14545454 0.15833333\n",
      " 0.16153847 0.17857143 0.18666667 0.18125    0.18235295 0.18888889\n",
      " 0.18421052 0.19       0.1904762  0.18181819 0.17391305 0.16666667\n",
      " 0.164      0.16153847 0.15925926 0.16071428 0.15862069 0.15333334\n",
      " 0.16129032 0.1625     0.16969697 0.16470589 0.16857143 0.16944444\n",
      " 0.16756757 0.16578947 0.16666667 0.1625     0.16341463 0.16190477\n",
      " 0.16046512 0.16136363 0.16222222 0.16304348 0.16595745 0.1625\n",
      " 0.1632653  0.164      0.16078432 0.15769231 0.15849057 0.15555556\n",
      " 0.15272728 0.15178572 0.15438597 0.15344827 0.15254237 0.15666667\n",
      " 0.1557377  0.15483871 0.15555556 0.159375   0.15692307 0.15454546\n",
      " 0.15373135 0.15441176 0.15652174 0.15857142 0.15633802 0.15555556\n",
      " 0.15342465 0.1527027  0.15066667 0.1513158  0.15194805 0.15512821\n",
      " 0.15443037 0.15375    0.15432099 0.15487805 0.15421687 0.15357143\n",
      " 0.15411764 0.15348837 0.15172414 0.1534091  0.15393259 0.15333334\n",
      " 0.15274726 0.15434782 0.15376344 0.15531915 0.15368421 0.15520833\n",
      " 0.1556701  0.15510204 0.15555556 0.154     ]\n",
      "[0.3        0.2        0.16666667 0.175      0.14       0.11666667\n",
      " 0.11428571 0.125      0.12222222 0.12       0.14545454 0.14166667\n",
      " 0.13076924 0.12142857 0.12       0.15       0.14117648 0.13333334\n",
      " 0.13157895 0.13       0.13333334 0.13636364 0.13478261 0.13333334\n",
      " 0.144      0.13846155 0.14074074 0.13928571 0.13448276 0.13666667\n",
      " 0.13870968 0.134375   0.13030303 0.13235295 0.13714285 0.1388889\n",
      " 0.14054054 0.13947369 0.13846155 0.1375     0.14146341 0.1452381\n",
      " 0.15116279 0.15454546 0.15555556 0.15652174 0.1574468  0.16041666\n",
      " 0.15714286 0.154      0.15490197 0.15576923 0.15660377 0.1537037\n",
      " 0.15818182 0.15892857 0.15789473 0.16034482 0.15932204 0.16166666\n",
      " 0.1590164  0.15806451 0.16190477 0.1609375  0.16461538 0.16363636\n",
      " 0.16268657 0.16029412 0.16086957 0.16       0.16197184 0.15972222\n",
      " 0.1589041  0.16216215 0.16133334 0.16184211 0.15974025 0.15897436\n",
      " 0.15949367 0.15875    0.15925926 0.1597561  0.16024096 0.15952381\n",
      " 0.15882353 0.15697674 0.15747127 0.1590909  0.15730338 0.15888889\n",
      " 0.15714286 0.15652174 0.15698925 0.15638298 0.15684211 0.15729167\n",
      " 0.15670103 0.15816326 0.15757576 0.158     ]\n",
      "[0.         0.05       0.06666667 0.075      0.1        0.1\n",
      " 0.12857144 0.125      0.13333334 0.13       0.15454546 0.14166667\n",
      " 0.14615385 0.15       0.16       0.15       0.14117648 0.16111112\n",
      " 0.1631579  0.17       0.17619048 0.18636364 0.1826087  0.17916666\n",
      " 0.176      0.18461539 0.18148148 0.18214285 0.17586207 0.18\n",
      " 0.17741935 0.184375   0.17878787 0.18235295 0.18       0.17777778\n",
      " 0.17297298 0.17368421 0.17179488 0.1675     0.16829269 0.16428572\n",
      " 0.1627907  0.1659091  0.16222222 0.1673913  0.16595745 0.16666667\n",
      " 0.16530612 0.168      0.16862746 0.16923077 0.16603774 0.16851851\n",
      " 0.16909091 0.16964285 0.17017543 0.16896552 0.17288135 0.17\n",
      " 0.17213115 0.17741935 0.17777778 0.1765625  0.17692308 0.17727272\n",
      " 0.17910448 0.18088235 0.17971015 0.18       0.18028168 0.18333334\n",
      " 0.18356164 0.18243243 0.18133333 0.17894737 0.17662337 0.17435898\n",
      " 0.17341772 0.175      0.17530864 0.17439024 0.17710844 0.175\n",
      " 0.17294118 0.1755814  0.17471264 0.175      0.17303371 0.17444444\n",
      " 0.17582418 0.17608696 0.17526881 0.17340426 0.17473684 0.17604166\n",
      " 0.17731959 0.17857143 0.17777778 0.178     ]\n",
      "[0.1        0.15       0.13333334 0.175      0.22       0.26666668\n",
      " 0.27142859 0.275      0.24444444 0.24       0.21818182 0.20833333\n",
      " 0.20769231 0.19285715 0.18       0.175      0.18235295 0.17777778\n",
      " 0.17894737 0.175      0.16666667 0.16818182 0.17391305 0.19166666\n",
      " 0.184      0.18846154 0.18888889 0.18571429 0.17931035 0.18\n",
      " 0.17741935 0.175      0.17272727 0.17352942 0.17142858 0.17222223\n",
      " 0.17297298 0.17631578 0.17692308 0.1875     0.18536586 0.18809524\n",
      " 0.18604651 0.18409091 0.18888889 0.18478261 0.18297872 0.18541667\n",
      " 0.18775511 0.186      0.18235295 0.18461539 0.18301886 0.18518518\n",
      " 0.18181819 0.18214285 0.18070175 0.18103448 0.1779661  0.175\n",
      " 0.17377049 0.17096774 0.16984127 0.171875   0.17076923 0.17121212\n",
      " 0.1716418  0.17205882 0.16956522 0.16714285 0.16619718 0.16527778\n",
      " 0.16575342 0.16621621 0.16933334 0.16710526 0.17012987 0.17179488\n",
      " 0.1721519  0.175      0.17283951 0.17195122 0.17108434 0.17738095\n",
      " 0.17764705 0.1767442  0.17471264 0.17272727 0.1741573  0.17444444\n",
      " 0.17692308 0.17608696 0.17634408 0.17872341 0.17684211 0.17604166\n",
      " 0.17525773 0.1755102  0.17474748 0.176     ]\n",
      "[0.1        0.1        0.16666667 0.15       0.18       0.16666667\n",
      " 0.14285715 0.1375     0.16666667 0.16       0.14545454 0.15833333\n",
      " 0.16923077 0.17857143 0.17333333 0.175      0.18235295 0.17222223\n",
      " 0.17368421 0.165      0.16190477 0.15454546 0.15652174 0.15833333\n",
      " 0.16       0.15769231 0.15925926 0.15714286 0.16896552 0.16666667\n",
      " 0.16774194 0.1625     0.16666667 0.16470589 0.16       0.16388889\n",
      " 0.16486487 0.1631579  0.16153847 0.1625     0.1609756  0.15952381\n",
      " 0.15813954 0.15681818 0.15555556 0.1521739  0.15106383 0.14791666\n",
      " 0.14693877 0.148      0.1509804  0.15192308 0.15660377 0.15925926\n",
      " 0.15636364 0.15535714 0.15263158 0.15344827 0.1559322  0.15666667\n",
      " 0.1557377  0.15322581 0.15079366 0.15       0.15230769 0.1560606\n",
      " 0.15671642 0.15882353 0.16086957 0.16285715 0.16197184 0.1625\n",
      " 0.16027397 0.16081081 0.16266666 0.16184211 0.16233766 0.16153847\n",
      " 0.16202532 0.16       0.16049382 0.1609756  0.16024096 0.15952381\n",
      " 0.16117647 0.1616279  0.16206896 0.16136363 0.16179775 0.16\n",
      " 0.15824176 0.1597826  0.15913978 0.1574468  0.15684211 0.15625\n",
      " 0.15773197 0.15612245 0.15555556 0.157     ]\n"
     ]
    }
   ],
   "metadata": {}
  },
  {
   "cell_type": "code",
   "execution_count": null,
   "source": [],
   "outputs": [],
   "metadata": {}
  }
 ]
}