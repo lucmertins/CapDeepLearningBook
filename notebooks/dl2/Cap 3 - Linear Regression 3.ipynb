{
 "cells": [
  {
   "cell_type": "markdown",
   "source": [
    "## 3.4 Softmax Regression\n",
    "\n",
    "pg 107"
   ],
   "metadata": {}
  },
  {
   "cell_type": "code",
   "execution_count": 1,
   "source": [
    "from mxnet import autograd, gluon, np, npx\n",
    "from d2l import mxnet as d2l \n",
    "\n",
    "npx.set_np()"
   ],
   "outputs": [],
   "metadata": {}
  }
 ],
 "metadata": {
  "orig_nbformat": 4,
  "language_info": {
   "name": "python",
   "version": "3.8.12",
   "mimetype": "text/x-python",
   "codemirror_mode": {
    "name": "ipython",
    "version": 3
   },
   "pygments_lexer": "ipython3",
   "nbconvert_exporter": "python",
   "file_extension": ".py"
  },
  "kernelspec": {
   "name": "python3",
   "display_name": "Python 3.8.12 64-bit"
  },
  "interpreter": {
   "hash": "5b3ded1ccb95c1d9bd405e7b823d9e85424cde40fbb5985eb47e999ef50e15b4"
  }
 },
 "nbformat": 4,
 "nbformat_minor": 2
}