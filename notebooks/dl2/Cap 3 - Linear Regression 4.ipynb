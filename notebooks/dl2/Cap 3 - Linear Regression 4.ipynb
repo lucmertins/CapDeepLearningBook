{
 "cells": [
  {
   "cell_type": "markdown",
   "metadata": {},
   "source": [
    "# 3.6 Softmax regression from scratch"
   ]
  },
  {
   "cell_type": "code",
   "execution_count": 1,
   "metadata": {},
   "outputs": [
    {
     "ename": "ModuleNotFoundError",
     "evalue": "No module named 'mxnet'",
     "output_type": "error",
     "traceback": [
      "\u001b[0;31m---------------------------------------------------------------------------\u001b[0m",
      "\u001b[0;31mModuleNotFoundError\u001b[0m                       Traceback (most recent call last)",
      "Cell \u001b[0;32mIn[1], line 2\u001b[0m\n\u001b[1;32m      1\u001b[0m \u001b[39mfrom\u001b[39;00m \u001b[39mIPython\u001b[39;00m \u001b[39mimport\u001b[39;00m display\n\u001b[0;32m----> 2\u001b[0m \u001b[39mfrom\u001b[39;00m \u001b[39mmxnet\u001b[39;00m \u001b[39mimport\u001b[39;00m autograd, gluon, np, npx\n\u001b[1;32m      3\u001b[0m \u001b[39mfrom\u001b[39;00m \u001b[39md2l\u001b[39;00m \u001b[39mimport\u001b[39;00m mxnet \u001b[39mas\u001b[39;00m d2l\n\u001b[1;32m      5\u001b[0m npx\u001b[39m.\u001b[39mset_np()\n",
      "\u001b[0;31mModuleNotFoundError\u001b[0m: No module named 'mxnet'"
     ]
    }
   ],
   "source": [
    "from IPython import display\n",
    "from mxnet import autograd, gluon, np, npx\n",
    "from d2l import mxnet as d2l\n",
    "\n",
    "npx.set_np()"
   ]
  },
  {
   "cell_type": "code",
   "execution_count": null,
   "metadata": {},
   "outputs": [],
   "source": [
    "batch_size=256\n",
    "train_iter, test_iter=d2l.load_data_fashion_mnist(batch_size)"
   ]
  },
  {
   "cell_type": "code",
   "execution_count": null,
   "metadata": {},
   "outputs": [],
   "source": [
    "num_inputs=784\n",
    "num_outputs=10\n",
    "\n",
    "W=np.random.normal(0,0.01,(num_inputs,num_outputs))\n",
    "b=np.zeros(num_outputs)\n",
    "W.attach_grad()\n",
    "b.attach_grad()"
   ]
  },
  {
   "cell_type": "code",
   "execution_count": null,
   "metadata": {},
   "outputs": [],
   "source": [
    "X=np.array([[1.0,2.0,3.0],[4.0,5.0,6.0]])\n",
    "X1=X.sum(0,keepdims=True)\n",
    "X2=X.sum(1,keepdims=True)\n",
    "X.shape,X1,X1.shape,X2,X2.shape"
   ]
  },
  {
   "cell_type": "code",
   "execution_count": null,
   "metadata": {},
   "outputs": [],
   "source": [
    "def softmax(X):\n",
    "    X_exp=np.exp(X)\n",
    "    partition = X_exp.sum(1,keepdims=True)\n",
    "    return X_exp/partition"
   ]
  },
  {
   "cell_type": "code",
   "execution_count": null,
   "metadata": {},
   "outputs": [],
   "source": [
    "X = np.random.normal(0,1,(2,5))\n",
    "X_prob = softmax(X)\n",
    "X,X_prob, X_prob.sum(1)"
   ]
  },
  {
   "cell_type": "code",
   "execution_count": null,
   "metadata": {},
   "outputs": [],
   "source": [
    "def net(X):\n",
    "    return softmax(np.dot(X.reshape((-1,W.shape[0])),W)+b)"
   ]
  },
  {
   "cell_type": "markdown",
   "metadata": {},
   "source": [
    "# Loss function"
   ]
  },
  {
   "cell_type": "code",
   "execution_count": null,
   "metadata": {},
   "outputs": [],
   "source": [
    "y=np.array([0,2])\n",
    "y_hat=np.array([[0.1,0.3,0.6],[0.3,0.2,0.5]])\n",
    "y_hat[[0,1],y]"
   ]
  },
  {
   "cell_type": "code",
   "execution_count": null,
   "metadata": {},
   "outputs": [],
   "source": [
    "def cross_entropy(y_hat,y):\n",
    "    return -np.log(y_hat[range(len(y_hat)),y])\n",
    "\n",
    "cross_entropy(y_hat,y)"
   ]
  },
  {
   "cell_type": "markdown",
   "metadata": {},
   "source": [
    "#### 3.6.5 Classification Accuracy"
   ]
  },
  {
   "cell_type": "code",
   "execution_count": null,
   "metadata": {},
   "outputs": [],
   "source": [
    "def accuracy(y_hat,y):\n",
    "    if (len(y_hat.shape)>1 and y_hat.shape[1]>1):\n",
    "        y_hat=y_hat.argmax(axis=1)\n",
    "    cmp=y_hat.astype(y.dtype)==y\n",
    "    return float(cmp.astype(y.dtype).sum())"
   ]
  },
  {
   "cell_type": "code",
   "execution_count": null,
   "metadata": {},
   "outputs": [],
   "source": [
    "accuracy(y_hat, y)/len(y)"
   ]
  },
  {
   "cell_type": "code",
   "execution_count": null,
   "metadata": {},
   "outputs": [],
   "source": [
    "class Accumulator:\n",
    "    def __init__(self,n):\n",
    "        self.data=[0,0]*n\n",
    "    \n",
    "    def add(self,*args):\n",
    "        self.data=[a+float(b) for a,b in zip(self.data,args)]\n",
    "    def reset(self):\n",
    "        self.data=[0,0]*len(self.data)\n",
    "    def __getitem__(self,idx):\n",
    "        return self.data[idx]"
   ]
  },
  {
   "cell_type": "code",
   "execution_count": null,
   "metadata": {},
   "outputs": [],
   "source": [
    "def evaluate_accurary(net,data_iter):\n",
    "    metric=Accumulator(2)\n",
    "    for X,y in data_iter:\n",
    "        metric.add(accuracy(net(X),y),d2l.size(y))\n",
    "    return metric[0]/metric[1]"
   ]
  },
  {
   "cell_type": "code",
   "execution_count": null,
   "metadata": {},
   "outputs": [],
   "source": [
    "evaluate_accurary(net,test_iter)"
   ]
  },
  {
   "cell_type": "code",
   "execution_count": null,
   "metadata": {},
   "outputs": [],
   "source": [
    "def train_epoch_ch3(net,train_iter,loss,updater):\n",
    "    metric=Accumulator(3)\n",
    "    if isinstance(updater,gluon.Trainer):\n",
    "        updater=updater.step\n",
    "    for X,y in train_iter:\n",
    "        with autograd.record():\n",
    "            y_hat=net(X)\n",
    "            l=loss(y_hat,y)\n",
    "        l.backward()\n",
    "        updater(X.shape[0])\n",
    "        metric.add(float(l.sum()),accuracy(y_hat,y),y.size)\n",
    "    return metric[0]/metric[2],metric[1]/metric[2]\n",
    "    "
   ]
  },
  {
   "cell_type": "code",
   "execution_count": null,
   "metadata": {},
   "outputs": [],
   "source": [
    "class Animator:\n",
    "    def __init__(self, xlabel=None, ylabel=None, legend=None, xlim=None,ylim=None,\n",
    "     xscale='linear', yscale='linear', fmts=('-', 'm--', 'g-.', 'r:'), nrows=1, \n",
    "     ncols=1,figsize=(3.5, 2.5)):\n",
    "        if legend is None:\n",
    "            legend=[]\n",
    "        d2l.use_svg_display()\n",
    "        self.fig,self.axes=d2l.plt.subplots(nrows,ncols,figsize=figsize)\n",
    "        if nrows*ncols==1:\n",
    "            self.axes=[self.axes,]\n",
    "        self.config_axes=lambda:d2l.set_axes(\n",
    "            self.axes[0],xlabel,ylabel,xlim,ylim,xscale,yscale,legend)\n",
    "        self.X,self.Y,self.fmts=None,None,fmts\n",
    "\n",
    "    def add(self,x,y):\n",
    "        if not hasattr(y,\"__len__\"):\n",
    "            y=[y]\n",
    "        n=len(y)\n",
    "        if not hasattr(x,\"__len__\"):\n",
    "            x=[x]*n\n",
    "        if not self.X:\n",
    "            self.X=[[] for _ in range(n)]\n",
    "        if not self.Y:\n",
    "            self.Y=[[]for _ in range(n)]\n",
    "        for i,(a,b) in enumerate(zip(x,y)):\n",
    "            if a is not None and b is not None:\n",
    "                self.X[i].append(a)\n",
    "                self.Y[i].append(b)\n",
    "        self.axes[0].cla()\n",
    "        for x,y,fmt in zip(self.X,self.Y,self.fmts):\n",
    "            self.axes[0].plot(x,y,fmt)\n",
    "        self.config_axes()\n",
    "        display.display(self.fig)\n",
    "        display.clear_output(wait=True)"
   ]
  },
  {
   "cell_type": "code",
   "execution_count": null,
   "metadata": {},
   "outputs": [],
   "source": [
    "def train_ch3(net,train_iter,test_iter,loss,num_epochs,updater):\n",
    "    animator=Animator(xlabel='epoch',xlim=[1,num_epochs],ylim=[0.3,0.9],\n",
    "    legend=['train loss','train acc','test acc'])\n",
    "    for epoch in range(num_epochs):\n",
    "        train_metrics=train_epoch_ch3(net,train_iter,loss,updater)\n",
    "        test_acc=evaluate_accurary(net,test_iter)\n",
    "        animator.add(epoch+1,train_metrics+(test_acc,))\n",
    "    train_loss,train_acc=train_metrics\n",
    "    assert train_loss< 0.5,train_loss\n",
    "    assert train_acc<=1 and train_acc> 0.7, train_acc\n",
    "    assert test_acc <=1 and test_acc > 0.7, test_acc"
   ]
  },
  {
   "cell_type": "code",
   "execution_count": null,
   "metadata": {},
   "outputs": [],
   "source": [
    "lr=0.1\n",
    "def updater(batch_size):\n",
    "    return d2l.sgd([W,b],lr,batch_size)"
   ]
  },
  {
   "cell_type": "code",
   "execution_count": null,
   "metadata": {},
   "outputs": [],
   "source": [
    "num_epochs=10\n",
    "train_ch3(net,train_iter,test_iter,cross_entropy,num_epochs,updater)\n",
    "\n",
    "# deveria mostrar um gráfico....\n"
   ]
  },
  {
   "cell_type": "code",
   "execution_count": null,
   "metadata": {},
   "outputs": [],
   "source": [
    "def predict_ch3(net,test_iter,n=6):\n",
    "    for X,y in test_iter:\n",
    "        break;\n",
    "    trues=d2l.get_fashion_mnist_labels(y)\n",
    "    preds=d2l.get_fashion_mnist_labels(net(X).argmax(axis=1))\n",
    "    titles=[true + '\\n' + pred for true,pred in zip(trues,preds)]\n",
    "    d2l.show_images(X[0:n].reshape((n,28,28)),1,n,titles=titles[0:n])\n",
    "\n",
    "predict_ch3(net,test_iter)"
   ]
  }
 ],
 "metadata": {
  "kernelspec": {
   "display_name": "Python 3",
   "language": "python",
   "name": "python3"
  },
  "language_info": {
   "codemirror_mode": {
    "name": "ipython",
    "version": 3
   },
   "file_extension": ".py",
   "mimetype": "text/x-python",
   "name": "python",
   "nbconvert_exporter": "python",
   "pygments_lexer": "ipython3",
   "version": "3.11.1"
  },
  "orig_nbformat": 4,
  "vscode": {
   "interpreter": {
    "hash": "767d51c1340bd893661ea55ea3124f6de3c7a262a8b4abca0554b478b1e2ff90"
   }
  }
 },
 "nbformat": 4,
 "nbformat_minor": 2
}
