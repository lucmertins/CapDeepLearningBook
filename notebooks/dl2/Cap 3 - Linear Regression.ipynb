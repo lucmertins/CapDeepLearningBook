{
 "metadata": {
  "language_info": {
   "codemirror_mode": {
    "name": "ipython",
    "version": 3
   },
   "file_extension": ".py",
   "mimetype": "text/x-python",
   "name": "python",
   "nbconvert_exporter": "python",
   "pygments_lexer": "ipython3",
   "version": "3.8.8"
  },
  "orig_nbformat": 4,
  "kernelspec": {
   "name": "python3",
   "display_name": "Python 3.8.8 64-bit ('d2l': conda)"
  },
  "interpreter": {
   "hash": "98cd91940932e20c9ea8c00a3220fd4b68e5de6dbdf98534bca909080946567e"
  }
 },
 "nbformat": 4,
 "nbformat_minor": 2,
 "cells": [
  {
   "cell_type": "code",
   "execution_count": 3,
   "metadata": {},
   "outputs": [],
   "source": [
    "%matplotlib inline\n",
    "import math\n",
    "import time\n",
    "from mxnet import np\n",
    "from d2l import mxnet as d2l"
   ]
  },
  {
   "cell_type": "code",
   "execution_count": 4,
   "metadata": {},
   "outputs": [],
   "source": [
    "n=10000\n",
    "a=np.ones(n)\n",
    "b=np.ones(n)"
   ]
  },
  {
   "cell_type": "code",
   "execution_count": 6,
   "metadata": {},
   "outputs": [],
   "source": [
    "class Timer:  #@save\n",
    "\t\"\"\"Record multiple running times.\"\"\"\n",
    "\tdef __init__(self):\n",
    "\t\tself.times=[]\n",
    "\t\tself.start()\n",
    "\tdef start(self):\n",
    "\t\t\"\"\"Start the timer.\"\"\"\n",
    "\t\tself.tik=time.time()\n",
    "\tdef stop(self):\n",
    "\t\t\"\"\"Stop the timer and record the time in a list.\"\"\"\n",
    "\t\tself.times.append(time.time()-self.tik)\n",
    "\t\treturn self.times[-1]\n",
    "\tdef avg(self):\n",
    "\t\t\"\"\"Return the average time.\"\"\"\n",
    "\t\treturn sum(self.times)/len(self.times)\n",
    "\tdef sum(self):\n",
    "\t\t\"\"\"Return the sum of time.\"\"\"\n",
    "\t\treturn sum(self.times)\n",
    "\tdef cumsum(self):\n",
    "\t\t\"\"\"Return the accumulated time.\"\"\"\n",
    "\t\treturn np.array(self.times).cumsum().tolist()"
   ]
  },
  {
   "cell_type": "code",
   "execution_count": 9,
   "metadata": {},
   "outputs": [
    {
     "output_type": "execute_result",
     "data": {
      "text/plain": [
       "'2.79468sec'"
      ]
     },
     "metadata": {},
     "execution_count": 9
    }
   ],
   "source": [
    "c=np.zeros(n)\n",
    "timer=Timer()\n",
    "for i in range(n):\n",
    "    c[i]=a[i]+b[i]\n",
    "f'{timer.stop():.5f}sec'"
   ]
  },
  {
   "cell_type": "code",
   "execution_count": 11,
   "metadata": {},
   "outputs": [
    {
     "output_type": "execute_result",
     "data": {
      "text/plain": [
       "'0.00048sec'"
      ]
     },
     "metadata": {},
     "execution_count": 11
    }
   ],
   "source": [
    "timer.start()\n",
    "d=a+b\n",
    "f'{timer.stop():.5f}sec'"
   ]
  },
  {
   "cell_type": "code",
   "execution_count": null,
   "metadata": {},
   "outputs": [],
   "source": []
  }
 ]
}