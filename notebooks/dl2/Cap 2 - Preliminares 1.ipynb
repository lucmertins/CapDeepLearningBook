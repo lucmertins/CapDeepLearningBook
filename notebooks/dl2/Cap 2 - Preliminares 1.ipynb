{
 "cells": [
  {
   "cell_type": "markdown",
   "source": [
    "## Introdução e prelinares \n",
    "Até a pg 61"
   ],
   "metadata": {}
  },
  {
   "cell_type": "code",
   "execution_count": 28,
   "source": [
    "import mxnet as mx\n",
    "from mxnet import np, npx"
   ],
   "outputs": [],
   "metadata": {}
  },
  {
   "cell_type": "code",
   "execution_count": 29,
   "source": [
    "npx.set_np()"
   ],
   "outputs": [],
   "metadata": {}
  },
  {
   "cell_type": "code",
   "execution_count": 30,
   "source": [
    "x=np.arange(12)\n",
    "x,type(x)"
   ],
   "outputs": [
    {
     "output_type": "execute_result",
     "data": {
      "text/plain": [
       "(array([ 0.,  1.,  2.,  3.,  4.,  5.,  6.,  7.,  8.,  9., 10., 11.]),\n",
       " mxnet.numpy.ndarray)"
      ]
     },
     "metadata": {},
     "execution_count": 30
    }
   ],
   "metadata": {}
  },
  {
   "cell_type": "code",
   "execution_count": 31,
   "source": [
    "x.shape"
   ],
   "outputs": [
    {
     "output_type": "execute_result",
     "data": {
      "text/plain": [
       "(12,)"
      ]
     },
     "metadata": {},
     "execution_count": 31
    }
   ],
   "metadata": {}
  },
  {
   "cell_type": "code",
   "execution_count": 32,
   "source": [
    "x.size"
   ],
   "outputs": [
    {
     "output_type": "execute_result",
     "data": {
      "text/plain": [
       "12"
      ]
     },
     "metadata": {},
     "execution_count": 32
    }
   ],
   "metadata": {}
  },
  {
   "cell_type": "code",
   "execution_count": 33,
   "source": [
    "x=x.reshape(3,4)\n",
    "x"
   ],
   "outputs": [
    {
     "output_type": "execute_result",
     "data": {
      "text/plain": [
       "array([[ 0.,  1.,  2.,  3.],\n",
       "       [ 4.,  5.,  6.,  7.],\n",
       "       [ 8.,  9., 10., 11.]])"
      ]
     },
     "metadata": {},
     "execution_count": 33
    }
   ],
   "metadata": {}
  },
  {
   "cell_type": "code",
   "execution_count": 34,
   "source": [
    "X=np.arange(12).reshape(3,4)\n",
    "Y=np.array([[2,1,4,3], [1,2,3,4], [4,3,2,1]])\n",
    "X"
   ],
   "outputs": [
    {
     "output_type": "execute_result",
     "data": {
      "text/plain": [
       "array([[ 0.,  1.,  2.,  3.],\n",
       "       [ 4.,  5.,  6.,  7.],\n",
       "       [ 8.,  9., 10., 11.]])"
      ]
     },
     "metadata": {},
     "execution_count": 34
    }
   ],
   "metadata": {}
  },
  {
   "cell_type": "code",
   "execution_count": 35,
   "source": [
    "Y"
   ],
   "outputs": [
    {
     "output_type": "execute_result",
     "data": {
      "text/plain": [
       "array([[2., 1., 4., 3.],\n",
       "       [1., 2., 3., 4.],\n",
       "       [4., 3., 2., 1.]])"
      ]
     },
     "metadata": {},
     "execution_count": 35
    }
   ],
   "metadata": {}
  },
  {
   "cell_type": "code",
   "execution_count": 36,
   "source": [
    "np.concatenate([X, Y], axis=0), np.concatenate([X, Y], axis=1)"
   ],
   "outputs": [
    {
     "output_type": "execute_result",
     "data": {
      "text/plain": [
       "(array([[ 0.,  1.,  2.,  3.],\n",
       "        [ 4.,  5.,  6.,  7.],\n",
       "        [ 8.,  9., 10., 11.],\n",
       "        [ 2.,  1.,  4.,  3.],\n",
       "        [ 1.,  2.,  3.,  4.],\n",
       "        [ 4.,  3.,  2.,  1.]]),\n",
       " array([[ 0.,  1.,  2.,  3.,  2.,  1.,  4.,  3.],\n",
       "        [ 4.,  5.,  6.,  7.,  1.,  2.,  3.,  4.],\n",
       "        [ 8.,  9., 10., 11.,  4.,  3.,  2.,  1.]]))"
      ]
     },
     "metadata": {},
     "execution_count": 36
    }
   ],
   "metadata": {}
  },
  {
   "cell_type": "code",
   "execution_count": 37,
   "source": [
    "X==Y"
   ],
   "outputs": [
    {
     "output_type": "execute_result",
     "data": {
      "text/plain": [
       "array([[False,  True, False,  True],\n",
       "       [False, False, False, False],\n",
       "       [False, False, False, False]])"
      ]
     },
     "metadata": {},
     "execution_count": 37
    }
   ],
   "metadata": {}
  },
  {
   "cell_type": "code",
   "execution_count": 38,
   "source": [
    "x=np.array([1,2,3]).reshape(3,1)\n",
    "x"
   ],
   "outputs": [
    {
     "output_type": "execute_result",
     "data": {
      "text/plain": [
       "array([[1.],\n",
       "       [2.],\n",
       "       [3.]])"
      ]
     },
     "metadata": {},
     "execution_count": 38
    }
   ],
   "metadata": {}
  },
  {
   "cell_type": "code",
   "execution_count": 39,
   "source": [
    "y=np.array([1,2]).reshape(1,2)\n",
    "y"
   ],
   "outputs": [
    {
     "output_type": "execute_result",
     "data": {
      "text/plain": [
       "array([[1., 2.]])"
      ]
     },
     "metadata": {},
     "execution_count": 39
    }
   ],
   "metadata": {}
  },
  {
   "cell_type": "code",
   "execution_count": 40,
   "source": [
    "x+y"
   ],
   "outputs": [
    {
     "output_type": "execute_result",
     "data": {
      "text/plain": [
       "array([[2., 3.],\n",
       "       [3., 4.],\n",
       "       [4., 5.]])"
      ]
     },
     "metadata": {},
     "execution_count": 40
    }
   ],
   "metadata": {}
  },
  {
   "cell_type": "code",
   "execution_count": 41,
   "source": [
    "X,Y"
   ],
   "outputs": [
    {
     "output_type": "execute_result",
     "data": {
      "text/plain": [
       "(array([[ 0.,  1.,  2.,  3.],\n",
       "        [ 4.,  5.,  6.,  7.],\n",
       "        [ 8.,  9., 10., 11.]]),\n",
       " array([[2., 1., 4., 3.],\n",
       "        [1., 2., 3., 4.],\n",
       "        [4., 3., 2., 1.]]))"
      ]
     },
     "metadata": {},
     "execution_count": 41
    }
   ],
   "metadata": {}
  },
  {
   "cell_type": "code",
   "execution_count": 42,
   "source": [
    "X[-1]"
   ],
   "outputs": [
    {
     "output_type": "execute_result",
     "data": {
      "text/plain": [
       "array([ 8.,  9., 10., 11.])"
      ]
     },
     "metadata": {},
     "execution_count": 42
    }
   ],
   "metadata": {}
  },
  {
   "cell_type": "code",
   "execution_count": 43,
   "source": [
    "X[1:3]"
   ],
   "outputs": [
    {
     "output_type": "execute_result",
     "data": {
      "text/plain": [
       "array([[ 4.,  5.,  6.,  7.],\n",
       "       [ 8.,  9., 10., 11.]])"
      ]
     },
     "metadata": {},
     "execution_count": 43
    }
   ],
   "metadata": {}
  },
  {
   "cell_type": "code",
   "execution_count": 44,
   "source": [
    "X[0:3, 1:3]=13\n",
    "X"
   ],
   "outputs": [
    {
     "output_type": "execute_result",
     "data": {
      "text/plain": [
       "array([[ 0., 13., 13.,  3.],\n",
       "       [ 4., 13., 13.,  7.],\n",
       "       [ 8., 13., 13., 11.]])"
      ]
     },
     "metadata": {},
     "execution_count": 44
    }
   ],
   "metadata": {}
  },
  {
   "cell_type": "code",
   "execution_count": 45,
   "source": [
    "X>Y,X,Y"
   ],
   "outputs": [
    {
     "output_type": "execute_result",
     "data": {
      "text/plain": [
       "(array([[False,  True,  True, False],\n",
       "        [ True,  True,  True,  True],\n",
       "        [ True,  True,  True,  True]]),\n",
       " array([[ 0., 13., 13.,  3.],\n",
       "        [ 4., 13., 13.,  7.],\n",
       "        [ 8., 13., 13., 11.]]),\n",
       " array([[2., 1., 4., 3.],\n",
       "        [1., 2., 3., 4.],\n",
       "        [4., 3., 2., 1.]]))"
      ]
     },
     "metadata": {},
     "execution_count": 45
    }
   ],
   "metadata": {}
  },
  {
   "cell_type": "code",
   "execution_count": 46,
   "source": [
    "T1 = np.arange(12).reshape(1, 6, 2)\n",
    "T1,np.arange(12)"
   ],
   "outputs": [
    {
     "output_type": "execute_result",
     "data": {
      "text/plain": [
       "(array([[[ 0.,  1.],\n",
       "         [ 2.,  3.],\n",
       "         [ 4.,  5.],\n",
       "         [ 6.,  7.],\n",
       "         [ 8.,  9.],\n",
       "         [10., 11.]]]),\n",
       " array([ 0.,  1.,  2.,  3.,  4.,  5.,  6.,  7.,  8.,  9., 10., 11.]))"
      ]
     },
     "metadata": {},
     "execution_count": 46
    }
   ],
   "metadata": {}
  },
  {
   "cell_type": "code",
   "execution_count": 47,
   "source": [
    "T2 = np.ones(shape=(6,6,1))\n",
    "T2"
   ],
   "outputs": [
    {
     "output_type": "execute_result",
     "data": {
      "text/plain": [
       "array([[[1.],\n",
       "        [1.],\n",
       "        [1.],\n",
       "        [1.],\n",
       "        [1.],\n",
       "        [1.]],\n",
       "\n",
       "       [[1.],\n",
       "        [1.],\n",
       "        [1.],\n",
       "        [1.],\n",
       "        [1.],\n",
       "        [1.]],\n",
       "\n",
       "       [[1.],\n",
       "        [1.],\n",
       "        [1.],\n",
       "        [1.],\n",
       "        [1.],\n",
       "        [1.]],\n",
       "\n",
       "       [[1.],\n",
       "        [1.],\n",
       "        [1.],\n",
       "        [1.],\n",
       "        [1.],\n",
       "        [1.]],\n",
       "\n",
       "       [[1.],\n",
       "        [1.],\n",
       "        [1.],\n",
       "        [1.],\n",
       "        [1.],\n",
       "        [1.]],\n",
       "\n",
       "       [[1.],\n",
       "        [1.],\n",
       "        [1.],\n",
       "        [1.],\n",
       "        [1.],\n",
       "        [1.]]])"
      ]
     },
     "metadata": {},
     "execution_count": 47
    }
   ],
   "metadata": {}
  },
  {
   "cell_type": "markdown",
   "source": [
    "## Data  Preprocessing \n",
    "\n",
    "pg 51"
   ],
   "metadata": {}
  },
  {
   "cell_type": "code",
   "execution_count": 48,
   "source": [
    "import os"
   ],
   "outputs": [],
   "metadata": {}
  },
  {
   "cell_type": "code",
   "execution_count": 49,
   "source": [
    "os.makedirs(os.path.join('../../data','tmp'), exist_ok=True)"
   ],
   "outputs": [],
   "metadata": {}
  },
  {
   "cell_type": "code",
   "execution_count": 50,
   "source": [
    "data_file=os.path.join('../../data','tmp','house_tiny.csv')"
   ],
   "outputs": [],
   "metadata": {}
  },
  {
   "cell_type": "code",
   "execution_count": 51,
   "source": [
    "with open(data_file,'w') as f:\n",
    "    f.write('NumRooms,Alley,Price\\n') # Column names\n",
    "    f.write('NA,Pave,127500\\n') # Each row represents a data example\n",
    "    f.write('2,NA,106000\\n')\n",
    "    f.write('4,NA,178100\\n')\n",
    "    f.write('NA,NA,140000\\n')"
   ],
   "outputs": [],
   "metadata": {}
  },
  {
   "cell_type": "code",
   "execution_count": 52,
   "source": [
    "import pandas as pd\n",
    "data=pd.read_csv(data_file)\n",
    "print(data)"
   ],
   "outputs": [
    {
     "output_type": "stream",
     "name": "stdout",
     "text": [
      "   NumRooms Alley   Price\n",
      "0       NaN  Pave  127500\n",
      "1       2.0   NaN  106000\n",
      "2       4.0   NaN  178100\n",
      "3       NaN   NaN  140000\n"
     ]
    }
   ],
   "metadata": {}
  },
  {
   "cell_type": "code",
   "execution_count": 53,
   "source": [
    "inputs, outputs=data.iloc[:,0:2], data.iloc[:,2]\n",
    "print(inputs)\n",
    "inputs=inputs.fillna(inputs.mean())\n",
    "print(inputs)"
   ],
   "outputs": [
    {
     "output_type": "stream",
     "name": "stdout",
     "text": [
      "   NumRooms Alley\n",
      "0       NaN  Pave\n",
      "1       2.0   NaN\n",
      "2       4.0   NaN\n",
      "3       NaN   NaN\n",
      "   NumRooms Alley\n",
      "0       3.0  Pave\n",
      "1       2.0   NaN\n",
      "2       4.0   NaN\n",
      "3       3.0   NaN\n"
     ]
    },
    {
     "output_type": "stream",
     "name": "stderr",
     "text": [
      "/tmp/ipykernel_12264/2195300243.py:3: FutureWarning: Dropping of nuisance columns in DataFrame reductions (with 'numeric_only=None') is deprecated; in a future version this will raise TypeError.  Select only valid columns before calling the reduction.\n",
      "  inputs=inputs.fillna(inputs.mean())\n"
     ]
    }
   ],
   "metadata": {}
  },
  {
   "cell_type": "code",
   "execution_count": 54,
   "source": [
    "inputs=pd.get_dummies(inputs, dummy_na=True)\n",
    "print(inputs)"
   ],
   "outputs": [
    {
     "output_type": "stream",
     "name": "stdout",
     "text": [
      "   NumRooms  Alley_Pave  Alley_nan\n",
      "0       3.0           1          0\n",
      "1       2.0           0          1\n",
      "2       4.0           0          1\n",
      "3       3.0           0          1\n"
     ]
    }
   ],
   "metadata": {}
  },
  {
   "cell_type": "code",
   "execution_count": 55,
   "source": [
    "X, y=np.array(inputs.values), np.array(outputs.values)\n",
    "X, y"
   ],
   "outputs": [
    {
     "output_type": "execute_result",
     "data": {
      "text/plain": [
       "(array([[3., 1., 0.],\n",
       "        [2., 0., 1.],\n",
       "        [4., 0., 1.],\n",
       "        [3., 0., 1.]]),\n",
       " array([127500., 106000., 178100., 140000.]))"
      ]
     },
     "metadata": {},
     "execution_count": 55
    }
   ],
   "metadata": {}
  },
  {
   "cell_type": "markdown",
   "source": [
    "### fazer exercicios da pg 53"
   ],
   "metadata": {}
  },
  {
   "cell_type": "code",
   "execution_count": 56,
   "source": [
    "t3=np.random.choice(np.array([1,2,np.nan]), (20, 5),p=np.array([0.4,0.4, 0.3]))\n",
    "t3"
   ],
   "outputs": [
    {
     "output_type": "execute_result",
     "data": {
      "text/plain": [
       "array([[ 2.,  2.,  2., nan,  2.],\n",
       "       [nan,  2., nan,  2.,  2.],\n",
       "       [ 2.,  1.,  2.,  1., nan],\n",
       "       [ 1., nan,  1.,  1.,  2.],\n",
       "       [ 2., nan,  2.,  2.,  2.],\n",
       "       [ 1., nan, nan,  1.,  1.],\n",
       "       [ 1.,  2.,  1.,  1., nan],\n",
       "       [nan,  2.,  1., nan, nan],\n",
       "       [nan,  2.,  2., nan,  2.],\n",
       "       [ 2.,  2.,  2.,  1.,  2.],\n",
       "       [ 2.,  2.,  1.,  2., nan],\n",
       "       [ 2.,  2.,  1.,  2.,  2.],\n",
       "       [ 1.,  1.,  2.,  2.,  2.],\n",
       "       [ 1.,  2.,  1.,  1.,  1.],\n",
       "       [ 2.,  1.,  2.,  1.,  2.],\n",
       "       [ 1., nan, nan,  2.,  2.],\n",
       "       [ 1.,  2.,  2., nan,  2.],\n",
       "       [ 1.,  1., nan,  2.,  2.],\n",
       "       [ 2.,  1.,  1.,  1.,  1.],\n",
       "       [ 2.,  1.,  2.,  1.,  1.]])"
      ]
     },
     "metadata": {},
     "execution_count": 56
    }
   ],
   "metadata": {}
  },
  {
   "cell_type": "code",
   "execution_count": 57,
   "source": [
    "df=pd.DataFrame(t3.asnumpy(),columns=['a','b','c','e','f'])\n",
    "print(df)"
   ],
   "outputs": [
    {
     "output_type": "stream",
     "name": "stdout",
     "text": [
      "      a    b    c    e    f\n",
      "0   2.0  2.0  2.0  NaN  2.0\n",
      "1   NaN  2.0  NaN  2.0  2.0\n",
      "2   2.0  1.0  2.0  1.0  NaN\n",
      "3   1.0  NaN  1.0  1.0  2.0\n",
      "4   2.0  NaN  2.0  2.0  2.0\n",
      "5   1.0  NaN  NaN  1.0  1.0\n",
      "6   1.0  2.0  1.0  1.0  NaN\n",
      "7   NaN  2.0  1.0  NaN  NaN\n",
      "8   NaN  2.0  2.0  NaN  2.0\n",
      "9   2.0  2.0  2.0  1.0  2.0\n",
      "10  2.0  2.0  1.0  2.0  NaN\n",
      "11  2.0  2.0  1.0  2.0  2.0\n",
      "12  1.0  1.0  2.0  2.0  2.0\n",
      "13  1.0  2.0  1.0  1.0  1.0\n",
      "14  2.0  1.0  2.0  1.0  2.0\n",
      "15  1.0  NaN  NaN  2.0  2.0\n",
      "16  1.0  2.0  2.0  NaN  2.0\n",
      "17  1.0  1.0  NaN  2.0  2.0\n",
      "18  2.0  1.0  1.0  1.0  1.0\n",
      "19  2.0  1.0  2.0  1.0  1.0\n"
     ]
    }
   ],
   "metadata": {}
  },
  {
   "cell_type": "code",
   "execution_count": 58,
   "source": [
    "df.isnull().mean()"
   ],
   "outputs": [
    {
     "output_type": "execute_result",
     "data": {
      "text/plain": [
       "a    0.15\n",
       "b    0.20\n",
       "c    0.20\n",
       "e    0.20\n",
       "f    0.20\n",
       "dtype: float64"
      ]
     },
     "metadata": {},
     "execution_count": 58
    }
   ],
   "metadata": {}
  },
  {
   "cell_type": "code",
   "execution_count": 59,
   "source": [
    "df.columns[df.isnull().mean() < 0.25]"
   ],
   "outputs": [
    {
     "output_type": "execute_result",
     "data": {
      "text/plain": [
       "Index(['a', 'b', 'c', 'e', 'f'], dtype='object')"
      ]
     },
     "metadata": {},
     "execution_count": 59
    }
   ],
   "metadata": {}
  },
  {
   "cell_type": "code",
   "execution_count": 60,
   "source": [
    "res1=df[df.columns[df.isnull().mean() < 0.25]]\n",
    "print(res1)"
   ],
   "outputs": [
    {
     "output_type": "stream",
     "name": "stdout",
     "text": [
      "      a    b    c    e    f\n",
      "0   2.0  2.0  2.0  NaN  2.0\n",
      "1   NaN  2.0  NaN  2.0  2.0\n",
      "2   2.0  1.0  2.0  1.0  NaN\n",
      "3   1.0  NaN  1.0  1.0  2.0\n",
      "4   2.0  NaN  2.0  2.0  2.0\n",
      "5   1.0  NaN  NaN  1.0  1.0\n",
      "6   1.0  2.0  1.0  1.0  NaN\n",
      "7   NaN  2.0  1.0  NaN  NaN\n",
      "8   NaN  2.0  2.0  NaN  2.0\n",
      "9   2.0  2.0  2.0  1.0  2.0\n",
      "10  2.0  2.0  1.0  2.0  NaN\n",
      "11  2.0  2.0  1.0  2.0  2.0\n",
      "12  1.0  1.0  2.0  2.0  2.0\n",
      "13  1.0  2.0  1.0  1.0  1.0\n",
      "14  2.0  1.0  2.0  1.0  2.0\n",
      "15  1.0  NaN  NaN  2.0  2.0\n",
      "16  1.0  2.0  2.0  NaN  2.0\n",
      "17  1.0  1.0  NaN  2.0  2.0\n",
      "18  2.0  1.0  1.0  1.0  1.0\n",
      "19  2.0  1.0  2.0  1.0  1.0\n"
     ]
    }
   ],
   "metadata": {}
  },
  {
   "cell_type": "code",
   "execution_count": 61,
   "source": [
    "resInput=np.array(res1.values)\n",
    "resOutput=np.random.rand(20)\n",
    "resInput,resOutput"
   ],
   "outputs": [
    {
     "output_type": "execute_result",
     "data": {
      "text/plain": [
       "(array([[ 2.,  2.,  2., nan,  2.],\n",
       "        [nan,  2., nan,  2.,  2.],\n",
       "        [ 2.,  1.,  2.,  1., nan],\n",
       "        [ 1., nan,  1.,  1.,  2.],\n",
       "        [ 2., nan,  2.,  2.,  2.],\n",
       "        [ 1., nan, nan,  1.,  1.],\n",
       "        [ 1.,  2.,  1.,  1., nan],\n",
       "        [nan,  2.,  1., nan, nan],\n",
       "        [nan,  2.,  2., nan,  2.],\n",
       "        [ 2.,  2.,  2.,  1.,  2.],\n",
       "        [ 2.,  2.,  1.,  2., nan],\n",
       "        [ 2.,  2.,  1.,  2.,  2.],\n",
       "        [ 1.,  1.,  2.,  2.,  2.],\n",
       "        [ 1.,  2.,  1.,  1.,  1.],\n",
       "        [ 2.,  1.,  2.,  1.,  2.],\n",
       "        [ 1., nan, nan,  2.,  2.],\n",
       "        [ 1.,  2.,  2., nan,  2.],\n",
       "        [ 1.,  1., nan,  2.,  2.],\n",
       "        [ 2.,  1.,  1.,  1.,  1.],\n",
       "        [ 2.,  1.,  2.,  1.,  1.]]),\n",
       " array([0.57019675, 0.03842543, 0.43860152, 0.63427407, 0.9883738 ,\n",
       "        0.95894927, 0.10204481, 0.6527903 , 0.20887676, 0.6350589 ,\n",
       "        0.16130951, 0.9952996 , 0.6531083 , 0.58185035, 0.2532916 ,\n",
       "        0.4143686 , 0.46631077, 0.4746975 , 0.2444256 , 0.6235101 ]))"
      ]
     },
     "metadata": {},
     "execution_count": 61
    }
   ],
   "metadata": {}
  },
  {
   "cell_type": "code",
   "execution_count": null,
   "source": [],
   "outputs": [],
   "metadata": {}
  },
  {
   "cell_type": "markdown",
   "source": [
    "## Linear Algebra\n",
    "pg 53"
   ],
   "metadata": {}
  },
  {
   "cell_type": "code",
   "execution_count": 62,
   "source": [
    "A=np.arange(20).reshape(5,4)\n",
    "A,A.mean(axis=0),A.mean(axis=1)"
   ],
   "outputs": [
    {
     "output_type": "execute_result",
     "data": {
      "text/plain": [
       "(array([[ 0.,  1.,  2.,  3.],\n",
       "        [ 4.,  5.,  6.,  7.],\n",
       "        [ 8.,  9., 10., 11.],\n",
       "        [12., 13., 14., 15.],\n",
       "        [16., 17., 18., 19.]]),\n",
       " array([ 8.,  9., 10., 11.]),\n",
       " array([ 1.5,  5.5,  9.5, 13.5, 17.5]))"
      ]
     },
     "metadata": {},
     "execution_count": 62
    }
   ],
   "metadata": {}
  },
  {
   "cell_type": "code",
   "execution_count": 63,
   "source": [
    "A.sum(),A.sum(axis=1),A.sum(axis=1,keepdims=True)"
   ],
   "outputs": [
    {
     "output_type": "execute_result",
     "data": {
      "text/plain": [
       "(array(190.),\n",
       " array([ 6., 22., 38., 54., 70.]),\n",
       " array([[ 6.],\n",
       "        [22.],\n",
       "        [38.],\n",
       "        [54.],\n",
       "        [70.]]))"
      ]
     },
     "metadata": {},
     "execution_count": 63
    }
   ],
   "metadata": {}
  },
  {
   "cell_type": "code",
   "execution_count": 64,
   "source": [
    "A/A.sum(axis=1,keepdims=True),A.cumsum(axis=1)"
   ],
   "outputs": [
    {
     "output_type": "execute_result",
     "data": {
      "text/plain": [
       "(array([[0.        , 0.16666667, 0.33333334, 0.5       ],\n",
       "        [0.18181819, 0.22727273, 0.27272728, 0.3181818 ],\n",
       "        [0.21052632, 0.23684211, 0.2631579 , 0.28947368],\n",
       "        [0.22222222, 0.24074075, 0.25925925, 0.2777778 ],\n",
       "        [0.22857143, 0.24285714, 0.25714287, 0.27142859]]),\n",
       " array([[ 0.,  1.,  3.,  6.],\n",
       "        [ 4.,  9., 15., 22.],\n",
       "        [ 8., 17., 27., 38.],\n",
       "        [12., 25., 39., 54.],\n",
       "        [16., 33., 51., 70.]]))"
      ]
     },
     "metadata": {},
     "execution_count": 64
    }
   ],
   "metadata": {}
  },
  {
   "cell_type": "markdown",
   "source": [
    "### Produto Hadamard (Element-wise) e Produto de Matriz\n",
    "           *                               dot\n",
    "           "
   ],
   "metadata": {}
  },
  {
   "cell_type": "code",
   "execution_count": 65,
   "source": [
    "A1=np.array([1,2,3,4]).reshape(2,2)\n",
    "B1=np.array([-1,3,4,2]).reshape(2,2)\n",
    "A1,B1,A1*B1,np.dot(A1,B1),np.dot(B1,A1)"
   ],
   "outputs": [
    {
     "output_type": "execute_result",
     "data": {
      "text/plain": [
       "(array([[1., 2.],\n",
       "        [3., 4.]]),\n",
       " array([[-1.,  3.],\n",
       "        [ 4.,  2.]]),\n",
       " array([[-1.,  6.],\n",
       "        [12.,  8.]]),\n",
       " array([[ 7.,  7.],\n",
       "        [13., 17.]]),\n",
       " array([[ 8., 10.],\n",
       "        [10., 16.]]))"
      ]
     },
     "metadata": {},
     "execution_count": 65
    }
   ],
   "metadata": {}
  },
  {
   "cell_type": "code",
   "execution_count": 66,
   "source": [
    "A1=np.array([1,2,3,4])\n",
    "B1=np.array([-1,3,4,2])\n",
    "A1,B1,A1*B1,np.dot(A1,B1)"
   ],
   "outputs": [
    {
     "output_type": "execute_result",
     "data": {
      "text/plain": [
       "(array([1., 2., 3., 4.]),\n",
       " array([-1.,  3.,  4.,  2.]),\n",
       " array([-1.,  6., 12.,  8.]),\n",
       " array(25.))"
      ]
     },
     "metadata": {},
     "execution_count": 66
    }
   ],
   "metadata": {}
  },
  {
   "cell_type": "code",
   "execution_count": 67,
   "source": [
    "y=np.ones(4)\n",
    "x.reshape(1,3), y"
   ],
   "outputs": [
    {
     "output_type": "execute_result",
     "data": {
      "text/plain": [
       "(array([[1., 2., 3.]]), array([1., 1., 1., 1.]))"
      ]
     },
     "metadata": {},
     "execution_count": 67
    }
   ],
   "metadata": {}
  },
  {
   "cell_type": "markdown",
   "source": [
    "### Norm \n",
    "pg 63\n",
    "\n",
    "<https://www.ime.unicamp.br/~valle/Teaching/MS211/Aula05.pdf>   - norma vetorial\n",
    "\n"
   ],
   "metadata": {}
  },
  {
   "cell_type": "markdown",
   "source": [
    "### Norm L2\n",
    "\\[3,-4]\n",
    "\n",
    "sqrt{3² + -4²}=5\n",
    "  "
   ],
   "metadata": {}
  },
  {
   "cell_type": "code",
   "execution_count": 68,
   "source": [
    "u=np.array([3,-4])\n",
    "u,np.linalg.norm(u)"
   ],
   "outputs": [
    {
     "output_type": "execute_result",
     "data": {
      "text/plain": [
       "(array([ 3., -4.]), array(5.))"
      ]
     },
     "metadata": {},
     "execution_count": 68
    }
   ],
   "metadata": {}
  },
  {
   "cell_type": "markdown",
   "source": [
    "###Norm L1\n",
    "\n",
    "\\[3,-4]\n",
    "\n",
    "|3|+|-4|=7\n"
   ],
   "metadata": {}
  },
  {
   "cell_type": "code",
   "execution_count": 69,
   "source": [
    "np.abs(u).sum()"
   ],
   "outputs": [
    {
     "output_type": "execute_result",
     "data": {
      "text/plain": [
       "array(7.)"
      ]
     },
     "metadata": {},
     "execution_count": 69
    }
   ],
   "metadata": {}
  },
  {
   "cell_type": "markdown",
   "source": [
    "### Frobenius norm \n",
    "Aplica a L2 sobre Matrizes\n"
   ],
   "metadata": {}
  },
  {
   "cell_type": "markdown",
   "source": [
    "### Exercícios pg 65\n",
    "\n",
    "#### Confrontar com https://hy38.github.io/D2L-2-linear-algebra\n"
   ],
   "metadata": {}
  },
  {
   "cell_type": "markdown",
   "source": [
    "#### 1. Prove that the transpose of a matrix A’s transpose is A : (𝐀T)⊤=A(𝐀^T)^⊤ = A(AT)⊤=A"
   ],
   "metadata": {}
  },
  {
   "cell_type": "code",
   "execution_count": 70,
   "source": [
    "A=np.arange(25).reshape(5,5)\n",
    "AT=A.T\n",
    "TA=AT.T\n",
    "res=(A==TA).reshape(A.size)\n",
    "#type(res),type(res.asnumpy()),\n",
    "#np.diff(res,prepend=False, append=False)\n",
    "np.count_nonzero(res%2==1)==A.size\n"
   ],
   "outputs": [
    {
     "output_type": "stream",
     "name": "stderr",
     "text": [
      "WARNING:root:np.count_nonzero is a fallback operator, which is actually using official numpy's implementation.\n"
     ]
    },
    {
     "output_type": "execute_result",
     "data": {
      "text/plain": [
       "True"
      ]
     },
     "metadata": {},
     "execution_count": 70
    }
   ],
   "metadata": {}
  },
  {
   "cell_type": "markdown",
   "source": [
    "\n",
    "#### 2. Given two matrices A and B, show that the sum of transposes is equal to the transpose of a sum: A⊤+B⊤= (A+B)⊤\n"
   ],
   "metadata": {}
  },
  {
   "cell_type": "code",
   "execution_count": 71,
   "source": [
    "A1=np.array([1,2,3,4,5,6,7,8,9]).reshape(3,3)\n",
    "A2=A1.copy()\n",
    "B1=np.array([2,4,6,8,10,12,14,16,18]).reshape(3,3)\n",
    "B2=B1.copy()\n",
    "A1,A2,B1,B2"
   ],
   "outputs": [
    {
     "output_type": "execute_result",
     "data": {
      "text/plain": [
       "(array([[1., 2., 3.],\n",
       "        [4., 5., 6.],\n",
       "        [7., 8., 9.]]),\n",
       " array([[1., 2., 3.],\n",
       "        [4., 5., 6.],\n",
       "        [7., 8., 9.]]),\n",
       " array([[ 2.,  4.,  6.],\n",
       "        [ 8., 10., 12.],\n",
       "        [14., 16., 18.]]),\n",
       " array([[ 2.,  4.,  6.],\n",
       "        [ 8., 10., 12.],\n",
       "        [14., 16., 18.]]))"
      ]
     },
     "metadata": {},
     "execution_count": 71
    }
   ],
   "metadata": {}
  },
  {
   "cell_type": "code",
   "execution_count": 72,
   "source": [
    "R1=A1.T + B1.T\n",
    "R2=(A1+B1).T\n",
    "res=(R1==R2).reshape(R1.size)\n",
    "np.count_nonzero(res%2==1)==R1.size"
   ],
   "outputs": [
    {
     "output_type": "execute_result",
     "data": {
      "text/plain": [
       "True"
      ]
     },
     "metadata": {},
     "execution_count": 72
    }
   ],
   "metadata": {}
  },
  {
   "cell_type": "markdown",
   "source": [
    "#### 3. Given any square matrixA, is A+A⊤ always symmetric? Why?\n"
   ],
   "metadata": {}
  },
  {
   "cell_type": "code",
   "execution_count": 73,
   "source": [
    "t1=A1+A1.T\n",
    "t2=B1+B1.T\n",
    "res1=(t1==t1.T).reshape(t1.size)\n",
    "res2=(t2==t2.T).reshape(t2.size)\n",
    "res1,res2\n",
    "np.count_nonzero(res1%2==1)==res1.size , np.count_nonzero(res2%2==1)==res2.size"
   ],
   "outputs": [
    {
     "output_type": "execute_result",
     "data": {
      "text/plain": [
       "(True, True)"
      ]
     },
     "metadata": {},
     "execution_count": 73
    }
   ],
   "metadata": {}
  },
  {
   "cell_type": "markdown",
   "source": [
    "#### 4. We defined the tensorX \n",
    "of shape (2, 3, 4) in this section. What is the output oflen(X)?"
   ],
   "metadata": {}
  },
  {
   "cell_type": "code",
   "execution_count": 74,
   "source": [
    "T=np.ones((2,3,4))\n",
    "T,T.size,T.shape"
   ],
   "outputs": [
    {
     "output_type": "execute_result",
     "data": {
      "text/plain": [
       "(array([[[1., 1., 1., 1.],\n",
       "         [1., 1., 1., 1.],\n",
       "         [1., 1., 1., 1.]],\n",
       " \n",
       "        [[1., 1., 1., 1.],\n",
       "         [1., 1., 1., 1.],\n",
       "         [1., 1., 1., 1.]]]),\n",
       " 24,\n",
       " (2, 3, 4))"
      ]
     },
     "metadata": {},
     "execution_count": 74
    }
   ],
   "metadata": {}
  },
  {
   "cell_type": "markdown",
   "source": [
    "#### 5. For a tensorXof arbitrary shape, does len(X) always correspond to the length of a certain axis ofX? What is that axis?\n",
    "first"
   ],
   "metadata": {}
  },
  {
   "cell_type": "markdown",
   "source": [
    "#### 6.Run A / A.sum(axis=1) \n",
    "and see what happens. Can you analyze the reason?"
   ],
   "metadata": {}
  },
  {
   "cell_type": "code",
   "execution_count": 75,
   "source": [
    "t=A.sum(axis=1)\n",
    "A,t,A/t"
   ],
   "outputs": [
    {
     "output_type": "execute_result",
     "data": {
      "text/plain": [
       "(array([[ 0.,  1.,  2.,  3.,  4.],\n",
       "        [ 5.,  6.,  7.,  8.,  9.],\n",
       "        [10., 11., 12., 13., 14.],\n",
       "        [15., 16., 17., 18., 19.],\n",
       "        [20., 21., 22., 23., 24.]]),\n",
       " array([ 10.,  35.,  60.,  85., 110.]),\n",
       " array([[0.        , 0.02857143, 0.03333334, 0.03529412, 0.03636364],\n",
       "        [0.5       , 0.17142858, 0.11666667, 0.09411765, 0.08181818],\n",
       "        [1.        , 0.31428573, 0.2       , 0.15294118, 0.12727273],\n",
       "        [1.5       , 0.45714286, 0.28333333, 0.21176471, 0.17272727],\n",
       "        [2.        , 0.6       , 0.36666667, 0.27058825, 0.21818182]]))"
      ]
     },
     "metadata": {},
     "execution_count": 75
    }
   ],
   "metadata": {}
  },
  {
   "cell_type": "markdown",
   "source": [
    "#### 8. Consider a tensor with shape (2, 3, 4). What are the shapes of the summation outputs alongaxis 0, 1, and 2?"
   ],
   "metadata": {}
  },
  {
   "cell_type": "code",
   "execution_count": 76,
   "source": [
    "A=mx.nd.arange(1,25).reshape(2,3,4)\n",
    "A,A.sum(0),A.sum(1),A.sum(2)"
   ],
   "outputs": [
    {
     "output_type": "execute_result",
     "data": {
      "text/plain": [
       "(\n",
       " [[[ 1.  2.  3.  4.]\n",
       "   [ 5.  6.  7.  8.]\n",
       "   [ 9. 10. 11. 12.]]\n",
       " \n",
       "  [[13. 14. 15. 16.]\n",
       "   [17. 18. 19. 20.]\n",
       "   [21. 22. 23. 24.]]]\n",
       " <NDArray 2x3x4 @cpu(0)>,\n",
       " \n",
       " [[14. 16. 18. 20.]\n",
       "  [22. 24. 26. 28.]\n",
       "  [30. 32. 34. 36.]]\n",
       " <NDArray 3x4 @cpu(0)>,\n",
       " \n",
       " [[15. 18. 21. 24.]\n",
       "  [51. 54. 57. 60.]]\n",
       " <NDArray 2x4 @cpu(0)>,\n",
       " \n",
       " [[10. 26. 42.]\n",
       "  [58. 74. 90.]]\n",
       " <NDArray 2x3 @cpu(0)>)"
      ]
     },
     "metadata": {},
     "execution_count": 76
    }
   ],
   "metadata": {}
  },
  {
   "cell_type": "markdown",
   "source": [
    "#### 9. Feed a tensor with 3 or more axes to the linalg.norm function and observe its output. Whatdoes this function compute for tensors of arbitrary shape?\n",
    "https://www.educative.io/edpresso/what-is-the-nplinalgnorm-method-in-numpy\n"
   ],
   "metadata": {}
  },
  {
   "cell_type": "code",
   "execution_count": 77,
   "source": [
    "A=(np.arange(24)-5).reshape(2,3,4)\n",
    "A , np.linalg.norm(A),np.linalg.norm(A,axis=0),np.linalg.norm(A,axis=1),np.linalg.norm(A,axis=2)"
   ],
   "outputs": [
    {
     "output_type": "execute_result",
     "data": {
      "text/plain": [
       "(array([[[-5., -4., -3., -2.],\n",
       "         [-1.,  0.,  1.,  2.],\n",
       "         [ 3.,  4.,  5.,  6.]],\n",
       " \n",
       "        [[ 7.,  8.,  9., 10.],\n",
       "         [11., 12., 13., 14.],\n",
       "         [15., 16., 17., 18.]]]),\n",
       " array(46.518814),\n",
       " array([[ 8.602325,  8.944272,  9.486833, 10.198039],\n",
       "        [11.045361, 12.      , 13.038404, 14.142136],\n",
       "        [15.297058, 16.492422, 17.720045, 18.973665]]),\n",
       " array([[ 5.91608  ,  5.656854 ,  5.91608  ,  6.6332498],\n",
       "        [19.874607 , 21.540659 , 23.216373 , 24.8998   ]]),\n",
       " array([[ 7.3484693,  2.4494898,  9.273619 ],\n",
       "        [17.14643  , 25.0998   , 33.075672 ]]))"
      ]
     },
     "metadata": {},
     "execution_count": 77
    }
   ],
   "metadata": {}
  },
  {
   "cell_type": "code",
   "execution_count": null,
   "source": [],
   "outputs": [],
   "metadata": {}
  }
 ],
 "metadata": {
  "kernelspec": {
   "name": "python3",
   "display_name": "Python 3.8.12 64-bit"
  },
  "language_info": {
   "codemirror_mode": {
    "name": "ipython",
    "version": 3
   },
   "file_extension": ".py",
   "mimetype": "text/x-python",
   "name": "python",
   "nbconvert_exporter": "python",
   "pygments_lexer": "ipython3",
   "version": "3.8.12"
  },
  "interpreter": {
   "hash": "5b3ded1ccb95c1d9bd405e7b823d9e85424cde40fbb5985eb47e999ef50e15b4"
  }
 },
 "nbformat": 4,
 "nbformat_minor": 5
}