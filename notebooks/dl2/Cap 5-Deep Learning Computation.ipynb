{
    "cells": [
        {
            "cell_type": "code",
            "execution_count": 1,
            "metadata": {},
            "outputs": [
                {
                    "name": "stdout",
                    "output_type": "stream",
                    "text": [
                        "Sun Jan  9 19:22:44 2022       \n",
                        "+-----------------------------------------------------------------------------+\n",
                        "| NVIDIA-SMI 495.46       Driver Version: 495.46       CUDA Version: 11.5     |\n",
                        "|-------------------------------+----------------------+----------------------+\n",
                        "| GPU  Name        Persistence-M| Bus-Id        Disp.A | Volatile Uncorr. ECC |\n",
                        "| Fan  Temp  Perf  Pwr:Usage/Cap|         Memory-Usage | GPU-Util  Compute M. |\n",
                        "|                               |                      |               MIG M. |\n",
                        "|===============================+======================+======================|\n",
                        "|   0  NVIDIA GeForce ...  Off  | 00000000:06:00.0  On |                  N/A |\n",
                        "| 30%   35C    P8    24W / 220W |    858MiB /  7981MiB |      7%      Default |\n",
                        "|                               |                      |                  N/A |\n",
                        "+-------------------------------+----------------------+----------------------+\n",
                        "                                                                               \n",
                        "+-----------------------------------------------------------------------------+\n",
                        "| Processes:                                                                  |\n",
                        "|  GPU   GI   CI        PID   Type   Process name                  GPU Memory |\n",
                        "|        ID   ID                                                   Usage      |\n",
                        "|=============================================================================|\n",
                        "|    0   N/A  N/A     11898      G   /usr/libexec/Xorg                 254MiB |\n",
                        "|    0   N/A  N/A     12076      G   /usr/bin/gnome-shell              132MiB |\n",
                        "|    0   N/A  N/A     12883      G   /usr/lib64/firefox/firefox        136MiB |\n",
                        "|    0   N/A  N/A     13237      G   /usr/lib64/firefox/firefox          2MiB |\n",
                        "|    0   N/A  N/A     13999      G   ...AAAAAAAAA= --shared-files      127MiB |\n",
                        "|    0   N/A  N/A     14379      G   ...AAAAAAAAA= --shared-files      200MiB |\n",
                        "+-----------------------------------------------------------------------------+\n"
                    ]
                }
            ],
            "source": [
                "!nvidia-smi"
            ]
        },
        {
            "cell_type": "code",
            "execution_count": 2,
            "metadata": {},
            "outputs": [
                {
                    "data": {
                        "text/plain": [
                            "(cpu(0), gpu(0), gpu(1))"
                        ]
                    },
                    "execution_count": 2,
                    "metadata": {},
                    "output_type": "execute_result"
                }
            ],
            "source": [
                "import mxnet as mx\n",
                "from mxnet import np, npx\n",
                "from mxnet.gluon import nn \n",
                "\n",
                "npx.set_np()\n",
                "\n",
                "npx.cpu(), npx.gpu(), npx.gpu(1)"
            ]
        },
        {
            "cell_type": "code",
            "execution_count": 3,
            "metadata": {},
            "outputs": [
                {
                    "data": {
                        "text/plain": [
                            "1"
                        ]
                    },
                    "execution_count": 3,
                    "metadata": {},
                    "output_type": "execute_result"
                }
            ],
            "source": [
                "npx.num_gpus()"
            ]
        },
        {
            "cell_type": "code",
            "execution_count": 4,
            "metadata": {},
            "outputs": [
                {
                    "name": "stderr",
                    "output_type": "stream",
                    "text": [
                        "[19:22:55] /home/mertins/Desenvolvimento/C/Terceiros/mxnet/src/storage/storage.cc:202: Using Pooled (Naive) StorageManager for CPU\n"
                    ]
                }
            ],
            "source": [
                "x=mx.nd.arange(1,4)\n"
            ]
        },
        {
            "cell_type": "code",
            "execution_count": 5,
            "metadata": {},
            "outputs": [
                {
                    "name": "stderr",
                    "output_type": "stream",
                    "text": [
                        "[19:23:03] /home/mertins/Desenvolvimento/C/Terceiros/mxnet/src/storage/storage.cc:202: Using Pooled (Naive) StorageManager for GPU\n"
                    ]
                },
                {
                    "data": {
                        "text/plain": [
                            "array([[1., 1., 1.],\n",
                            "       [1., 1., 1.]], device=gpu(0))"
                        ]
                    },
                    "execution_count": 5,
                    "metadata": {},
                    "output_type": "execute_result"
                }
            ],
            "source": [
                "X=np.ones((2,3), ctx=npx.gpu(0))\n",
                "X"
            ]
        },
        {
            "cell_type": "code",
            "execution_count": 6,
            "metadata": {},
            "outputs": [],
            "source": [
                "net=nn.Sequential()\n",
                "net.add(nn.Dense(1))\n",
                "net.initialize(ctx=npx.gpu(0))"
            ]
        },
        {
            "cell_type": "code",
            "execution_count": 7,
            "metadata": {},
            "outputs": [
                {
                    "data": {
                        "text/plain": [
                            "array([[0.04995346],\n",
                            "       [0.04995346]], device=gpu(0))"
                        ]
                    },
                    "execution_count": 7,
                    "metadata": {},
                    "output_type": "execute_result"
                }
            ],
            "source": [
                "T=net(X)\n",
                "T"
            ]
        },
        {
            "cell_type": "code",
            "execution_count": 8,
            "metadata": {},
            "outputs": [
                {
                    "data": {
                        "text/plain": [
                            "gpu(0)"
                        ]
                    },
                    "execution_count": 8,
                    "metadata": {},
                    "output_type": "execute_result"
                }
            ],
            "source": [
                "net[0].weight.data().ctx"
            ]
        }
    ],
    "metadata": {
        "interpreter": {
            "hash": "df0893f56f349688326838aaeea0de204df53a132722cbd565e54b24a8fec5f6"
        },
        "kernelspec": {
            "display_name": "Python 3.8.12 64-bit",
            "name": "python3"
        },
        "language_info": {
            "codemirror_mode": {
                "name": "ipython",
                "version": 3
            },
            "file_extension": ".py",
            "mimetype": "text/x-python",
            "name": "python",
            "nbconvert_exporter": "python",
            "pygments_lexer": "ipython3",
            "version": "3.8.12"
        },
        "orig_nbformat": 4
    },
    "nbformat": 4,
    "nbformat_minor": 2
}
