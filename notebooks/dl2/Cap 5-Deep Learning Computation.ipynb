{
    "cells": [
        {
            "cell_type": "code",
            "execution_count": 1,
            "source": [
                "!nvidia-smi"
            ],
            "outputs": [
                {
                    "output_type": "stream",
                    "name": "stdout",
                    "text": [
                        "Wed Sep 15 11:23:29 2021       \n",
                        "+-----------------------------------------------------------------------------+\n",
                        "| NVIDIA-SMI 470.57.02    Driver Version: 470.57.02    CUDA Version: 11.4     |\n",
                        "|-------------------------------+----------------------+----------------------+\n",
                        "| GPU  Name        Persistence-M| Bus-Id        Disp.A | Volatile Uncorr. ECC |\n",
                        "| Fan  Temp  Perf  Pwr:Usage/Cap|         Memory-Usage | GPU-Util  Compute M. |\n",
                        "|                               |                      |               MIG M. |\n",
                        "|===============================+======================+======================|\n",
                        "|   0  NVIDIA GeForce ...  Off  | 00000000:06:00.0  On |                  N/A |\n",
                        "|  0%   43C    P0    46W / 220W |    685MiB /  7981MiB |      1%      Default |\n",
                        "|                               |                      |                  N/A |\n",
                        "+-------------------------------+----------------------+----------------------+\n",
                        "                                                                               \n",
                        "+-----------------------------------------------------------------------------+\n",
                        "| Processes:                                                                  |\n",
                        "|  GPU   GI   CI        PID   Type   Process name                  GPU Memory |\n",
                        "|        ID   ID                                                   Usage      |\n",
                        "|=============================================================================|\n",
                        "|    0   N/A  N/A      3499      G   /usr/libexec/Xorg                 277MiB |\n",
                        "|    0   N/A  N/A      3687      G   /usr/bin/gnome-shell              122MiB |\n",
                        "|    0   N/A  N/A      4537      G   /usr/lib64/firefox/firefox         96MiB |\n",
                        "|    0   N/A  N/A      4743      G   /usr/lib64/firefox/firefox          2MiB |\n",
                        "|    0   N/A  N/A      4955      G   ...AAAAAAAAA= --shared-files       20MiB |\n",
                        "|    0   N/A  N/A      5121      G   /usr/lib64/firefox/firefox          2MiB |\n",
                        "|    0   N/A  N/A      9375      G   /usr/lib64/firefox/firefox          2MiB |\n",
                        "|    0   N/A  N/A     63125      G   cpu-x                               2MiB |\n",
                        "|    0   N/A  N/A     64598      G   nvidia-settings                     0MiB |\n",
                        "|    0   N/A  N/A     64996      G   ...AAAAAAAAA= --shared-files      150MiB |\n",
                        "+-----------------------------------------------------------------------------+\n"
                    ]
                }
            ],
            "metadata": {}
        },
        {
            "cell_type": "code",
            "execution_count": 2,
            "source": [
                "import mxnet as mx\n",
                "from mxnet import np, npx\n",
                "from mxnet.gluon import nn \n",
                "\n",
                "npx.set_np()\n",
                "\n",
                "npx.cpu(), npx.gpu(), npx.gpu(1)"
            ],
            "outputs": [
                {
                    "output_type": "execute_result",
                    "data": {
                        "text/plain": [
                            "(cpu(0), gpu(0), gpu(1))"
                        ]
                    },
                    "metadata": {},
                    "execution_count": 2
                }
            ],
            "metadata": {}
        },
        {
            "cell_type": "code",
            "execution_count": 3,
            "source": [
                "npx.num_gpus()"
            ],
            "outputs": [
                {
                    "output_type": "execute_result",
                    "data": {
                        "text/plain": [
                            "1"
                        ]
                    },
                    "metadata": {},
                    "execution_count": 3
                }
            ],
            "metadata": {}
        },
        {
            "cell_type": "code",
            "execution_count": 4,
            "source": [
                "x=mx.nd.arange(1,4)\n"
            ],
            "outputs": [
                {
                    "output_type": "stream",
                    "name": "stderr",
                    "text": [
                        "[11:23:31] /home/mertins/Desenvolvimento/C/Terceiros/mxnet/src/storage/storage.cc:205: Using Pooled (Naive) StorageManager for CPU\n"
                    ]
                }
            ],
            "metadata": {}
        },
        {
            "cell_type": "code",
            "execution_count": 5,
            "source": [
                "X=np.ones((2,3), ctx=npx.gpu(0))\n",
                "X"
            ],
            "outputs": [
                {
                    "output_type": "stream",
                    "name": "stderr",
                    "text": [
                        "[11:23:39] /home/mertins/Desenvolvimento/C/Terceiros/mxnet/src/storage/storage.cc:205: Using Pooled (Naive) StorageManager for GPU\n"
                    ]
                },
                {
                    "output_type": "execute_result",
                    "data": {
                        "text/plain": [
                            "array([[1., 1., 1.],\n",
                            "       [1., 1., 1.]], ctx=gpu(0))"
                        ]
                    },
                    "metadata": {},
                    "execution_count": 5
                }
            ],
            "metadata": {}
        },
        {
            "cell_type": "code",
            "execution_count": 6,
            "source": [
                "net=nn.Sequential()\n",
                "net.add(nn.Dense(1))\n",
                "net.initialize(ctx=npx.gpu(0))"
            ],
            "outputs": [],
            "metadata": {}
        },
        {
            "cell_type": "code",
            "execution_count": 7,
            "source": [
                "T=net(X)\n",
                "T"
            ],
            "outputs": [
                {
                    "output_type": "execute_result",
                    "data": {
                        "text/plain": [
                            "array([[0.04995865],\n",
                            "       [0.04995865]], ctx=gpu(0))"
                        ]
                    },
                    "metadata": {},
                    "execution_count": 7
                }
            ],
            "metadata": {}
        },
        {
            "cell_type": "code",
            "execution_count": 8,
            "source": [
                "net[0].weight.data().ctx"
            ],
            "outputs": [
                {
                    "output_type": "execute_result",
                    "data": {
                        "text/plain": [
                            "gpu(0)"
                        ]
                    },
                    "metadata": {},
                    "execution_count": 8
                }
            ],
            "metadata": {}
        }
    ],
    "metadata": {
        "orig_nbformat": 4,
        "language_info": {
            "name": "python",
            "version": "3.8.12",
            "mimetype": "text/x-python",
            "codemirror_mode": {
                "name": "ipython",
                "version": 3
            },
            "pygments_lexer": "ipython3",
            "nbconvert_exporter": "python",
            "file_extension": ".py"
        },
        "kernelspec": {
            "name": "python3",
            "display_name": "Python 3.8.12 64-bit"
        },
        "interpreter": {
            "hash": "df0893f56f349688326838aaeea0de204df53a132722cbd565e54b24a8fec5f6"
        }
    },
    "nbformat": 4,
    "nbformat_minor": 2
}