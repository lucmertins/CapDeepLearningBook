{
    "cells": [
        {
            "cell_type": "code",
            "execution_count": null,
            "metadata": {},
            "outputs": [],
            "source": [
                "!nvidia-smi"
            ]
        },
        {
            "cell_type": "code",
            "execution_count": 1,
            "metadata": {},
            "outputs": [
                {
                    "ename": "OSError",
                    "evalue": "libopencv_highgui.so.4.5: cannot open shared object file: No such file or directory",
                    "output_type": "error",
                    "traceback": [
                        "\u001b[0;31m---------------------------------------------------------------------------\u001b[0m",
                        "\u001b[0;31mOSError\u001b[0m                                   Traceback (most recent call last)",
                        "Cell \u001b[0;32mIn[1], line 1\u001b[0m\n\u001b[0;32m----> 1\u001b[0m \u001b[39mimport\u001b[39;00m \u001b[39mmxnet\u001b[39;00m \u001b[39mas\u001b[39;00m \u001b[39mmx\u001b[39;00m\n\u001b[1;32m      2\u001b[0m \u001b[39mfrom\u001b[39;00m \u001b[39mmxnet\u001b[39;00m \u001b[39mimport\u001b[39;00m np, npx\n\u001b[1;32m      3\u001b[0m \u001b[39mfrom\u001b[39;00m \u001b[39mmxnet\u001b[39;00m\u001b[39m.\u001b[39;00m\u001b[39mgluon\u001b[39;00m \u001b[39mimport\u001b[39;00m nn \n",
                        "File \u001b[0;32m~/.local/lib/python3.11/site-packages/mxnet/__init__.py:23\u001b[0m\n\u001b[1;32m      1\u001b[0m \u001b[39m#!/usr/bin/env python\u001b[39;00m\n\u001b[1;32m      2\u001b[0m \n\u001b[1;32m      3\u001b[0m \u001b[39m# Licensed to the Apache Software Foundation (ASF) under one\u001b[39;00m\n\u001b[0;32m   (...)\u001b[0m\n\u001b[1;32m     19\u001b[0m \n\u001b[1;32m     20\u001b[0m \u001b[39m# coding: utf-8\u001b[39;00m\n\u001b[1;32m     21\u001b[0m \u001b[39m\"\"\"MXNet: a concise, fast and flexible framework for deep learning.\"\"\"\u001b[39;00m\n\u001b[0;32m---> 23\u001b[0m \u001b[39mfrom\u001b[39;00m \u001b[39m.\u001b[39;00m\u001b[39mcontext\u001b[39;00m \u001b[39mimport\u001b[39;00m Context, current_context, cpu, gpu, cpu_pinned\n\u001b[1;32m     24\u001b[0m \u001b[39mfrom\u001b[39;00m \u001b[39m.\u001b[39;00m \u001b[39mimport\u001b[39;00m engine, error\n\u001b[1;32m     25\u001b[0m \u001b[39mfrom\u001b[39;00m \u001b[39m.\u001b[39;00m\u001b[39mbase\u001b[39;00m \u001b[39mimport\u001b[39;00m MXNetError\n",
                        "File \u001b[0;32m~/.local/lib/python3.11/site-packages/mxnet/context.py:23\u001b[0m\n\u001b[1;32m     21\u001b[0m \u001b[39mimport\u001b[39;00m \u001b[39mwarnings\u001b[39;00m\n\u001b[1;32m     22\u001b[0m \u001b[39mimport\u001b[39;00m \u001b[39mctypes\u001b[39;00m\n\u001b[0;32m---> 23\u001b[0m \u001b[39mfrom\u001b[39;00m \u001b[39m.\u001b[39;00m\u001b[39mbase\u001b[39;00m \u001b[39mimport\u001b[39;00m classproperty, with_metaclass, _MXClassPropertyMetaClass\n\u001b[1;32m     24\u001b[0m \u001b[39mfrom\u001b[39;00m \u001b[39m.\u001b[39;00m\u001b[39mbase\u001b[39;00m \u001b[39mimport\u001b[39;00m _LIB\n\u001b[1;32m     25\u001b[0m \u001b[39mfrom\u001b[39;00m \u001b[39m.\u001b[39;00m\u001b[39mbase\u001b[39;00m \u001b[39mimport\u001b[39;00m check_call\n",
                        "File \u001b[0;32m~/.local/lib/python3.11/site-packages/mxnet/base.py:356\u001b[0m\n\u001b[1;32m    354\u001b[0m __version__ \u001b[39m=\u001b[39m libinfo\u001b[39m.\u001b[39m__version__\n\u001b[1;32m    355\u001b[0m \u001b[39m# library instance of mxnet\u001b[39;00m\n\u001b[0;32m--> 356\u001b[0m _LIB \u001b[39m=\u001b[39m _load_lib()\n\u001b[1;32m    358\u001b[0m \u001b[39m# type definitions\u001b[39;00m\n\u001b[1;32m    359\u001b[0m mx_int \u001b[39m=\u001b[39m ctypes\u001b[39m.\u001b[39mc_int\n",
                        "File \u001b[0;32m~/.local/lib/python3.11/site-packages/mxnet/base.py:347\u001b[0m, in \u001b[0;36m_load_lib\u001b[0;34m()\u001b[0m\n\u001b[1;32m    345\u001b[0m     lib \u001b[39m=\u001b[39m ctypes\u001b[39m.\u001b[39mCDLL(lib_path[\u001b[39m0\u001b[39m], winmode\u001b[39m=\u001b[39m\u001b[39m0x00000008\u001b[39m)\n\u001b[1;32m    346\u001b[0m \u001b[39melse\u001b[39;00m:\n\u001b[0;32m--> 347\u001b[0m     lib \u001b[39m=\u001b[39m ctypes\u001b[39m.\u001b[39;49mCDLL(lib_path[\u001b[39m0\u001b[39;49m], ctypes\u001b[39m.\u001b[39;49mRTLD_LOCAL)\n\u001b[1;32m    348\u001b[0m \u001b[39m# DMatrix functions\u001b[39;00m\n\u001b[1;32m    349\u001b[0m lib\u001b[39m.\u001b[39mMXGetLastError\u001b[39m.\u001b[39mrestype \u001b[39m=\u001b[39m ctypes\u001b[39m.\u001b[39mc_char_p\n",
                        "File \u001b[0;32m/usr/lib64/python3.11/ctypes/__init__.py:376\u001b[0m, in \u001b[0;36mCDLL.__init__\u001b[0;34m(self, name, mode, handle, use_errno, use_last_error, winmode)\u001b[0m\n\u001b[1;32m    373\u001b[0m \u001b[39mself\u001b[39m\u001b[39m.\u001b[39m_FuncPtr \u001b[39m=\u001b[39m _FuncPtr\n\u001b[1;32m    375\u001b[0m \u001b[39mif\u001b[39;00m handle \u001b[39mis\u001b[39;00m \u001b[39mNone\u001b[39;00m:\n\u001b[0;32m--> 376\u001b[0m     \u001b[39mself\u001b[39m\u001b[39m.\u001b[39m_handle \u001b[39m=\u001b[39m _dlopen(\u001b[39mself\u001b[39;49m\u001b[39m.\u001b[39;49m_name, mode)\n\u001b[1;32m    377\u001b[0m \u001b[39melse\u001b[39;00m:\n\u001b[1;32m    378\u001b[0m     \u001b[39mself\u001b[39m\u001b[39m.\u001b[39m_handle \u001b[39m=\u001b[39m handle\n",
                        "\u001b[0;31mOSError\u001b[0m: libopencv_highgui.so.4.5: cannot open shared object file: No such file or directory"
                    ]
                }
            ],
            "source": [
                "import mxnet as mx\n",
                "from mxnet import np, npx\n",
                "from mxnet.gluon import nn \n",
                "\n",
                "npx.set_np()\n",
                "\n",
                "npx.cpu(), npx.gpu(), npx.gpu(1)"
            ]
        },
        {
            "cell_type": "code",
            "execution_count": null,
            "metadata": {},
            "outputs": [],
            "source": [
                "npx.num_gpus()"
            ]
        },
        {
            "cell_type": "code",
            "execution_count": null,
            "metadata": {},
            "outputs": [],
            "source": [
                "x=mx.nd.arange(1,4)\n"
            ]
        },
        {
            "cell_type": "code",
            "execution_count": null,
            "metadata": {},
            "outputs": [],
            "source": [
                "X=np.ones((2,3), ctx=npx.gpu(0))\n",
                "X"
            ]
        },
        {
            "cell_type": "code",
            "execution_count": null,
            "metadata": {},
            "outputs": [],
            "source": [
                "net=nn.Sequential()\n",
                "net.add(nn.Dense(1))\n",
                "net.initialize(ctx=npx.gpu(0))"
            ]
        },
        {
            "cell_type": "code",
            "execution_count": null,
            "metadata": {},
            "outputs": [],
            "source": [
                "T=net(X)\n",
                "T"
            ]
        },
        {
            "cell_type": "code",
            "execution_count": null,
            "metadata": {},
            "outputs": [],
            "source": [
                "net[0].weight.data().ctx"
            ]
        }
    ],
    "metadata": {
        "kernelspec": {
            "display_name": "Python 3",
            "language": "python",
            "name": "python3"
        },
        "language_info": {
            "codemirror_mode": {
                "name": "ipython",
                "version": 3
            },
            "file_extension": ".py",
            "mimetype": "text/x-python",
            "name": "python",
            "nbconvert_exporter": "python",
            "pygments_lexer": "ipython3",
            "version": "3.11.1"
        },
        "orig_nbformat": 4,
        "vscode": {
            "interpreter": {
                "hash": "767d51c1340bd893661ea55ea3124f6de3c7a262a8b4abca0554b478b1e2ff90"
            }
        }
    },
    "nbformat": 4,
    "nbformat_minor": 2
}
