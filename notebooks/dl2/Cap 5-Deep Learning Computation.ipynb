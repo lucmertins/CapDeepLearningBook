{
    "cells": [
        {
            "cell_type": "code",
            "execution_count": 1,
            "source": [
                "!nvidia-smi"
            ],
            "outputs": [
                {
                    "output_type": "stream",
                    "name": "stdout",
                    "text": [
                        "Fri Sep  3 12:23:58 2021       \n",
                        "+-----------------------------------------------------------------------------+\n",
                        "| NVIDIA-SMI 470.57.02    Driver Version: 470.57.02    CUDA Version: 11.4     |\n",
                        "|-------------------------------+----------------------+----------------------+\n",
                        "| GPU  Name        Persistence-M| Bus-Id        Disp.A | Volatile Uncorr. ECC |\n",
                        "| Fan  Temp  Perf  Pwr:Usage/Cap|         Memory-Usage | GPU-Util  Compute M. |\n",
                        "|                               |                      |               MIG M. |\n",
                        "|===============================+======================+======================|\n",
                        "|   0  NVIDIA GeForce ...  Off  | 00000000:06:00.0  On |                  N/A |\n",
                        "|  0%   40C    P8    24W / 220W |    573MiB /  7981MiB |     31%      Default |\n",
                        "|                               |                      |                  N/A |\n",
                        "+-------------------------------+----------------------+----------------------+\n",
                        "                                                                               \n",
                        "+-----------------------------------------------------------------------------+\n",
                        "| Processes:                                                                  |\n",
                        "|  GPU   GI   CI        PID   Type   Process name                  GPU Memory |\n",
                        "|        ID   ID                                                   Usage      |\n",
                        "|=============================================================================|\n",
                        "|    0   N/A  N/A      3519      G   /usr/libexec/Xorg                 259MiB |\n",
                        "|    0   N/A  N/A      3712      G   /usr/bin/gnome-shell               88MiB |\n",
                        "|    0   N/A  N/A      4696      G   ...AAAAAAAAA= --shared-files       27MiB |\n",
                        "|    0   N/A  N/A     29434      G   /usr/lib64/firefox/firefox         84MiB |\n",
                        "|    0   N/A  N/A     29714      G   /usr/lib64/firefox/firefox          2MiB |\n",
                        "|    0   N/A  N/A     29888      G   /usr/lib64/firefox/firefox          2MiB |\n",
                        "|    0   N/A  N/A     29929      G   /usr/lib64/firefox/firefox          2MiB |\n",
                        "|    0   N/A  N/A     51701      G   /usr/lib64/firefox/firefox          2MiB |\n",
                        "|    0   N/A  N/A     54074      G   ...AAAAAAAAA= --shared-files       88MiB |\n",
                        "|    0   N/A  N/A     57404      G   /usr/lib64/firefox/firefox          2MiB |\n",
                        "|    0   N/A  N/A     58340      G   /usr/lib64/firefox/firefox          2MiB |\n",
                        "+-----------------------------------------------------------------------------+\n"
                    ]
                }
            ],
            "metadata": {}
        },
        {
            "cell_type": "code",
            "execution_count": 4,
            "source": [
                "from mxnet import np, npx\n",
                "from mxnet.gluon import nn \n",
                "\n",
                "npx.set_np()\n",
                "\n",
                "npx.cpu(), npx.gpu(), npx.gpu(1)"
            ],
            "outputs": [
                {
                    "output_type": "execute_result",
                    "data": {
                        "text/plain": [
                            "(cpu(0), gpu(0), gpu(1))"
                        ]
                    },
                    "metadata": {},
                    "execution_count": 4
                }
            ],
            "metadata": {}
        },
        {
            "cell_type": "code",
            "execution_count": 6,
            "source": [
                "npx.num_gpus()"
            ],
            "outputs": [
                {
                    "output_type": "execute_result",
                    "data": {
                        "text/plain": [
                            "0"
                        ]
                    },
                    "metadata": {},
                    "execution_count": 6
                }
            ],
            "metadata": {}
        }
    ],
    "metadata": {
        "orig_nbformat": 4,
        "language_info": {
            "name": "python",
            "version": "3.8.8",
            "mimetype": "text/x-python",
            "codemirror_mode": {
                "name": "ipython",
                "version": 3
            },
            "pygments_lexer": "ipython3",
            "nbconvert_exporter": "python",
            "file_extension": ".py"
        },
        "kernelspec": {
            "name": "python3",
            "display_name": "Python 3.8.8 64-bit ('d2l': conda)"
        },
        "interpreter": {
            "hash": "98cd91940932e20c9ea8c00a3220fd4b68e5de6dbdf98534bca909080946567e"
        }
    },
    "nbformat": 4,
    "nbformat_minor": 2
}