{
 "cells": [
  {
   "cell_type": "markdown",
   "source": [
    "# Avaliando djl\n",
    "\n",
    "## [Javadoc](https://javadoc.djl.ai/)"
   ],
   "metadata": {}
  },
  {
   "cell_type": "code",
   "execution_count": 1,
   "source": [
    "%system nvidia-smi"
   ],
   "outputs": [
    {
     "output_type": "stream",
     "name": "stdout",
     "text": [
      "Sat Sep 11 18:54:19 2021       \n",
      "+-----------------------------------------------------------------------------+\n",
      "| NVIDIA-SMI 470.57.02    Driver Version: 470.57.02    CUDA Version: 11.4     |\n",
      "|-------------------------------+----------------------+----------------------+\n",
      "| GPU  Name        Persistence-M| Bus-Id        Disp.A | Volatile Uncorr. ECC |\n",
      "| Fan  Temp  Perf  Pwr:Usage/Cap|         Memory-Usage | GPU-Util  Compute M. |\n",
      "|                               |                      |               MIG M. |\n",
      "|===============================+======================+======================|\n",
      "|   0  NVIDIA GeForce ...  Off  | 00000000:06:00.0  On |                  N/A |\n",
      "|  0%   36C    P8    22W / 220W |    608MiB /  7981MiB |     25%      Default |\n",
      "|                               |                      |                  N/A |\n",
      "+-------------------------------+----------------------+----------------------+\n",
      "                                                                               \n",
      "+-----------------------------------------------------------------------------+\n",
      "| Processes:                                                                  |\n",
      "|  GPU   GI   CI        PID   Type   Process name                  GPU Memory |\n",
      "|        ID   ID                                                   Usage      |\n",
      "|=============================================================================|\n",
      "|    0   N/A  N/A      5244      G   /usr/libexec/Xorg                 287MiB |\n",
      "|    0   N/A  N/A      5433      G   /usr/bin/gnome-shell               83MiB |\n",
      "|    0   N/A  N/A      6295      G   ...AAAAAAAAA= --shared-files       92MiB |\n",
      "|    0   N/A  N/A      7548      G   /usr/lib64/firefox/firefox        127MiB |\n",
      "|    0   N/A  N/A      7917      G   /usr/lib64/firefox/firefox          2MiB |\n",
      "|    0   N/A  N/A      8105      G   /usr/lib64/firefox/firefox          2MiB |\n",
      "|    0   N/A  N/A      8509      G   /usr/lib64/firefox/firefox          2MiB |\n",
      "|    0   N/A  N/A     11390      G   /usr/lib64/firefox/firefox          2MiB |\n",
      "+-----------------------------------------------------------------------------+\n"
     ]
    }
   ],
   "metadata": {}
  },
  {
   "cell_type": "code",
   "execution_count": 2,
   "source": [
    "%system nvcc --version"
   ],
   "outputs": [
    {
     "output_type": "stream",
     "name": "stdout",
     "text": [
      "nvcc: NVIDIA (R) Cuda compiler driver\n",
      "Copyright (c) 2005-2021 NVIDIA Corporation\n",
      "Built on Wed_Jul_14_19:41:19_PDT_2021\n",
      "Cuda compilation tools, release 11.4, V11.4.100\n",
      "Build cuda_11.4.r11.4/compiler.30188945_0\n"
     ]
    }
   ],
   "metadata": {}
  },
  {
   "cell_type": "code",
   "execution_count": 3,
   "source": [
    "%maven ai.djl:api:0.12.0\n",
    "%maven org.slf4j:slf4j-api:1.7.26\n",
    "%maven org.slf4j:slf4j-simple:1.7.26\n",
    "%maven ai.djl.mxnet:mxnet-engine:0.12.0\n",
    "%maven ai.djl.mxnet:mxnet-native-auto:1.8.0"
   ],
   "outputs": [],
   "metadata": {}
  },
  {
   "cell_type": "code",
   "execution_count": 4,
   "source": [
    "import ai.djl.Device;\n",
    "import ai.djl.ndarray.NDArray;\n",
    "import ai.djl.ndarray.NDManager;\n",
    "import ai.djl.ndarray.types.Shape;\n",
    "import ai.djl.ndarray.types.DataType;"
   ],
   "outputs": [],
   "metadata": {}
  },
  {
   "cell_type": "code",
   "execution_count": 5,
   "source": [
    "Device d = Device.gpu(0);\n",
    "System.out.println(d);"
   ],
   "outputs": [
    {
     "output_type": "stream",
     "name": "stdout",
     "text": [
      "gpu(0)\n"
     ]
    }
   ],
   "metadata": {}
  },
  {
   "cell_type": "code",
   "execution_count": 6,
   "source": [
    "Device[] devices=Device.getDevices();\n",
    "for(Device device:devices){\n",
    "    System.out.println(device);\n",
    "}"
   ],
   "outputs": [
    {
     "output_type": "stream",
     "name": "stderr",
     "text": [
      "[IJava-executor-0] WARN ai.djl.mxnet.jna.LibUtils - No matching cuda flavor for linux found: cu114mkl/sm_86.\n"
     ]
    },
    {
     "output_type": "stream",
     "name": "stdout",
     "text": [
      "cpu()\n"
     ]
    }
   ],
   "metadata": {}
  },
  {
   "cell_type": "code",
   "execution_count": 7,
   "source": [
    "System.out.println(Device.getGpuCount());"
   ],
   "outputs": [
    {
     "output_type": "stream",
     "name": "stdout",
     "text": [
      "0\n"
     ]
    }
   ],
   "metadata": {}
  },
  {
   "cell_type": "code",
   "execution_count": 8,
   "source": [
    "NDManager manager = NDManager.newBaseManager();\n",
    "NDArray x = manager.create(new int[]{1, 2, 3});\n",
    "x.getDevice();\n"
   ],
   "outputs": [
    {
     "output_type": "execute_result",
     "data": {
      "text/plain": [
       "cpu()"
      ]
     },
     "metadata": {},
     "execution_count": 8
    }
   ],
   "metadata": {}
  },
  {
   "cell_type": "code",
   "execution_count": 9,
   "source": [
    "NDArray x = manager.ones(new Shape(2, 3), DataType.FLOAT32, Device.gpu());\n",
    "x"
   ],
   "outputs": [
    {
     "output_type": "error",
     "ename": "EvalException",
     "evalue": "MXNet engine call failed: MXNetError: Operator _npi_ones is not implemented for GPU.\nStack trace:\n  File \"../src/imperative/imperative.cc\", line 81\n",
     "traceback": [
      "\u001b[1m\u001b[31m---------------------------------------------------------------------------\u001b[0m",
      "\u001b[1m\u001b[31mai.djl.engine.EngineException: MXNet engine call failed: MXNetError: Operator _npi_ones is not implemented for GPU.\u001b[0m",
      "\u001b[1m\u001b[31mStack trace:\u001b[0m",
      "\u001b[1m\u001b[31m  File \"../src/imperative/imperative.cc\", line 81\u001b[0m",
      "\u001b[1m\u001b[31m\u001b[0m",
      "\u001b[1m\u001b[31m\tat ai.djl.mxnet.jna.JnaUtils.checkCall(JnaUtils.java:1930)\u001b[0m",
      "\u001b[1m\u001b[31m\tat ai.djl.mxnet.jna.JnaUtils.imperativeInvoke(JnaUtils.java:519)\u001b[0m",
      "\u001b[1m\u001b[31m\tat ai.djl.mxnet.jna.FunctionInfo.invoke(FunctionInfo.java:72)\u001b[0m",
      "\u001b[1m\u001b[31m\tat ai.djl.mxnet.engine.MxNDManager.invoke(MxNDManager.java:325)\u001b[0m",
      "\u001b[1m\u001b[31m\tat ai.djl.mxnet.engine.MxNDManager.invoke(MxNDManager.java:360)\u001b[0m",
      "\u001b[1m\u001b[31m\tat ai.djl.mxnet.engine.MxNDManager.fill(MxNDManager.java:377)\u001b[0m",
      "\u001b[1m\u001b[31m\tat ai.djl.mxnet.engine.MxNDManager.ones(MxNDManager.java:165)\u001b[0m",
      "\u001b[1m\u001b[31m\tat ai.djl.ndarray.NDManager.ones(NDManager.java:759)\u001b[0m",
      "\u001b[1m\u001b[31m\tat .(#52:1)\u001b[0m"
     ]
    }
   ],
   "metadata": {}
  },
  {
   "cell_type": "code",
   "execution_count": null,
   "source": [],
   "outputs": [],
   "metadata": {}
  }
 ],
 "metadata": {
  "kernelspec": {
   "display_name": "Java",
   "language": "java",
   "name": "java"
  },
  "language_info": {
   "name": "java",
   "version": "11.0.12+7",
   "mimetype": "text/x-java-source",
   "file_extension": ".jshell",
   "pygments_lexer": "java",
   "codemirror_mode": "java"
  }
 },
 "nbformat": 4,
 "nbformat_minor": 5
}