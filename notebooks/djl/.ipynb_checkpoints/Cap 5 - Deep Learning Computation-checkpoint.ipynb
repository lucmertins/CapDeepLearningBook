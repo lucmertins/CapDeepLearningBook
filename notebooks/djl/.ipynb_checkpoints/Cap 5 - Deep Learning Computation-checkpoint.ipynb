{
 "cells": [
  {
   "cell_type": "markdown",
   "id": "40de182b",
   "metadata": {},
   "source": [
    "# Avaliando djl\n",
    "\n",
    "## [Javadoc](https://javadoc.djl.ai/)"
   ]
  },
  {
   "cell_type": "code",
   "execution_count": 1,
   "id": "1af827be",
   "metadata": {},
   "outputs": [
    {
     "name": "stdout",
     "output_type": "stream",
     "text": [
      "Sat Jul 31 15:59:01 2021       \n",
      "+-----------------------------------------------------------------------------+\n",
      "| NVIDIA-SMI 470.57.02    Driver Version: 470.57.02    CUDA Version: 11.4     |\n",
      "|-------------------------------+----------------------+----------------------+\n",
      "| GPU  Name        Persistence-M| Bus-Id        Disp.A | Volatile Uncorr. ECC |\n",
      "| Fan  Temp  Perf  Pwr:Usage/Cap|         Memory-Usage | GPU-Util  Compute M. |\n",
      "|                               |                      |               MIG M. |\n",
      "|===============================+======================+======================|\n",
      "|   0  NVIDIA GeForce ...  On   | 00000000:06:00.0  On |                  N/A |\n",
      "| 30%   28C    P8    21W / 220W |    767MiB /  7981MiB |      1%      Default |\n",
      "|                               |                      |                  N/A |\n",
      "+-------------------------------+----------------------+----------------------+\n",
      "                                                                               \n",
      "+-----------------------------------------------------------------------------+\n",
      "| Processes:                                                                  |\n",
      "|  GPU   GI   CI        PID   Type   Process name                  GPU Memory |\n",
      "|        ID   ID                                                   Usage      |\n",
      "|=============================================================================|\n",
      "|    0   N/A  N/A      4866      G   /usr/libexec/Xorg                 303MiB |\n",
      "|    0   N/A  N/A      5011      G   /usr/bin/gnome-shell               87MiB |\n",
      "|    0   N/A  N/A      6232      G   ...AAAAAAAAA= --shared-files       22MiB |\n",
      "|    0   N/A  N/A      6637      G   /usr/lib64/firefox/firefox        228MiB |\n",
      "|    0   N/A  N/A      6827      G   /usr/lib64/firefox/firefox          2MiB |\n",
      "|    0   N/A  N/A      7058      G   /usr/lib64/firefox/firefox          2MiB |\n",
      "|    0   N/A  N/A      7315      G   ...oken=10953969769048675265        9MiB |\n",
      "|    0   N/A  N/A      8516      G   /usr/lib64/firefox/firefox          2MiB |\n",
      "|    0   N/A  N/A      8711      G   /usr/lib64/firefox/firefox          2MiB |\n",
      "|    0   N/A  N/A      8820      G   /usr/lib64/firefox/firefox          2MiB |\n",
      "|    0   N/A  N/A     14366      G   /usr/lib64/firefox/firefox          2MiB |\n",
      "|    0   N/A  N/A     16178      G   ...AAAAAAAAA= --shared-files       88MiB |\n",
      "|    0   N/A  N/A     34417      G   nvidia-settings                     2MiB |\n",
      "+-----------------------------------------------------------------------------+\n"
     ]
    }
   ],
   "source": [
    "%system nvidia-smi"
   ]
  },
  {
   "cell_type": "code",
   "execution_count": 2,
   "id": "48da2621",
   "metadata": {},
   "outputs": [],
   "source": [
    "%maven ai.djl:api:0.12.0\n",
    "%maven org.slf4j:slf4j-api:1.7.26\n",
    "%maven org.slf4j:slf4j-simple:1.7.26\n",
    "%maven ai.djl.mxnet:mxnet-engine:0.12.0\n",
    "//%maven ai.djl.mxnet:mxnet-native-auto:1.8.0\n",
    "%maven ai.djl.mxnet:mxnet-native-mkl:1.8.0"
   ]
  },
  {
   "cell_type": "code",
   "execution_count": 3,
   "id": "46550b37",
   "metadata": {},
   "outputs": [],
   "source": [
    "import ai.djl.Device;\n",
    "import ai.djl.ndarray.NDArray;\n",
    "import ai.djl.ndarray.NDManager;\n",
    "import ai.djl.ndarray.types.Shape;\n",
    "import ai.djl.ndarray.types.DataType;"
   ]
  },
  {
   "cell_type": "code",
   "execution_count": 4,
   "id": "fcd9919d-64ca-4c43-b273-305a5ef9ec6c",
   "metadata": {},
   "outputs": [
    {
     "name": "stdout",
     "output_type": "stream",
     "text": [
      "gpu(0)\n"
     ]
    }
   ],
   "source": [
    "Device d = Device.gpu(0);\n",
    "System.out.println(d);"
   ]
  },
  {
   "cell_type": "code",
   "execution_count": 5,
   "id": "77a61203",
   "metadata": {},
   "outputs": [
    {
     "name": "stdout",
     "output_type": "stream",
     "text": [
      "cpu()\n"
     ]
    }
   ],
   "source": [
    "Device[] devices=Device.getDevices();\n",
    "for(Device device:devices){\n",
    "    System.out.println(device);\n",
    "}"
   ]
  },
  {
   "cell_type": "code",
   "execution_count": 6,
   "id": "93c55093",
   "metadata": {},
   "outputs": [
    {
     "name": "stdout",
     "output_type": "stream",
     "text": [
      "0\n"
     ]
    }
   ],
   "source": [
    "System.out.println(Device.getGpuCount());"
   ]
  },
  {
   "cell_type": "code",
   "execution_count": 7,
   "id": "0ae7caa7",
   "metadata": {},
   "outputs": [
    {
     "data": {
      "text/plain": [
       "cpu()"
      ]
     },
     "execution_count": 7,
     "metadata": {},
     "output_type": "execute_result"
    }
   ],
   "source": [
    "NDManager manager = NDManager.newBaseManager();\n",
    "NDArray x = manager.create(new int[]{1, 2, 3});\n",
    "x.getDevice();\n"
   ]
  },
  {
   "cell_type": "code",
   "execution_count": 8,
   "id": "ef21d82c-7d2e-427e-a433-619955c64f26",
   "metadata": {},
   "outputs": [
    {
     "ename": "EvalException",
     "evalue": "MXNet engine call failed: MXNetError: Operator _npi_ones is not implemented for GPU.\nStack trace:\n  File \"../src/imperative/imperative.cc\", line 81\n",
     "output_type": "error",
     "traceback": [
      "\u001b[1m\u001b[31m---------------------------------------------------------------------------\u001b[0m",
      "\u001b[1m\u001b[31mai.djl.engine.EngineException: MXNet engine call failed: MXNetError: Operator _npi_ones is not implemented for GPU.\u001b[0m",
      "\u001b[1m\u001b[31mStack trace:\u001b[0m",
      "\u001b[1m\u001b[31m  File \"../src/imperative/imperative.cc\", line 81\u001b[0m",
      "\u001b[1m\u001b[31m\u001b[0m",
      "\u001b[1m\u001b[31m\tat ai.djl.mxnet.jna.JnaUtils.checkCall(JnaUtils.java:1930)\u001b[0m",
      "\u001b[1m\u001b[31m\tat ai.djl.mxnet.jna.JnaUtils.imperativeInvoke(JnaUtils.java:519)\u001b[0m",
      "\u001b[1m\u001b[31m\tat ai.djl.mxnet.jna.FunctionInfo.invoke(FunctionInfo.java:72)\u001b[0m",
      "\u001b[1m\u001b[31m\tat ai.djl.mxnet.engine.MxNDManager.invoke(MxNDManager.java:325)\u001b[0m",
      "\u001b[1m\u001b[31m\tat ai.djl.mxnet.engine.MxNDManager.invoke(MxNDManager.java:360)\u001b[0m",
      "\u001b[1m\u001b[31m\tat ai.djl.mxnet.engine.MxNDManager.fill(MxNDManager.java:377)\u001b[0m",
      "\u001b[1m\u001b[31m\tat ai.djl.mxnet.engine.MxNDManager.ones(MxNDManager.java:165)\u001b[0m",
      "\u001b[1m\u001b[31m\tat ai.djl.ndarray.NDManager.ones(NDManager.java:759)\u001b[0m",
      "\u001b[1m\u001b[31m\tat .(#51:1)\u001b[0m"
     ]
    }
   ],
   "source": [
    "NDArray x = manager.ones(new Shape(2, 3), DataType.FLOAT32, Device.gpu(0));\n",
    "x"
   ]
  },
  {
   "cell_type": "code",
   "execution_count": null,
   "id": "4622c8da-5bc0-48f7-9e49-3193cea302e8",
   "metadata": {},
   "outputs": [],
   "source": []
  }
 ],
 "metadata": {
  "kernelspec": {
   "display_name": "Java",
   "language": "java",
   "name": "java"
  },
  "language_info": {
   "codemirror_mode": "java",
   "file_extension": ".jshell",
   "mimetype": "text/x-java-source",
   "name": "Java",
   "pygments_lexer": "java",
   "version": "11.0.12+7"
  }
 },
 "nbformat": 4,
 "nbformat_minor": 5
}
