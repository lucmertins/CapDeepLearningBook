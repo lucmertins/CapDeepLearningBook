{
 "cells": [
  {
   "cell_type": "code",
   "execution_count": 5,
   "id": "3e275ba0-e100-463b-901a-e81652c71d27",
   "metadata": {},
   "outputs": [],
   "source": [
    "%mavenRepo snapshots https://oss.sonatype.org/content/repositories/snapshots/"
   ]
  },
  {
   "cell_type": "code",
   "execution_count": 19,
   "id": "76547251-82b6-40ad-8968-7fefd1d5435c",
   "metadata": {},
   "outputs": [],
   "source": [
    "%maven ai.djl:api:0.12.0"
   ]
  },
  {
   "cell_type": "code",
   "execution_count": 20,
   "id": "adccfe84-cd18-47f6-9d86-6dc1a358e651",
   "metadata": {},
   "outputs": [],
   "source": [
    "%maven org.slf4j:slf4j-api:1.7.26\n",
    "%maven org.slf4j:slf4j-simple:1.7.26\n",
    "%maven ai.djl.mxnet:mxnet-engine:0.12.0"
   ]
  },
  {
   "cell_type": "code",
   "execution_count": 21,
   "id": "ae26c08c-99e7-4622-be7a-7d91ece1663a",
   "metadata": {},
   "outputs": [],
   "source": [
    "%maven ai.djl.mxnet:mxnet-native-auto:1.8.0"
   ]
  },
  {
   "cell_type": "code",
   "execution_count": 22,
   "id": "31a74fc8-5fba-4f77-a639-c8619c2f6d9a",
   "metadata": {},
   "outputs": [],
   "source": [
    "import ai.djl.Device;\n",
    "import ai.djl.ndarray.*;\n",
    "import ai.djl.ndarray.types.*;\n",
    "import ai.djl.ndarray.index.*;"
   ]
  },
  {
   "cell_type": "code",
   "execution_count": 23,
   "id": "af51f642-4537-4fe4-9bf2-4cac7b12cf1e",
   "metadata": {},
   "outputs": [],
   "source": [
    "NDManager manager = NDManager.newBaseManager();"
   ]
  },
  {
   "cell_type": "code",
   "execution_count": 24,
   "id": "908652a9-c0d2-4e70-b0d0-366d9ca511ab",
   "metadata": {},
   "outputs": [],
   "source": [
    "var x = manager.arange(12)"
   ]
  },
  {
   "cell_type": "code",
   "execution_count": 25,
   "id": "22c8b633-1756-46ff-9bc1-e6efe9406a81",
   "metadata": {},
   "outputs": [
    {
     "data": {
      "text/plain": [
       "ND: (12) cpu() int32\n",
       "[ 0,  1,  2,  3,  4,  5,  6,  7,  8,  9, 10, 11]\n"
      ]
     },
     "execution_count": 25,
     "metadata": {},
     "output_type": "execute_result"
    }
   ],
   "source": [
    "x"
   ]
  },
  {
   "cell_type": "code",
   "execution_count": 26,
   "id": "923e2d94-cb3c-41cc-91e2-515213401a9d",
   "metadata": {},
   "outputs": [
    {
     "name": "stdout",
     "output_type": "stream",
     "text": [
      "Sat Jul 31 11:25:39 2021       \n",
      "+-----------------------------------------------------------------------------+\n",
      "| NVIDIA-SMI 465.31       Driver Version: 465.31       CUDA Version: 11.3     |\n",
      "|-------------------------------+----------------------+----------------------+\n",
      "| GPU  Name        Persistence-M| Bus-Id        Disp.A | Volatile Uncorr. ECC |\n",
      "| Fan  Temp  Perf  Pwr:Usage/Cap|         Memory-Usage | GPU-Util  Compute M. |\n",
      "|                               |                      |               MIG M. |\n",
      "|===============================+======================+======================|\n",
      "|   0  NVIDIA GeForce ...  Off  | 00000000:06:00.0  On |                  N/A |\n",
      "| 30%   23C    P8    21W / 220W |    678MiB /  7981MiB |      5%      Default |\n",
      "|                               |                      |                  N/A |\n",
      "+-------------------------------+----------------------+----------------------+\n",
      "                                                                               \n",
      "+-----------------------------------------------------------------------------+\n",
      "| Processes:                                                                  |\n",
      "|  GPU   GI   CI        PID   Type   Process name                  GPU Memory |\n",
      "|        ID   ID                                                   Usage      |\n",
      "|=============================================================================|\n",
      "|    0   N/A  N/A     11740      G   /usr/libexec/Xorg                 286MiB |\n",
      "|    0   N/A  N/A     11875      G   /usr/bin/gnome-shell               84MiB |\n",
      "|    0   N/A  N/A     12864      G   ...AAAAAAAAA= --shared-files       37MiB |\n",
      "|    0   N/A  N/A     13276      G   /usr/lib64/firefox/firefox        218MiB |\n",
      "|    0   N/A  N/A     13527      G   /usr/lib64/firefox/firefox          2MiB |\n",
      "|    0   N/A  N/A     14033      G   /usr/lib64/firefox/firefox          2MiB |\n",
      "|    0   N/A  N/A     14278      G   ...token=4013388733938965835        8MiB |\n",
      "|    0   N/A  N/A     14956      G   ...AAAAAAAAA= --shared-files       23MiB |\n",
      "|    0   N/A  N/A     17490      G   /usr/lib64/firefox/firefox          2MiB |\n",
      "|    0   N/A  N/A     18025      G   /usr/lib64/firefox/firefox          2MiB |\n",
      "|    0   N/A  N/A     19736      G   /usr/lib64/firefox/firefox          2MiB |\n",
      "+-----------------------------------------------------------------------------+\n"
     ]
    }
   ],
   "source": [
    "%system nvidia-smi"
   ]
  },
  {
   "cell_type": "code",
   "execution_count": null,
   "id": "48dce92d-8520-406f-aeb0-0c15a4058de6",
   "metadata": {},
   "outputs": [],
   "source": []
  }
 ],
 "metadata": {
  "kernelspec": {
   "display_name": "Java",
   "language": "java",
   "name": "java"
  },
  "language_info": {
   "codemirror_mode": "java",
   "file_extension": ".jshell",
   "mimetype": "text/x-java-source",
   "name": "Java",
   "pygments_lexer": "java",
   "version": "11.0.11+9"
  }
 },
 "nbformat": 4,
 "nbformat_minor": 5
}
