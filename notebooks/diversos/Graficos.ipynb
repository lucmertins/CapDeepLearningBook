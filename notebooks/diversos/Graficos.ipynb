{
 "metadata": {
  "language_info": {
   "codemirror_mode": {
    "name": "ipython",
    "version": 3
   },
   "file_extension": ".py",
   "mimetype": "text/x-python",
   "name": "python",
   "nbconvert_exporter": "python",
   "pygments_lexer": "ipython3",
   "version": "3.8.12"
  },
  "orig_nbformat": 2,
  "kernelspec": {
   "name": "python3",
   "display_name": "Python 3.8.12 64-bit"
  },
  "interpreter": {
   "hash": "df0893f56f349688326838aaeea0de204df53a132722cbd565e54b24a8fec5f6"
  }
 },
 "nbformat": 4,
 "nbformat_minor": 2,
 "cells": [
  {
   "cell_type": "code",
   "execution_count": 2,
   "source": [
    "%matplotlib inline\n",
    "from IPython import display \n",
    "from mxnet import np, npx \n",
    "from d2l import mxnet as d2l\n",
    "\n",
    "npx.set_np()\n",
    "\n",
    "def use_svg_display(): \n",
    "\t\"\"\"Use the svg format to display a plot in Jupyter.\"\"\"\n",
    "\tdisplay.set_matplotlib_formats('svg')\n",
    "\n",
    "def set_figsize(figsize=(3.5,2.5)): \n",
    "\t\"\"\"Set the figure size for matplotlib.\"\"\"\n",
    "\tuse_svg_display()\n",
    "\td2l.plt.rcParams['figure.figsize']=figsize\n",
    "\n",
    "def set_axes(axes, xlabel, ylabel, xscale, yscale):\n",
    "\t\"\"\"Set the axes for matplotlib.\"\"\"\n",
    "\taxes.set_xlabel(xlabel)\n",
    "\taxes.set_ylabel(ylabel)\n",
    "\taxes.set_xscale(xscale)\n",
    "\taxes.set_yscale(yscale)\n",
    "\taxes.grid()\n",
    "    \n",
    "def plot(X, Y=None, xlabel=None, ylabel=None, \n",
    "\t\txscale='linear',fmts=('-','m--','g-.','r:'), figsize=(3.5,2.5), axes=None):\n",
    "\t\"\"\"Plot data points.\"\"\"\n",
    "\tset_figsize(figsize)\n",
    "   \n",
    "\n",
    "\t\n",
    "\t\n",
    "\t"
   ],
   "outputs": [],
   "metadata": {}
  },
  {
   "cell_type": "code",
   "execution_count": 3,
   "source": [
    "def f(x):\n",
    "    return x**2\n",
    "f(2)"
   ],
   "outputs": [
    {
     "output_type": "execute_result",
     "data": {
      "text/plain": [
       "4"
      ]
     },
     "metadata": {},
     "execution_count": 3
    }
   ],
   "metadata": {}
  },
  {
   "cell_type": "code",
   "execution_count": 4,
   "source": [
    "xpoints = np.arange(9)-4\n",
    "ypoints = f(xpoints)\n",
    "\n",
    "\n",
    "\n",
    "d2l.plt.plot(xpoints, ypoints)\n",
    "d2l.plt.show()\n",
    "xpoints"
   ],
   "outputs": [
    {
     "output_type": "stream",
     "name": "stderr",
     "text": [
      "[15:58:31] /home/mertins/Desenvolvimento/C/Terceiros/mxnet/src/storage/storage.cc:205: Using Pooled (Naive) StorageManager for CPU\n"
     ]
    },
    {
     "output_type": "display_data",
     "data": {
      "image/png": "[encoded data removed]",
      "text/plain": [
       "<Figure size 432x288 with 1 Axes>"
      ]
     },
     "metadata": {
      "needs_background": "light"
     }
    },
    {
     "output_type": "execute_result",
     "data": {
      "text/plain": [
       "array([-4., -3., -2., -1.,  0.,  1.,  2.,  3.,  4.])"
      ]
     },
     "metadata": {},
     "execution_count": 4
    }
   ],
   "metadata": {}
  },
  {
   "cell_type": "code",
   "execution_count": 5,
   "source": [
    "xpoints,ypoints"
   ],
   "outputs": [
    {
     "output_type": "execute_result",
     "data": {
      "text/plain": [
       "(array([-4., -3., -2., -1.,  0.,  1.,  2.,  3.,  4.]),\n",
       " array([16.,  9.,  4.,  1.,  0.,  1.,  4.,  9., 16.]))"
      ]
     },
     "metadata": {},
     "execution_count": 5
    }
   ],
   "metadata": {}
  },
  {
   "cell_type": "code",
   "execution_count": 6,
   "source": [
    "def f(x):\n",
    "    return 2*x**2-4*x+5\n",
    "f(2)"
   ],
   "outputs": [
    {
     "output_type": "execute_result",
     "data": {
      "text/plain": [
       "5"
      ]
     },
     "metadata": {},
     "execution_count": 6
    }
   ],
   "metadata": {}
  },
  {
   "cell_type": "code",
   "execution_count": 7,
   "source": [
    "xpoints = np.arange(9)-4\n",
    "ypoints = f(xpoints)\n",
    "\n",
    "\n",
    "\n",
    "d2l.plt.plot(xpoints, ypoints)\n",
    "d2l.plt.show()\n",
    "xpoints"
   ],
   "outputs": [
    {
     "output_type": "display_data",
     "data": {
      "image/png": "[encoded data removed]",
      "text/plain": [
       "<Figure size 432x288 with 1 Axes>"
      ]
     },
     "metadata": {
      "needs_background": "light"
     }
    },
    {
     "output_type": "execute_result",
     "data": {
      "text/plain": [
       "array([-4., -3., -2., -1.,  0.,  1.,  2.,  3.,  4.])"
      ]
     },
     "metadata": {},
     "execution_count": 7
    }
   ],
   "metadata": {}
  }
 ]
}