{
 "cells": [
  {
   "cell_type": "markdown",
   "source": [
    "# Autograd no MXNET\n",
    "<https://mxnet.apache.org/versions/1.8.0/api/python/docs/tutorials/packages/autograd/index.html>\n"
   ],
   "metadata": {}
  },
  {
   "cell_type": "code",
   "execution_count": 1,
   "source": [
    "import mxnet as mx\n",
    "from mxnet import autograd\n",
    "from mxnet.gluon.nn import HybridSequential, Dense\n",
    "from mxnet.gluon.loss import L2Loss\n",
    "from mxnet import np, npx\n"
   ],
   "outputs": [],
   "metadata": {}
  },
  {
   "cell_type": "markdown",
   "source": [
    "### Define Network"
   ],
   "metadata": {}
  },
  {
   "cell_type": "code",
   "execution_count": 2,
   "source": [
    "net=HybridSequential()\n",
    "net.add(Dense(units=3))\n",
    "net.add(Dense(units=1))\n",
    "net.initialize()"
   ],
   "outputs": [
    {
     "output_type": "stream",
     "name": "stderr",
     "text": [
      "[11:42:46] /home/mertins/Desenvolvimento/C/Terceiros/mxnet/src/storage/storage.cc:205: Using Pooled (Naive) StorageManager for CPU\n"
     ]
    }
   ],
   "metadata": {}
  },
  {
   "cell_type": "markdown",
   "source": [
    "### Define função de perda\n",
    "\n",
    "Função de perda calcula o erro para um único exemplo de treinamento enquanto a função de custo é a média das funções de perda para todo o conjunto de treinamento. \n",
    "Isto é verdade?? Acho que muitas vezes são utilizadas de forma similar.\n",
    "\n",
    "Lost Function == Cost function \n"
   ],
   "metadata": {}
  },
  {
   "cell_type": "code",
   "execution_count": 3,
   "source": [
    "loss_fn=L2Loss()"
   ],
   "outputs": [],
   "metadata": {}
  },
  {
   "cell_type": "markdown",
   "source": [
    "### Dados ficticios (dummy data) "
   ],
   "metadata": {}
  },
  {
   "cell_type": "code",
   "execution_count": 4,
   "source": [
    "# x=mx.nd.array([[0.3,0.5]],ctx=npx.gpu(0))\n",
    "#y=mx.nd.array([[1.5]],ctx=npx.gpu(0))\n",
    "x=mx.np.array([[0.3,0.5]])\n",
    "y=mx.np.array([[1.5]])"
   ],
   "outputs": [],
   "metadata": {}
  },
  {
   "cell_type": "code",
   "execution_count": 5,
   "source": [
    "with autograd.record():\n",
    "    y_hat=net(x)\n",
    "    loss=loss_fn(y_hat,y)"
   ],
   "outputs": [],
   "metadata": {}
  },
  {
   "cell_type": "code",
   "execution_count": 6,
   "source": [
    "loss.backward()"
   ],
   "outputs": [],
   "metadata": {}
  },
  {
   "cell_type": "code",
   "execution_count": 7,
   "source": [
    "net[0].weight.grad()"
   ],
   "outputs": [
    {
     "output_type": "execute_result",
     "data": {
      "text/plain": [
       "array([[-0.0028251 , -0.00470849],\n",
       "       [-0.02185716, -0.0364286 ],\n",
       "       [ 0.00480542,  0.00800903]])"
      ]
     },
     "metadata": {},
     "execution_count": 7
    }
   ],
   "metadata": {}
  }
 ],
 "metadata": {
  "orig_nbformat": 4,
  "language_info": {
   "name": "python",
   "version": "3.8.12",
   "mimetype": "text/x-python",
   "codemirror_mode": {
    "name": "ipython",
    "version": 3
   },
   "pygments_lexer": "ipython3",
   "nbconvert_exporter": "python",
   "file_extension": ".py"
  },
  "kernelspec": {
   "name": "python3",
   "display_name": "Python 3.8.12 64-bit"
  },
  "interpreter": {
   "hash": "5b3ded1ccb95c1d9bd405e7b823d9e85424cde40fbb5985eb47e999ef50e15b4"
  }
 },
 "nbformat": 4,
 "nbformat_minor": 2
}