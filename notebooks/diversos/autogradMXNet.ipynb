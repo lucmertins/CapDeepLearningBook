{
 "cells": [
  {
   "cell_type": "markdown",
   "source": [
    "# Autograd no MXNET\n",
    "<https://mxnet.apache.org/versions/1.8.0/api/python/docs/tutorials/packages/autograd/index.html>\n"
   ],
   "metadata": {}
  },
  {
   "cell_type": "code",
   "execution_count": 1,
   "source": [
    "import mxnet as mx\n",
    "from mxnet import autograd\n",
    "from mxnet.gluon.nn import HybridSequential, Dense\n",
    "from mxnet.gluon.loss import L2Loss\n",
    "from mxnet import np, npx\n",
    "from d2l import mxnet as d2l\n",
    "\n"
   ],
   "outputs": [],
   "metadata": {}
  },
  {
   "cell_type": "markdown",
   "source": [
    "## Define Network\n",
    "\n",
    "\n",
    "### HybridBlcks\n",
    "<https://gluon.mxnet.io/chapter07_distributed-learning/hybridize.html>"
   ],
   "metadata": {}
  },
  {
   "cell_type": "code",
   "execution_count": 2,
   "source": [
    "net=HybridSequential()\n",
    "net.add(Dense(units=3))\n",
    "net.add(Dense(units=1))\n",
    "net.initialize()\n",
    "net.summary"
   ],
   "outputs": [
    {
     "output_type": "stream",
     "name": "stderr",
     "text": [
      "[16:25:30] /home/mertins/Desenvolvimento/C/Terceiros/mxnet/src/storage/storage.cc:205: Using Pooled (Naive) StorageManager for CPU\n"
     ]
    },
    {
     "output_type": "execute_result",
     "data": {
      "text/plain": [
       "<bound method Block.summary of HybridSequential(\n",
       "  (0): Dense(-1 -> 3, linear)\n",
       "  (1): Dense(-1 -> 1, linear)\n",
       ")>"
      ]
     },
     "metadata": {},
     "execution_count": 2
    }
   ],
   "metadata": {}
  },
  {
   "cell_type": "markdown",
   "source": [
    "### Define função de perda\n",
    "\n",
    "Função de perda calcula o erro para um único exemplo de treinamento enquanto a função de custo é a média das funções de perda para todo o conjunto de treinamento. \n",
    "Isto é verdade?? Acho que muitas vezes são utilizadas de forma similar.\n",
    "\n",
    "Lost Function == Cost function \n"
   ],
   "metadata": {}
  },
  {
   "cell_type": "code",
   "execution_count": 3,
   "source": [
    "loss_fn=L2Loss()"
   ],
   "outputs": [],
   "metadata": {}
  },
  {
   "cell_type": "markdown",
   "source": [
    "### Dados ficticios (dummy data) "
   ],
   "metadata": {}
  },
  {
   "cell_type": "code",
   "execution_count": 4,
   "source": [
    "# x=mx.np.array([[0.3,0.5]],ctx=npx.gpu(0))\n",
    "#y=mx.np.array([[1.5]],ctx=npx.gpu(0))\n",
    "x=mx.np.array([[0.3,0.5]])\n",
    "y=mx.np.array([[1.5]])"
   ],
   "outputs": [],
   "metadata": {}
  },
  {
   "cell_type": "code",
   "execution_count": 5,
   "source": [
    "x,y"
   ],
   "outputs": [
    {
     "output_type": "execute_result",
     "data": {
      "text/plain": [
       "(array([[0.3, 0.5]]), array([[1.5]]))"
      ]
     },
     "metadata": {},
     "execution_count": 5
    }
   ],
   "metadata": {}
  },
  {
   "cell_type": "code",
   "execution_count": 6,
   "source": [
    "with autograd.record():\n",
    "    y_hat=net(x)\n",
    "    loss=loss_fn(y_hat,y)\n",
    "loss.backward()"
   ],
   "outputs": [],
   "metadata": {}
  },
  {
   "cell_type": "code",
   "execution_count": 7,
   "source": [
    "print(net[0].weight.grad(),net[1].weight.grad(),net[0].bias.data(),net[1].bias.data())"
   ],
   "outputs": [
    {
     "output_type": "stream",
     "name": "stdout",
     "text": [
      "[[-0.0028251  -0.00470849]\n",
      " [-0.02185716 -0.0364286 ]\n",
      " [ 0.00480542  0.00800903]] [[-0.01281239 -0.04966008 -0.04401871]] [0. 0. 0.] [0.]\n"
     ]
    }
   ],
   "metadata": {}
  },
  {
   "cell_type": "code",
   "execution_count": 8,
   "source": [
    "net(mx.np.array([[0.3,0.5]]))"
   ],
   "outputs": [
    {
     "output_type": "execute_result",
     "data": {
      "text/plain": [
       "array([[0.00135072]])"
      ]
     },
     "metadata": {},
     "execution_count": 8
    }
   ],
   "metadata": {}
  },
  {
   "cell_type": "code",
   "execution_count": 9,
   "source": [
    "net[1].bias.data()"
   ],
   "outputs": [
    {
     "output_type": "execute_result",
     "data": {
      "text/plain": [
       "array([0.])"
      ]
     },
     "metadata": {},
     "execution_count": 9
    }
   ],
   "metadata": {}
  },
  {
   "cell_type": "markdown",
   "source": [
    "## Switching between training vs inference modes"
   ],
   "metadata": {}
  },
  {
   "cell_type": "code",
   "execution_count": 10,
   "source": [
    "dropout=mx.gluon.nn.Dropout(rate=0.5)\n",
    "data=mx.np.ones(shape=(3,3))\n",
    "\n",
    "output=dropout(data)\n",
    "is_training=autograd.is_training()\n",
    "print('is_training',is_training,output)\n"
   ],
   "outputs": [
    {
     "output_type": "stream",
     "name": "stdout",
     "text": [
      "is_training False [[1. 1. 1.]\n",
      " [1. 1. 1.]\n",
      " [1. 1. 1.]]\n"
     ]
    }
   ],
   "metadata": {}
  },
  {
   "cell_type": "code",
   "execution_count": 11,
   "source": [
    "with autograd.record():\n",
    "    output=dropout(data)\n",
    "    is_training=autograd.is_training()\n",
    "print('is_training',is_training,output)"
   ],
   "outputs": [
    {
     "output_type": "stream",
     "name": "stdout",
     "text": [
      "is_training True [[0. 0. 0.]\n",
      " [0. 0. 0.]\n",
      " [0. 0. 2.]]\n"
     ]
    }
   ],
   "metadata": {}
  },
  {
   "cell_type": "code",
   "execution_count": 12,
   "source": [
    "dropout.summary"
   ],
   "outputs": [
    {
     "output_type": "execute_result",
     "data": {
      "text/plain": [
       "<bound method Block.summary of Dropout(p = 0.5, axes=())>"
      ]
     },
     "metadata": {},
     "execution_count": 12
    }
   ],
   "metadata": {}
  },
  {
   "cell_type": "markdown",
   "source": [
    "## Advanced: Calculation non-parameter gradients"
   ],
   "metadata": {}
  },
  {
   "cell_type": "code",
   "execution_count": 13,
   "source": [
    "x=mx.np.array([1,2,3])\n",
    "x.attach_grad()\n",
    "with autograd.record():\n",
    "    y=2*x**2\n",
    "y.backward()\n",
    "print(x.grad)"
   ],
   "outputs": [
    {
     "output_type": "stream",
     "name": "stdout",
     "text": [
      "[ 4.  8. 12.]\n"
     ]
    }
   ],
   "metadata": {}
  },
  {
   "cell_type": "markdown",
   "source": [
    "## Advanded: Using Python control flow"
   ],
   "metadata": {}
  },
  {
   "cell_type": "code",
   "execution_count": 14,
   "source": [
    "import math\n",
    "\n",
    "def f(x):\n",
    "    y=x\n",
    "    if x<0.75:\n",
    "        num_loops=math.floor(1/(1-x.asnumpy()))\n",
    "        for i in range(num_loops):\n",
    "            y=y*x\n",
    "    else:\n",
    "        y=y*0\n",
    "    return y\n",
    "       "
   ],
   "outputs": [],
   "metadata": {}
  },
  {
   "cell_type": "code",
   "execution_count": 15,
   "source": [
    "X=mx.np.arange(0.0,1.0,step=0.01)\n",
    "\n",
    "xpoints = X\n",
    "ypoints = [f(x) for x in X] \n",
    "\n",
    "d2l.plt.plot(xpoints,ypoints,label='x')\n",
    "d2l.plt.ylabel('f(x)')\n",
    "d2l.plt.xlabel('x')\n",
    "\n",
    "d2l.plt.show()\n",
    "\n"
   ],
   "outputs": [
    {
     "output_type": "display_data",
     "data": {
      "image/png": "[encoded data removed]",
      "text/plain": [
       "<Figure size 432x288 with 1 Axes>"
      ]
     },
     "metadata": {
      "needs_background": "light"
     }
    }
   ],
   "metadata": {}
  },
  {
   "cell_type": "code",
   "execution_count": 16,
   "source": [
    "def get_grad(f,x):\n",
    "    x.attach_grad()\n",
    "    with autograd.record():\n",
    "        y=f(x)\n",
    "    y.backward()\n",
    "    return x.grad"
   ],
   "outputs": [],
   "metadata": {}
  },
  {
   "cell_type": "code",
   "execution_count": 19,
   "source": [
    "xs=mx.np.arange(0.0,1.0,step=0.1)\n",
    "grads=[get_grad(f,x).asnumpy() for x in xs]\n",
    "# grads = [get_grad(f, x).asscalar() for x in xs]\n",
    "print(grads)"
   ],
   "outputs": [
    {
     "output_type": "stream",
     "name": "stdout",
     "text": [
      "[array(0., dtype=float32), array(0.2, dtype=float32), array(0.4, dtype=float32), array(0.6, dtype=float32), array(0.8, dtype=float32), array(0.75, dtype=float32), array(1.08, dtype=float32), array(1.372, dtype=float32), array(0., dtype=float32), array(0., dtype=float32)]\n"
     ]
    }
   ],
   "metadata": {}
  },
  {
   "cell_type": "code",
   "execution_count": 22,
   "source": [
    "X=mx.np.arange(0.0,1.0,step=0.01)\n",
    "xpoints = X\n",
    "ypoints =[get_grad(f,x) for x in X]\n",
    "\n",
    "d2l.plt.plot(xpoints,ypoints,label='x')\n",
    "d2l.plt.ylabel('Gradient of f(x)')\n",
    "d2l.plt.xlabel('x')\n",
    "\n",
    "d2l.plt.show()\n"
   ],
   "outputs": [
    {
     "output_type": "display_data",
     "data": {
      "image/png": "[encoded data removed]",
      "text/plain": [
       "<Figure size 432x288 with 1 Axes>"
      ]
     },
     "metadata": {
      "needs_background": "light"
     }
    }
   ],
   "metadata": {}
  },
  {
   "cell_type": "code",
   "execution_count": 32,
   "source": [
    "x=mx.nd.array([2,])\n",
    "x.attach_grad()\n",
    "with autograd.record():\n",
    "    y=x**3\n",
    "y_np=y.asnumpy()\n",
    "z_np=y_np**2\n",
    "dzdy_np=2*y_np\n",
    "\n",
    "dzdy=mx.nd.array(dzdy_np)\n",
    "y.backward(dzdy)\n",
    "print(x.grad)\n"
   ],
   "outputs": [
    {
     "output_type": "stream",
     "name": "stdout",
     "text": [
      "\n",
      "[192.]\n",
      "<NDArray 1 @cpu(0)>\n"
     ]
    }
   ],
   "metadata": {}
  }
 ],
 "metadata": {
  "orig_nbformat": 4,
  "language_info": {
   "name": "python",
   "version": "3.8.12",
   "mimetype": "text/x-python",
   "codemirror_mode": {
    "name": "ipython",
    "version": 3
   },
   "pygments_lexer": "ipython3",
   "nbconvert_exporter": "python",
   "file_extension": ".py"
  },
  "kernelspec": {
   "name": "python3",
   "display_name": "Python 3.8.12 64-bit"
  },
  "interpreter": {
   "hash": "5b3ded1ccb95c1d9bd405e7b823d9e85424cde40fbb5985eb47e999ef50e15b4"
  }
 },
 "nbformat": 4,
 "nbformat_minor": 2
}