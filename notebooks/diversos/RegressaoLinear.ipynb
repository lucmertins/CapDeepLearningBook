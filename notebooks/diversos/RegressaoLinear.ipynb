{
 "cells": [
  {
   "cell_type": "markdown",
   "metadata": {},
   "source": [
    "## Adaptação do [vídeo](https://www.youtube.com/watch?v=J9HuFIYcFWU&t=3134s)"
   ]
  },
  {
   "cell_type": "code",
   "execution_count": 11,
   "metadata": {},
   "outputs": [],
   "source": [
    "#!pip3 install wget\n",
    "#!wget https://raw.githubusercontent.com/diogocortiz/Crash-Course-IA/master/RegressaoLinear/FuelConsumptionCo2.csv\n",
    "#!mv FuelConsumptionCo2.csv ../../data/processed/diversos"
   ]
  },
  {
   "cell_type": "code",
   "execution_count": 12,
   "metadata": {},
   "outputs": [],
   "source": [
    "import pandas as pd\n",
    "\n",
    "pd.set_option('display.max_rows', 500)\n",
    "pd.set_option('display.max_columns', 500)\n",
    "pd.set_option('display.width', 1000)"
   ]
  },
  {
   "cell_type": "code",
   "execution_count": 13,
   "metadata": {},
   "outputs": [
    {
     "name": "stdout",
     "output_type": "stream",
     "text": [
      "   MODELYEAR   MAKE       MODEL VEHICLECLASS  ENGINESIZE  CYLINDERS TRANSMISSION FUELTYPE  FUELCONSUMPTION_CITY  FUELCONSUMPTION_HWY  FUELCONSUMPTION_COMB  FUELCONSUMPTION_COMB_MPG  CO2EMISSIONS\n",
      "0       2014  ACURA         ILX      COMPACT         2.0          4          AS5        Z                   9.9                  6.7                   8.5                        33           196\n",
      "1       2014  ACURA         ILX      COMPACT         2.4          4           M6        Z                  11.2                  7.7                   9.6                        29           221\n",
      "2       2014  ACURA  ILX HYBRID      COMPACT         1.5          4          AV7        Z                   6.0                  5.8                   5.9                        48           136\n",
      "3       2014  ACURA     MDX 4WD  SUV - SMALL         3.5          6          AS6        Z                  12.7                  9.1                  11.1                        25           255\n",
      "4       2014  ACURA     RDX AWD  SUV - SMALL         3.5          6          AS6        Z                  12.1                  8.7                  10.6                        27           244\n"
     ]
    }
   ],
   "source": [
    "# Cria um dataset chamado 'df' que receberá os dados do csv\n",
    "df = pd.read_csv(\"../../data/processed/diversos/FuelConsumptionCo2.csv\")\n",
    "\n",
    "#EXIBE A ESTRUTURA DO DATAFRAME\n",
    "print(df.head())\n"
   ]
  },
  {
   "cell_type": "code",
   "execution_count": 14,
   "metadata": {},
   "outputs": [
    {
     "name": "stdout",
     "output_type": "stream",
     "text": [
      "       MODELYEAR   ENGINESIZE    CYLINDERS  FUELCONSUMPTION_CITY  FUELCONSUMPTION_HWY  FUELCONSUMPTION_COMB  FUELCONSUMPTION_COMB_MPG  CO2EMISSIONS\n",
      "count     1067.0  1067.000000  1067.000000           1067.000000          1067.000000           1067.000000               1067.000000   1067.000000\n",
      "mean      2014.0     3.346298     5.794752             13.296532             9.474602             11.580881                 26.441425    256.228679\n",
      "std          0.0     1.415895     1.797447              4.101253             2.794510              3.485595                  7.468702     63.372304\n",
      "min       2014.0     1.000000     3.000000              4.600000             4.900000              4.700000                 11.000000    108.000000\n",
      "25%       2014.0     2.000000     4.000000             10.250000             7.500000              9.000000                 21.000000    207.000000\n",
      "50%       2014.0     3.400000     6.000000             12.600000             8.800000             10.900000                 26.000000    251.000000\n",
      "75%       2014.0     4.300000     8.000000             15.550000            10.850000             13.350000                 31.000000    294.000000\n",
      "max       2014.0     8.400000    12.000000             30.200000            20.500000             25.800000                 60.000000    488.000000\n"
     ]
    }
   ],
   "source": [
    "print(df.describe())"
   ]
  },
  {
   "cell_type": "code",
   "execution_count": 17,
   "metadata": {},
   "outputs": [
    {
     "name": "stdout",
     "output_type": "stream",
     "text": [
      "   ENGINESIZE\n",
      "0         2.0\n",
      "1         2.4\n",
      "2         1.5\n",
      "3         3.5\n",
      "4         3.5\n"
     ]
    }
   ],
   "source": [
    "motores= df[['ENGINESIZE']]\n",
    "co2=df[['CO2EMISSIONS']]\n",
    "print(motores.head())"
   ]
  }
 ],
 "metadata": {
  "interpreter": {
   "hash": "9159b5f2d8be28e5014fc8e4201f93837a4e469834e5beb3c7ecae5f82aca3fb"
  },
  "kernelspec": {
   "display_name": "Python 3.8.8 64-bit ('d2l': conda)",
   "language": "python",
   "name": "python3"
  },
  "language_info": {
   "codemirror_mode": {
    "name": "ipython",
    "version": 3
   },
   "file_extension": ".py",
   "mimetype": "text/x-python",
   "name": "python",
   "nbconvert_exporter": "python",
   "pygments_lexer": "ipython3",
   "version": "3.8.12"
  },
  "orig_nbformat": 4
 },
 "nbformat": 4,
 "nbformat_minor": 2
}
