{
 "cells": [
  {
   "cell_type": "markdown",
   "metadata": {},
   "source": [
    "## Avaliando [Crash Course](https://mxnet.apache.org/versions/master/api/python/docs/tutorials/getting-started/crash-course/5-datasets.html)"
   ]
  },
  {
   "cell_type": "code",
   "execution_count": 1,
   "metadata": {},
   "outputs": [],
   "source": [
    "import mxnet as mx\n",
    "import os\n",
    "import time\n",
    "import tarfile\n"
   ]
  },
  {
   "cell_type": "code",
   "execution_count": 2,
   "metadata": {},
   "outputs": [],
   "source": [
    "mx.np.random.seed(42)\n",
    "X=mx.np.random.uniform(size=(10,3))\n",
    "y=mx.np.random.uniform(size=(10,1))\n",
    "dataset=mx.gluon.data.dataset.ArrayDataset(X,y)"
   ]
  },
  {
   "cell_type": "code",
   "execution_count": 3,
   "metadata": {},
   "outputs": [
    {
     "name": "stdout",
     "output_type": "stream",
     "text": [
      "(array([0.74707687, 0.37641123, 0.46362457]), array([0.35440788]))\n"
     ]
    },
    {
     "name": "stderr",
     "output_type": "stream",
     "text": [
      "[11:49:07] /home/mertins/Desenvolvimento/C/Terceiros/mxnet/src/storage/storage.cc:202: Using Pooled (Naive) StorageManager for CPU\n"
     ]
    }
   ],
   "source": [
    "sample_idx=4\n",
    "sample=dataset[sample_idx]\n",
    "\n",
    "assert len(sample)==2\n",
    "assert sample[0].shape==(3,)\n",
    "assert sample[1].shape==(1,)\n",
    "print(sample)"
   ]
  },
  {
   "cell_type": "code",
   "execution_count": 4,
   "metadata": {},
   "outputs": [
    {
     "name": "stdout",
     "output_type": "stream",
     "text": [
      "X_batch has shape (5, 3), and y_batch has shape(5, 1)\n",
      "X_batch has shape (5, 3), and y_batch has shape(5, 1)\n"
     ]
    }
   ],
   "source": [
    "from multiprocessing import cpu_count\n",
    "\n",
    "CPU_COUNT=cpu_count()\n",
    "\n",
    "data_loader=mx.gluon.data.DataLoader(dataset,batch_size=5,num_workers=CPU_COUNT)\n",
    "\n",
    "for X_batch,y_batch in data_loader:\n",
    "    print(\"X_batch has shape {}, and y_batch has shape{}\".format(X_batch.shape,y_batch.shape))"
   ]
  },
  {
   "cell_type": "code",
   "execution_count": 6,
   "metadata": {},
   "outputs": [],
   "source": [
    "def transform(data,label):\n",
    "    data=data.astype('float')/255\n",
    "    return data,label\n",
    "\n",
    "train_dataset=mx.gluon.data.vision.datasets.FashionMNIST(train=True).transform(transform)\n",
    "valid_dataset=mx.gluon.data.vision.datasets.FashionMNIST(train=False).transform(transform)"
   ]
  },
  {
   "cell_type": "code",
   "execution_count": 16,
   "metadata": {},
   "outputs": [
    {
     "name": "stdout",
     "output_type": "stream",
     "text": [
      "Data type: float64\n",
      "Label; 8\n",
      "Label description: Bag\n"
     ]
    },
    {
     "data": {
      "text/plain": [
       "<matplotlib.image.AxesImage at 0x7fcc80151c60>"
      ]
     },
     "execution_count": 16,
     "metadata": {},
     "output_type": "execute_result"
    },
    {
     "data": {
      "image/png": "[encoded data removed]",
      "text/plain": [
       "<Figure size 432x288 with 1 Axes>"
      ]
     },
     "metadata": {
      "needs_background": "light"
     },
     "output_type": "display_data"
    }
   ],
   "source": [
    "from matplotlib.pylab import imshow\n",
    "\n",
    "sample_idx = 234\n",
    "sample=train_dataset[sample_idx]\n",
    "data=sample[0]\n",
    "label=sample[1]\n",
    "label_desc={0:'T-shirt/top',1:'Trouser', 2:'Pullover', 3:'Dress', 4:'Coat', 5:'Sandal', 6:'Shirt', 7:'Sneaker', 8:'Bag', 9:'Ankle boot'}\n",
    "\n",
    "print(\"Data type: {}\".format(data.dtype))\n",
    "print(\"Label; {}\".format(label))\n",
    "print(\"Label description: {}\".format(label_desc[label.item()]))\n",
    "imshow(data[:,:,0].asnumpy(),cmap='gray')"
   ]
  },
  {
   "cell_type": "markdown",
   "metadata": {},
   "source": []
  }
 ],
 "metadata": {
  "interpreter": {
   "hash": "e7370f93d1d0cde622a1f8e1c04877d8463912d04d973331ad4851f04de6915a"
  },
  "kernelspec": {
   "display_name": "Python 3.10.1 64-bit",
   "language": "python",
   "name": "python3"
  },
  "language_info": {
   "codemirror_mode": {
    "name": "ipython",
    "version": 3
   },
   "file_extension": ".py",
   "mimetype": "text/x-python",
   "name": "python",
   "nbconvert_exporter": "python",
   "pygments_lexer": "ipython3",
   "version": "3.10.1"
  },
  "orig_nbformat": 4
 },
 "nbformat": 4,
 "nbformat_minor": 2
}
