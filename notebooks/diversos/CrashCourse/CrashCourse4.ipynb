{
 "cells": [
  {
   "cell_type": "markdown",
   "metadata": {},
   "source": [
    "## Avaliando [Crash Course](https://mxnet.apache.org/versions/master/api/python/docs/tutorials/getting-started/crash-course/4-components.html)\n"
   ]
  },
  {
   "cell_type": "code",
   "execution_count": 1,
   "metadata": {},
   "outputs": [],
   "source": [
    "from mxnet import np,npx,gluon\n",
    "import mxnet as mx\n",
    "from mxnet.gluon import nn\n",
    "npx.set_np()\n",
    "\n",
    "device=mx.cpu()"
   ]
  },
  {
   "cell_type": "code",
   "execution_count": 2,
   "metadata": {},
   "outputs": [
    {
     "data": {
      "text/plain": [
       "Sequential(\n",
       "  (0): Dense(3 -> 5, Activation(relu))\n",
       "  (1): Dense(-1 -> 25, Activation(relu))\n",
       "  (2): Dense(-1 -> 2, linear)\n",
       ")"
      ]
     },
     "execution_count": 2,
     "metadata": {},
     "output_type": "execute_result"
    }
   ],
   "source": [
    "net=nn.Sequential()\n",
    "\n",
    "net.add(nn.Dense(5,in_units=3,activation='relu'),\n",
    "        nn.Dense(25,activation='relu'),\n",
    "        nn.Dense(2)\n",
    ")\n",
    "\n",
    "net"
   ]
  },
  {
   "cell_type": "code",
   "execution_count": 3,
   "metadata": {},
   "outputs": [
    {
     "name": "stdout",
     "output_type": "stream",
     "text": [
      "0.weight Parameter (shape=(5, 3), dtype=float32)\n",
      "0.bias Parameter (shape=(5,), dtype=float32)\n",
      "1.weight Parameter (shape=(25, -1), dtype=float32)\n",
      "1.bias Parameter (shape=(25,), dtype=float32)\n",
      "2.weight Parameter (shape=(2, -1), dtype=float32)\n",
      "2.bias Parameter (shape=(2,), dtype=float32)\n"
     ]
    },
    {
     "name": "stderr",
     "output_type": "stream",
     "text": [
      "[11:00:05] /home/mertins/Desenvolvimento/C/Terceiros/mxnet/src/storage/storage.cc:202: Using Pooled (Naive) StorageManager for CPU\n"
     ]
    }
   ],
   "source": [
    "net.initialize()\n",
    "params=net.collect_params()\n",
    "\n",
    "for key,value in params.items():\n",
    "    print(key,value)"
   ]
  },
  {
   "cell_type": "code",
   "execution_count": 4,
   "metadata": {},
   "outputs": [
    {
     "name": "stdout",
     "output_type": "stream",
     "text": [
      "0.weight Parameter (shape=(5, 3), dtype=float32)\n",
      "0.bias Parameter (shape=(5,), dtype=float32)\n",
      "1.weight Parameter (shape=(25, 5), dtype=float32)\n",
      "1.bias Parameter (shape=(25,), dtype=float32)\n",
      "2.weight Parameter (shape=(2, 25), dtype=float32)\n",
      "2.bias Parameter (shape=(2,), dtype=float32)\n"
     ]
    }
   ],
   "source": [
    "x=np.random.uniform(-1,1,(10,3))\n",
    "net(x) #Forward computation\n",
    "\n",
    "params=net.collect_params()\n",
    "for key,value in params.items():\n",
    "    print(key,value)"
   ]
  },
  {
   "cell_type": "markdown",
   "metadata": {},
   "source": [
    "#### pesos inicializados na primeira camada"
   ]
  },
  {
   "cell_type": "code",
   "execution_count": 5,
   "metadata": {},
   "outputs": [
    {
     "name": "stdout",
     "output_type": "stream",
     "text": [
      "[0.0068339  0.01299825 0.0301265 ]\n",
      "[0.04819721 0.01438687 0.05011239]\n",
      "[ 0.00628365  0.04861524 -0.01068833]\n",
      "[ 0.01729892  0.02042518 -0.01618656]\n",
      "[-0.00873779 -0.02834515  0.05484822]\n"
     ]
    }
   ],
   "source": [
    "print(net[0].weight.data()[0])\n",
    "print(net[0].weight.data()[1])\n",
    "print(net[0].weight.data()[2])\n",
    "print(net[0].weight.data()[3])\n",
    "print(net[0].weight.data()[4])"
   ]
  },
  {
   "cell_type": "markdown",
   "metadata": {},
   "source": [
    "### Build-in Initialization"
   ]
  },
  {
   "cell_type": "code",
   "execution_count": 6,
   "metadata": {},
   "outputs": [
    {
     "name": "stdout",
     "output_type": "stream",
     "text": [
      "[3. 3. 3.]\n",
      "[3. 3. 3.]\n",
      "[3. 3. 3.]\n",
      "[3. 3. 3.]\n",
      "[3. 3. 3.]\n"
     ]
    }
   ],
   "source": [
    "from mxnet import init\n",
    "\n",
    "net.initialize(init=init.Constant(3),device=device,force_reinit=True)\n",
    "print(net[0].weight.data()[0])\n",
    "print(net[0].weight.data()[1])\n",
    "print(net[0].weight.data()[2])\n",
    "print(net[0].weight.data()[3])\n",
    "print(net[0].weight.data()[4])"
   ]
  },
  {
   "cell_type": "code",
   "execution_count": 8,
   "metadata": {},
   "outputs": [
    {
     "name": "stdout",
     "output_type": "stream",
     "text": [
      "[-0.16771524 -0.22150318 -0.55250967]\n",
      "[ 0.3559865  -0.09566084 -0.08080624]\n",
      "[ 0.32348275 -0.10572262  0.29589763]\n",
      "[-0.25455818 -0.29521954 -0.03771491]\n",
      "[-0.16730648 -0.11865775  0.25754797]\n"
     ]
    }
   ],
   "source": [
    "net.initialize(init=init.Normal(sigma=0.2),device=device,force_reinit=True)\n",
    "print(net[0].weight.data()[0])\n",
    "print(net[0].weight.data()[1])\n",
    "print(net[0].weight.data()[2])\n",
    "print(net[0].weight.data()[3])\n",
    "print(net[0].weight.data()[4])"
   ]
  },
  {
   "cell_type": "code",
   "execution_count": null,
   "metadata": {},
   "outputs": [],
   "source": []
  }
 ],
 "metadata": {
  "interpreter": {
   "hash": "e7370f93d1d0cde622a1f8e1c04877d8463912d04d973331ad4851f04de6915a"
  },
  "kernelspec": {
   "display_name": "Python 3.10.0 64-bit",
   "language": "python",
   "name": "python3"
  },
  "language_info": {
   "codemirror_mode": {
    "name": "ipython",
    "version": 3
   },
   "file_extension": ".py",
   "mimetype": "text/x-python",
   "name": "python",
   "nbconvert_exporter": "python",
   "pygments_lexer": "ipython3",
   "version": "3.10.0"
  },
  "orig_nbformat": 4
 },
 "nbformat": 4,
 "nbformat_minor": 2
}
