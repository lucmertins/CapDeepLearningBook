{
 "cells": [
  {
   "cell_type": "markdown",
   "metadata": {},
   "source": [
    "## Avaliando [Crash Course](https://mxnet.apache.org/versions/master/api/python/docs/tutorials/getting-started/crash-course/4-components.html)\n"
   ]
  },
  {
   "cell_type": "code",
   "execution_count": 1,
   "metadata": {},
   "outputs": [],
   "source": [
    "from mxnet import np,npx,gluon\n",
    "import mxnet as mx\n",
    "from mxnet.gluon import nn, loss as gloss\n",
    "from mxnet.gluon.metric import Accuracy\n",
    "\n",
    "npx.set_np()\n",
    "\n",
    "device=mx.cpu()"
   ]
  },
  {
   "cell_type": "code",
   "execution_count": 2,
   "metadata": {},
   "outputs": [
    {
     "data": {
      "text/plain": [
       "Sequential(\n",
       "  (0): Dense(3 -> 5, Activation(relu))\n",
       "  (1): Dense(-1 -> 25, Activation(relu))\n",
       "  (2): Dense(-1 -> 2, linear)\n",
       ")"
      ]
     },
     "execution_count": 2,
     "metadata": {},
     "output_type": "execute_result"
    }
   ],
   "source": [
    "net=nn.Sequential()\n",
    "\n",
    "net.add(nn.Dense(5,in_units=3,activation='relu'),\n",
    "        nn.Dense(25,activation='relu'),\n",
    "        nn.Dense(2)\n",
    ")\n",
    "\n",
    "net"
   ]
  },
  {
   "cell_type": "code",
   "execution_count": 3,
   "metadata": {},
   "outputs": [
    {
     "name": "stdout",
     "output_type": "stream",
     "text": [
      "0.weight Parameter (shape=(5, 3), dtype=float32)\n",
      "0.bias Parameter (shape=(5,), dtype=float32)\n",
      "1.weight Parameter (shape=(25, -1), dtype=float32)\n",
      "1.bias Parameter (shape=(25,), dtype=float32)\n",
      "2.weight Parameter (shape=(2, -1), dtype=float32)\n",
      "2.bias Parameter (shape=(2,), dtype=float32)\n"
     ]
    },
    {
     "name": "stderr",
     "output_type": "stream",
     "text": [
      "[21:35:17] /home/mertins/Desenvolvimento/C/Terceiros/mxnet/src/storage/storage.cc:202: Using Pooled (Naive) StorageManager for CPU\n"
     ]
    }
   ],
   "source": [
    "net.initialize()\n",
    "params=net.collect_params()\n",
    "\n",
    "for key,value in params.items():\n",
    "    print(key,value)"
   ]
  },
  {
   "cell_type": "code",
   "execution_count": 4,
   "metadata": {},
   "outputs": [
    {
     "name": "stdout",
     "output_type": "stream",
     "text": [
      "0.weight Parameter (shape=(5, 3), dtype=float32)\n",
      "0.bias Parameter (shape=(5,), dtype=float32)\n",
      "1.weight Parameter (shape=(25, 5), dtype=float32)\n",
      "1.bias Parameter (shape=(25,), dtype=float32)\n",
      "2.weight Parameter (shape=(2, 25), dtype=float32)\n",
      "2.bias Parameter (shape=(2,), dtype=float32)\n"
     ]
    }
   ],
   "source": [
    "x=np.random.uniform(-1,1,(10,3))\n",
    "net(x) #Forward computation\n",
    "\n",
    "params=net.collect_params()\n",
    "for key,value in params.items():\n",
    "    print(key,value)"
   ]
  },
  {
   "cell_type": "markdown",
   "metadata": {},
   "source": [
    "#### pesos inicializados na primeira camada"
   ]
  },
  {
   "cell_type": "code",
   "execution_count": 5,
   "metadata": {},
   "outputs": [
    {
     "name": "stdout",
     "output_type": "stream",
     "text": [
      "[0.0068339  0.01299825 0.0301265 ]\n",
      "[0.04819721 0.01438687 0.05011239]\n",
      "[ 0.00628365  0.04861524 -0.01068833]\n",
      "[ 0.01729892  0.02042518 -0.01618656]\n",
      "[-0.00873779 -0.02834515  0.05484822]\n"
     ]
    }
   ],
   "source": [
    "print(net[0].weight.data()[0])\n",
    "print(net[0].weight.data()[1])\n",
    "print(net[0].weight.data()[2])\n",
    "print(net[0].weight.data()[3])\n",
    "print(net[0].weight.data()[4])"
   ]
  },
  {
   "cell_type": "markdown",
   "metadata": {},
   "source": [
    "### Build-in Initialization"
   ]
  },
  {
   "cell_type": "code",
   "execution_count": 6,
   "metadata": {},
   "outputs": [
    {
     "name": "stdout",
     "output_type": "stream",
     "text": [
      "[3. 3. 3.]\n",
      "[3. 3. 3.]\n",
      "[3. 3. 3.]\n",
      "[3. 3. 3.]\n",
      "[3. 3. 3.]\n"
     ]
    }
   ],
   "source": [
    "from mxnet import init\n",
    "\n",
    "net.initialize(init=init.Constant(3),device=device,force_reinit=True)\n",
    "print(net[0].weight.data()[0])\n",
    "print(net[0].weight.data()[1])\n",
    "print(net[0].weight.data()[2])\n",
    "print(net[0].weight.data()[3])\n",
    "print(net[0].weight.data()[4])"
   ]
  },
  {
   "cell_type": "code",
   "execution_count": 7,
   "metadata": {},
   "outputs": [
    {
     "name": "stdout",
     "output_type": "stream",
     "text": [
      "[-0.38397798 -0.3996415  -0.13511692]\n",
      "[ 0.07022709  0.2015498  -0.15289484]\n",
      "[-0.07078241  0.25188705  0.32647833]\n",
      "[-0.1925947  -0.06670957  0.10161012]\n",
      "[-0.34756812  0.15123469  0.15474765]\n"
     ]
    }
   ],
   "source": [
    "net.initialize(init=init.Normal(sigma=0.2),device=device,force_reinit=True)\n",
    "print(net[0].weight.data()[0])\n",
    "print(net[0].weight.data()[1])\n",
    "print(net[0].weight.data()[2])\n",
    "print(net[0].weight.data()[3])\n",
    "print(net[0].weight.data()[4])"
   ]
  },
  {
   "cell_type": "markdown",
   "metadata": {},
   "source": [
    "### Loss function"
   ]
  },
  {
   "cell_type": "code",
   "execution_count": 8,
   "metadata": {},
   "outputs": [
    {
     "data": {
      "text/plain": [
       "array([[-0.05594432],\n",
       "       [-0.12212431],\n",
       "       [-0.05413363],\n",
       "       [-0.09064993],\n",
       "       [-0.04766688]])"
      ]
     },
     "execution_count": 8,
     "metadata": {},
     "output_type": "execute_result"
    }
   ],
   "source": [
    "net=nn.Dense(1)\n",
    "net.initialize()\n",
    "\n",
    "nn_input=np.array([[1.2,0.56],\n",
    "                    [3.0,0.72],\n",
    "                    [0.89,0.9],\n",
    "                    [0.89,2.3],\n",
    "                    [0.99,0.52]])\n",
    "\n",
    "nn_output=net (nn_input)\n",
    "nn_output"
   ]
  },
  {
   "cell_type": "code",
   "execution_count": 9,
   "metadata": {},
   "outputs": [
    {
     "data": {
      "text/plain": [
       "((5, 1), (5, 1))"
      ]
     },
     "execution_count": 9,
     "metadata": {},
     "output_type": "execute_result"
    }
   ],
   "source": [
    "temp=np.array([[0.0083],\n",
    "               [0.00382],\n",
    "               [0.02061],\n",
    "               [0.00495],\n",
    "               [0.00639]])\n",
    "groundtruth_label=temp.reshape(5,1)\n",
    "temp.shape,groundtruth_label.shape"
   ]
  },
  {
   "cell_type": "code",
   "execution_count": 10,
   "metadata": {},
   "outputs": [
    {
     "data": {
      "text/plain": [
       "array([0.00206367, 0.00793099, 0.00279331, 0.00456967, 0.00146107])"
      ]
     },
     "execution_count": 10,
     "metadata": {},
     "output_type": "execute_result"
    }
   ],
   "source": [
    "def L2Loss(output_value,true_values):\n",
    "    return np.mean((output_value-true_values)**2,axis=1)/2\n",
    "\n",
    "L2Loss(nn_output,groundtruth_label)"
   ]
  },
  {
   "cell_type": "code",
   "execution_count": 11,
   "metadata": {},
   "outputs": [
    {
     "data": {
      "text/plain": [
       "array([0.00206367, 0.00793099, 0.00279331, 0.00456967, 0.00146107])"
      ]
     },
     "execution_count": 11,
     "metadata": {},
     "output_type": "execute_result"
    }
   ],
   "source": [
    "loss=gloss.L2Loss()\n",
    "\n",
    "loss(nn_output,groundtruth_label)"
   ]
  },
  {
   "cell_type": "code",
   "execution_count": 12,
   "metadata": {},
   "outputs": [
    {
     "data": {
      "text/plain": [
       "array([0.06424432, 0.12594432, 0.07474363, 0.09559993, 0.05405688])"
      ]
     },
     "execution_count": 12,
     "metadata": {},
     "output_type": "execute_result"
    }
   ],
   "source": [
    "class custom_L1_loss(gloss.Loss):\n",
    "    def __init__(self, weight=None, batch_axis=0, **kwargs):\n",
    "        super(custom_L1_loss,self).__init__(weight, batch_axis, **kwargs)\n",
    "    def forward(self,pred,label):\n",
    "        l=np.abs(label-pred)\n",
    "        l=l.reshape(len(l),)\n",
    "        return l\n",
    "    \n",
    "L1=custom_L1_loss()\n",
    "L1(nn_output,groundtruth_label)"
   ]
  },
  {
   "cell_type": "code",
   "execution_count": 13,
   "metadata": {},
   "outputs": [
    {
     "data": {
      "text/plain": [
       "array([0.06424432, 0.12594432, 0.07474363, 0.09559993, 0.05405688])"
      ]
     },
     "execution_count": 13,
     "metadata": {},
     "output_type": "execute_result"
    }
   ],
   "source": [
    "l1=gloss.L1Loss()\n",
    "l1(nn_output,groundtruth_label)"
   ]
  },
  {
   "cell_type": "markdown",
   "metadata": {},
   "source": [
    "### Optimizer"
   ]
  },
  {
   "cell_type": "code",
   "execution_count": 14,
   "metadata": {},
   "outputs": [],
   "source": [
    "from mxnet import optimizer"
   ]
  },
  {
   "cell_type": "code",
   "execution_count": 15,
   "metadata": {},
   "outputs": [],
   "source": [
    "trainer=gluon.Trainer(net.collect_params(),\n",
    "                      optimizer=\"Adam\",\n",
    "                      optimizer_params={\n",
    "                          \"learning_rate\":0.1,\n",
    "                          \"wd\":0.001\n",
    "                        })"
   ]
  },
  {
   "cell_type": "code",
   "execution_count": 16,
   "metadata": {},
   "outputs": [
    {
     "name": "stdout",
     "output_type": "stream",
     "text": [
      "[[-0.03444817 -0.02608307]]\n"
     ]
    }
   ],
   "source": [
    "curr_weight=net.weight.data()\n",
    "print(curr_weight)"
   ]
  },
  {
   "cell_type": "code",
   "execution_count": 17,
   "metadata": {},
   "outputs": [
    {
     "name": "stdout",
     "output_type": "stream",
     "text": [
      "[[-0.03444817 -0.02608307]]\n"
     ]
    }
   ],
   "source": [
    "batch_size=len(nn_input)\n",
    "trainer.step(batch_size,ignore_stale_grad=True)\n",
    "print(net.weight.data())"
   ]
  },
  {
   "cell_type": "code",
   "execution_count": 18,
   "metadata": {},
   "outputs": [
    {
     "name": "stdout",
     "output_type": "stream",
     "text": [
      "[[-0.03444817 -0.02608307]]\n"
     ]
    }
   ],
   "source": [
    "print(curr_weight-net.weight.grad()*1/5)"
   ]
  },
  {
   "cell_type": "markdown",
   "metadata": {},
   "source": [
    "### Metrics"
   ]
  },
  {
   "cell_type": "code",
   "execution_count": 19,
   "metadata": {},
   "outputs": [],
   "source": [
    "pred=np.array([[0.1, 0.9], [0.05, 0.95], [0.83, 0.17], [0.63, 0.37]])\n",
    "\n",
    "labels=np.array([1,1,0,1])"
   ]
  },
  {
   "cell_type": "code",
   "execution_count": 20,
   "metadata": {},
   "outputs": [],
   "source": [
    "acc=Accuracy()"
   ]
  },
  {
   "cell_type": "code",
   "execution_count": 21,
   "metadata": {},
   "outputs": [],
   "source": [
    "acc.update(labels=labels,preds=pred)"
   ]
  },
  {
   "cell_type": "markdown",
   "metadata": {},
   "source": [
    "#### Creating custom metrics"
   ]
  },
  {
   "cell_type": "code",
   "execution_count": 22,
   "metadata": {},
   "outputs": [],
   "source": [
    "def MyCustomMetric(EvalMetric):\n",
    "    def __init__(self):\n",
    "        super().init()\n",
    "    def update(self,labels,preds):\n",
    "        pass"
   ]
  }
 ],
 "metadata": {
  "interpreter": {
   "hash": "e7370f93d1d0cde622a1f8e1c04877d8463912d04d973331ad4851f04de6915a"
  },
  "kernelspec": {
   "display_name": "Python 3.10.0 64-bit",
   "language": "python",
   "name": "python3"
  },
  "language_info": {
   "codemirror_mode": {
    "name": "ipython",
    "version": 3
   },
   "file_extension": ".py",
   "mimetype": "text/x-python",
   "name": "python",
   "nbconvert_exporter": "python",
   "pygments_lexer": "ipython3",
   "version": "3.10.0"
  },
  "orig_nbformat": 4
 },
 "nbformat": 4,
 "nbformat_minor": 2
}
